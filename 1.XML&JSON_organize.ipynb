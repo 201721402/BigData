{
 "cells": [
  {
   "cell_type": "markdown",
   "id": "1fe06a7a",
   "metadata": {},
   "source": [
    "### REST API\n",
    "\n",
    "넓게 보면 RESTful API도 웹스크레이핑이라고 볼 수 있다. 그러나, 웹스크레이핑은 HTML 페이지를 대상으로 한다면, REST는 그 대상이 페이지가 아니라 데이터, 자원 resource이다. 물론 웹스크레이핑과 달리, REST는 공식적으로 제공하는 API를 사용한다는 차이가 있다.\n",
    "•\tREST의 API.\n",
    "\n",
    "    \tHTTP Requests와 Responses를 사용하여 데이터를 가져온다.\n",
    "    \n",
    "    \tURI, 자원 ID, HTTP 방법 (POST, DELETE, GET, PUT)을 명시하여 자원 Resource를 읽어 온다.\n",
    "    \n",
    "    \t'자원'은 REST를 사용해서 가져올 수 있는 데이터로 HTML 페이지, XML, Videos 등을 말한다.\n",
    "    \n",
    "    \t데이터는 표현한다는 의미로 Representations이라고 하며 주로 JSON, XML을 많이 쓰고 있다.\n",
    "    \n",
    "    \t자원은 URI 주소 방식에 따라 지정할 수 있다. 뒤에 Query Parameter를 추가할 수 있다. URI를 'endpoint'라고 한다.\n",
    "    \n",
    "http://www.example.com/myresource/1?param1=value1\n",
    "대량 데이터를 가져오는 경우, 연속적 수행에 필요한 pagination, 정해진 데이터 한도 rate limit를 주의한다. HTTP 프로토콜과 같이 상태를 보관하지 않는 특성을 가진다 (stateless).\n"
   ]
  },
  {
   "cell_type": "markdown",
   "id": "44deae53",
   "metadata": {},
   "source": [
    "### REST API 주요 기능\n",
    "\n",
    "API 호출하기위해 request라이브러리 쓴다. \n",
    "\n",
    "!-> 단말의 명령어를 실행시켜라.\n"
   ]
  },
  {
   "cell_type": "code",
   "execution_count": 2,
   "id": "411ab218",
   "metadata": {},
   "outputs": [],
   "source": [
    "import requests\n",
    "r = requests.options(\"http://httpbin.org/\")"
   ]
  },
  {
   "cell_type": "code",
   "execution_count": 3,
   "id": "c6ff0e35",
   "metadata": {},
   "outputs": [
    {
     "name": "stdout",
     "output_type": "stream",
     "text": [
      "HEAD, GET, OPTIONS\n"
     ]
    }
   ],
   "source": [
    "print(r.headers['allow'])"
   ]
  },
  {
   "cell_type": "markdown",
   "id": "36e2ee6e",
   "metadata": {},
   "source": [
    "\n",
    "HTTP에는 코드 번호로 처리한 응답의 상태를 알 수 있다.\n",
    "\n",
    "첫 자리에 따라 구분되고, 끝 두자리는 특별한 의미없이 일련번호로 매겨지게 된다. \n",
    "몇 가지 코드를 살펴보자.\n",
    "\n",
    "•\t200: 앞자리 2는 성공을 의미하며, 200은 HTTP 요청이 성공적으로 접수, 처리되었다는 의미이다.\n",
    "    \n",
    "•\t300: 앞자리 3은 우회 (redirection)를 의미하고, 300은 클라이언트가 어떤 하나를 선택해야 한다는 의미이다.\n",
    "    \n",
    "•\t404: 앞자리 4는 클라이언트측의 오류로서, 404는 찾을 수 없다는, 403은 해당 자원에 대한 접근이 금지되었다는 응답이다.\n",
    "    \n",
    "•\t500: 앞자리 5는 서버측의 오류이다. 500은 서버오류, 501은 서버 미구현을 의미한다.\n"
   ]
  },
  {
   "cell_type": "markdown",
   "id": "d2364e83",
   "metadata": {},
   "source": [
    "###  O.5 많이 쓰이는 웹데이터 형식\n",
    "\n",
    "## O.5.1 XML\n"
   ]
  },
  {
   "cell_type": "markdown",
   "id": "d1982b40",
   "metadata": {},
   "source": [
    "XML, Extensible Markup Language은 확장가능한 마크업이다. JSON과 더불어 많이 사용되는 웹데이터 형식이다. key-value 형식으로 데이터 항목을 구성하고 추가, 삭제, 읽기가 용이하다. Python에서 사용할 수 있는 XML 라이브러리는:\n",
    "\n",
    "•\tElementTree: 파이썬 내장 built-in 라이브러리\n",
    "\n",
    "•\tlxml (larger xml): HTML, XML을 빠르게 파싱할 수 있으며, 별도 설치해야 한다. pip3 install lxml\n",
    "\n",
    "•\txml header\n",
    "\n",
    "\tversion - 1.0과 같이 버전 정보를 넣는다.\n",
    "\n",
    "\tencoding - utf-8을 지정할 수 있다.\n",
    "\n",
    "\troot 앞에 위치한다.\n",
    "\n",
    "<?xml version='1.0' encoding='utf-8'?>\n",
    "\n",
    "•\t태그는 시작태그  foo  끝태그  /foo 로 구성한다.\n",
    "\n",
    "•\t태그는 계층적으로 구성한다. 각 태그는 element라고 한다.\n",
    "\n",
    "\t(1) 루트 element (맨 처음 나오는 element),\n",
    "\n",
    "\t(2) 루트 아래에 있는 elements로 계층적으로 구성, 중첩을 할 수 있다 (nesting element)\n"
   ]
  },
  {
   "attachments": {
    "image.png": {
     "image/png": "[encoded data removed]"
    }
   },
   "cell_type": "markdown",
   "id": "c3ffa0a8",
   "metadata": {},
   "source": [
    "### XML 정의![image.png](attachment:image.png)"
   ]
  },
  {
   "cell_type": "code",
   "execution_count": 122,
   "id": "3271f019",
   "metadata": {},
   "outputs": [],
   "source": [
    "input = '''\n",
    "<students>          # root 태그는 하나만 허용.\n",
    "    <student x=\"1\"> #속성은 시작태그에 적고, key=\"value\"로 구성. value는 따옴표.\n",
    "        <id>001</id># 계층적으로 태그 구성.\n",
    "        <name>Kim</name>\n",
    "    </student>\n",
    "    <student x=\"2\">\n",
    "        <id>002</id>\n",
    "        <name>Lee</name>\n",
    "    </student>\n",
    "</students>\n",
    "'''\n",
    "\n"
   ]
  },
  {
   "cell_type": "markdown",
   "id": "4b9f00df",
   "metadata": {},
   "source": [
    "•\tlxml.etree.fromstring()함수를 사용해서 문자열을 읽는다.\n",
    "\n",
    "•\tlxml.etree.parse()함수는 '파일'을 읽을 경우 사용한다.\n"
   ]
  },
  {
   "cell_type": "markdown",
   "id": "18fc8222",
   "metadata": {},
   "source": [
    "문자열에서 읽으려면 fromstring() 함수를 사용한다."
   ]
  },
  {
   "cell_type": "code",
   "execution_count": 212,
   "id": "be380818",
   "metadata": {},
   "outputs": [],
   "source": [
    "import lxml.etree\n",
    "root=lxml.etree.fromstring(input)\n"
   ]
  },
  {
   "cell_type": "markdown",
   "id": "03fe24b6",
   "metadata": {},
   "source": [
    "parse는 파일에서 xml을 읽는 함수다. parse(문자열)함수에 문자열을 인자를 넣어도 된다. 또는 아래와 같이 파일에서 문자열을 읽어온 후 그 문자열을 사용해도 된다."
   ]
  },
  {
   "cell_type": "code",
   "execution_count": 128,
   "id": "bc7d9afa",
   "metadata": {},
   "outputs": [],
   "source": [
    "from io import StringIO\n",
    "tree=lxml.etree.parse(StringIO(input))\n",
    "root=tree.getroot()"
   ]
  },
  {
   "cell_type": "code",
   "execution_count": 10,
   "id": "8f458ae6",
   "metadata": {},
   "outputs": [
    {
     "name": "stdout",
     "output_type": "stream",
     "text": [
      "Overwriting src/ds_open_hello.xml\n"
     ]
    }
   ],
   "source": [
    "%%writefile src/ds_open_hello.xml\n",
    "<students>\n",
    "<student x=\"1\">\n",
    "    <id>001</id>\n",
    "    <name>Kim</name>\n",
    "</student>\n",
    "<student x=\"2\">\n",
    "    <id>002</id>\n",
    "    <name>Lee</name>\n",
    "</student>\n",
    "</students>\n"
   ]
  },
  {
   "cell_type": "markdown",
   "id": "66328825",
   "metadata": {},
   "source": [
    "데이터를 읽어오면, 태그를 인식한 것처럼 보이지만 그렇지 않다. 파일에서 읽어온 것은 '태그'가 아니라 '문자열'이다. 파싱이 완료된 '태그'가 아니라, 파싱을 해야 하는 '문자열'이다. 태그와 그 안에 포함된 데이터를 인식하기 위해서이다."
   ]
  },
  {
   "cell_type": "markdown",
   "id": "b007c753",
   "metadata": {},
   "source": [
    "•\t반복은 tree 또는 root에서 해도 된다. 아래는 tree에서 for문을 반복한다.\n",
    "\n",
    "•\t루트는 getroot() 함수를 이용함.\n"
   ]
  },
  {
   "cell_type": "code",
   "execution_count": 213,
   "id": "146fcad4",
   "metadata": {},
   "outputs": [],
   "source": [
    "import os\n",
    "tree = lxml.etree.parse(os.path.join('src','ds_open_hello.xml'))"
   ]
  },
  {
   "cell_type": "markdown",
   "id": "a4c9824c",
   "metadata": {},
   "source": [
    "os.path.join를 쓰면 운영체제와 상관없는 경로 만들어줌 "
   ]
  },
  {
   "cell_type": "code",
   "execution_count": 219,
   "id": "3f2ac36c",
   "metadata": {},
   "outputs": [],
   "source": [
    "root=tree.getroot()"
   ]
  },
  {
   "cell_type": "markdown",
   "id": "db171b0f",
   "metadata": {},
   "source": [
    "root는 최상위 노드를 말한다. 그 tag는 'students'이다."
   ]
  },
  {
   "cell_type": "code",
   "execution_count": 220,
   "id": "7a65b9b3",
   "metadata": {},
   "outputs": [
    {
     "data": {
      "text/plain": [
       "str"
      ]
     },
     "execution_count": 220,
     "metadata": {},
     "output_type": "execute_result"
    }
   ],
   "source": [
    "type(root.tag)"
   ]
  },
  {
   "cell_type": "code",
   "execution_count": 221,
   "id": "60e8f753",
   "metadata": {},
   "outputs": [
    {
     "data": {
      "text/plain": [
       "'students'"
      ]
     },
     "execution_count": 221,
     "metadata": {},
     "output_type": "execute_result"
    }
   ],
   "source": [
    "root.tag"
   ]
  },
  {
   "cell_type": "markdown",
   "id": "0cb1bc9f",
   "metadata": {},
   "source": [
    "root의 attrib는 당연히 아무것도 없다.\n"
   ]
  },
  {
   "cell_type": "code",
   "execution_count": 223,
   "id": "febe9f53",
   "metadata": {},
   "outputs": [
    {
     "data": {
      "text/plain": [
       "{}"
      ]
     },
     "execution_count": 223,
     "metadata": {},
     "output_type": "execute_result"
    }
   ],
   "source": [
    "root.attrib"
   ]
  },
  {
   "cell_type": "markdown",
   "id": "96fd86c6",
   "metadata": {},
   "source": [
    "현재 XML 트리에 어떤 태그가 있는지 확인해보자."
   ]
  },
  {
   "cell_type": "code",
   "execution_count": 224,
   "id": "fad40a8f",
   "metadata": {},
   "outputs": [
    {
     "name": "stdout",
     "output_type": "stream",
     "text": [
      "student\n",
      "student\n"
     ]
    }
   ],
   "source": [
    "for e in root:\n",
    "    print(e.tag)\n"
   ]
  },
  {
   "cell_type": "code",
   "execution_count": 225,
   "id": "3932d495",
   "metadata": {},
   "outputs": [
    {
     "data": {
      "text/plain": [
       "[<Element student at 0x7fabcd56a580>, <Element student at 0x7fabcd565440>]"
      ]
     },
     "execution_count": 225,
     "metadata": {},
     "output_type": "execute_result"
    }
   ],
   "source": [
    "root.getchildren()"
   ]
  },
  {
   "cell_type": "markdown",
   "id": "c79aa8d3",
   "metadata": {},
   "source": [
    "타입이 개체니까 <> 로 나옴, {}는 딕셔너리, []는 리스트 "
   ]
  },
  {
   "cell_type": "code",
   "execution_count": 226,
   "id": "62ac9407",
   "metadata": {},
   "outputs": [
    {
     "data": {
      "text/plain": [
       "list"
      ]
     },
     "execution_count": 226,
     "metadata": {},
     "output_type": "execute_result"
    }
   ],
   "source": [
    "type(root.getchildren())"
   ]
  },
  {
   "cell_type": "markdown",
   "id": "6a994fe3",
   "metadata": {},
   "source": [
    "따라서 하나씩 가져오려면 리스트에 대해 index를 사용한다."
   ]
  },
  {
   "cell_type": "code",
   "execution_count": 133,
   "id": "0e15a11a",
   "metadata": {},
   "outputs": [
    {
     "data": {
      "text/plain": [
       "<Element student at 0x7fabcd517f00>"
      ]
     },
     "execution_count": 133,
     "metadata": {},
     "output_type": "execute_result"
    }
   ],
   "source": [
    "root.getchildren()[1]"
   ]
  },
  {
   "cell_type": "markdown",
   "id": "55b36585",
   "metadata": {},
   "source": [
    "\n",
    "<students>\n",
    "<student x=\"1\">\n",
    "    <id>001</id>\n",
    "    <name>Kim</name>\n",
    "</student>\n",
    "<student x=\"2\">\n",
    "    <id>002</id>\n",
    "    <name>Lee</name>\n",
    "</student>\n",
    "</students>\n"
   ]
  },
  {
   "cell_type": "code",
   "execution_count": 170,
   "id": "7d93791c",
   "metadata": {},
   "outputs": [
    {
     "name": "stdout",
     "output_type": "stream",
     "text": [
      "id=>001\n",
      "name=>Kim\n",
      "id=>002\n",
      "name=>Lee\n",
      "{}\n"
     ]
    }
   ],
   "source": [
    "for ee in root.getchildren():\n",
    "    for e in ee.getchildren():\n",
    "        if not e.text:\n",
    "            text = \"none\"\n",
    "        else:\n",
    "            text = e.text\n",
    "        print(e.tag+ \"=>\"+text)\n"
   ]
  },
  {
   "cell_type": "markdown",
   "id": "46b66e8c",
   "metadata": {},
   "source": [
    "위에서 첫번째 ee -> 첫번째 students , e-> 두번째 student"
   ]
  },
  {
   "cell_type": "markdown",
   "id": "e2ae4ba0",
   "metadata": {},
   "source": [
    "•\tgetiterator()를 사용하여, 태그를 하나씩 접근해, tag, text, attribute를 출력한다."
   ]
  },
  {
   "cell_type": "code",
   "execution_count": 145,
   "id": "9e454575",
   "metadata": {},
   "outputs": [
    {
     "name": "stdout",
     "output_type": "stream",
     "text": [
      "태그: students \t 속성: {} \t\t 텍스트:           # root 태그는 하나만 허용.\n",
      "    \n",
      "태그: student \t 속성: {'x': '1'} \t\t 텍스트:  #속성은 시작태그에 적고, key=\"value\"로 구성. value는 따옴표.\n",
      "        \n",
      "태그: id \t 속성: {} \t\t 텍스트: 001\n",
      "태그: name \t 속성: {} \t\t 텍스트: Kim\n",
      "태그: student \t 속성: {'x': '2'} \t\t 텍스트: \n",
      "        \n",
      "태그: id \t 속성: {} \t\t 텍스트: 002\n",
      "태그: name \t 속성: {} \t\t 텍스트: Lee\n"
     ]
    }
   ],
   "source": [
    "for node in root.getiterator():\n",
    "\tprint('태그: {0} \\t 속성: {1} \\t\\t 텍스트: {2}'.format(node.tag, node.attrib, node.text))"
   ]
  },
  {
   "cell_type": "markdown",
   "id": "6d451a68",
   "metadata": {},
   "source": [
    "### XML 검색"
   ]
  },
  {
   "cell_type": "markdown",
   "id": "fb63881e",
   "metadata": {},
   "source": [
    "\n",
    "\t\n",
    "검색은 다음과 같은 find() 함수가 있다.\n",
    "\n",
    "•\titerfind(): 반복적으로 인자와 일치하는 요소를 검색\n",
    "\n",
    "•\tfindall(): 인자와 일치하는 요소들을 리스트로 반환\n",
    "\n",
    "•\tfind(): 인자와 일치하는 첫 요소를 반환\n",
    "\n",
    "•\tfindtext(): 인자와 일치하는 첫 요소의 .text 내용을 반환\n"
   ]
  },
  {
   "cell_type": "code",
   "execution_count": 189,
   "id": "c8b501b3",
   "metadata": {},
   "outputs": [],
   "source": [
    "std=root.find('student')\n"
   ]
  },
  {
   "cell_type": "code",
   "execution_count": 182,
   "id": "b7e46f8f",
   "metadata": {
    "scrolled": true
   },
   "outputs": [
    {
     "data": {
      "text/plain": [
       "'001'"
      ]
     },
     "execution_count": 182,
     "metadata": {},
     "output_type": "execute_result"
    }
   ],
   "source": [
    "root.find('student')[0].text"
   ]
  },
  {
   "cell_type": "code",
   "execution_count": 171,
   "id": "42281d98",
   "metadata": {},
   "outputs": [
    {
     "name": "stdout",
     "output_type": "stream",
     "text": [
      "001\n",
      "Kim\n"
     ]
    }
   ],
   "source": [
    "for node in std:\n",
    "    print (node.text)"
   ]
  },
  {
   "cell_type": "code",
   "execution_count": 30,
   "id": "783f8466",
   "metadata": {},
   "outputs": [
    {
     "name": "stdout",
     "output_type": "stream",
     "text": [
      "{'x': '1'}\n"
     ]
    }
   ],
   "source": [
    "print (std.attrib)"
   ]
  },
  {
   "cell_type": "code",
   "execution_count": 31,
   "id": "2fe20c34",
   "metadata": {},
   "outputs": [
    {
     "data": {
      "text/plain": [
       "'student'"
      ]
     },
     "execution_count": 31,
     "metadata": {},
     "output_type": "execute_result"
    }
   ],
   "source": [
    "std.tag"
   ]
  },
  {
   "cell_type": "markdown",
   "id": "6e6d3dc8",
   "metadata": {},
   "source": [
    "findall() 함수는 student 태그를 모두 검색한다. 따라서 그 결과는 리스트가 된다."
   ]
  },
  {
   "cell_type": "code",
   "execution_count": 32,
   "id": "65db6267",
   "metadata": {},
   "outputs": [],
   "source": [
    "stds=root.findall('student')"
   ]
  },
  {
   "cell_type": "code",
   "execution_count": 35,
   "id": "d4e02d33",
   "metadata": {},
   "outputs": [
    {
     "name": "stdout",
     "output_type": "stream",
     "text": [
      "001\n",
      "Kim\n",
      "002\n",
      "Lee\n"
     ]
    }
   ],
   "source": [
    "for a in stds:\n",
    "    for item in a:\n",
    "        print(item.text)"
   ]
  },
  {
   "cell_type": "markdown",
   "id": "2b9cdec2",
   "metadata": {},
   "source": [
    "### XPath"
   ]
  },
  {
   "cell_type": "markdown",
   "id": "12aa5603",
   "metadata": {},
   "source": [
    "•\t/: 루트 바로 아래 수준만 검색\n",
    "\n",
    "\n",
    "•\t//: 계층의 어느 수준에 있는지 상관하지 않고 일치하는 요소를 검색\n",
    "\n",
    "•\t@: 속성을 검색\n"
   ]
  },
  {
   "cell_type": "markdown",
   "id": "ef0e84fc",
   "metadata": {},
   "source": [
    "//@x는 어느 수준에 있든지 x 속성을 검색해서 그 값을 출력한다."
   ]
  },
  {
   "cell_type": "code",
   "execution_count": 40,
   "id": "e30b5ab1",
   "metadata": {},
   "outputs": [
    {
     "data": {
      "text/plain": [
       "['1', '2']"
      ]
     },
     "execution_count": 40,
     "metadata": {},
     "output_type": "execute_result"
    }
   ],
   "source": [
    "root.xpath('//@x')"
   ]
  },
  {
   "cell_type": "markdown",
   "id": "4474dba8",
   "metadata": {},
   "source": [
    "사각괄호를 사용하게 되면, 그 조건에 맞는 요소만 찾아낸다. [@x=\"1\"]는 속성 x=1인 어떤 요소라도 (와일드카드 * 의미) 찾아내라는 의미이다."
   ]
  },
  {
   "cell_type": "code",
   "execution_count": 192,
   "id": "f7c8a403",
   "metadata": {},
   "outputs": [
    {
     "data": {
      "text/plain": [
       "['002']"
      ]
     },
     "execution_count": 192,
     "metadata": {},
     "output_type": "execute_result"
    }
   ],
   "source": [
    "root.xpath('//*[@x=\"2\"]/id/text()')"
   ]
  },
  {
   "cell_type": "markdown",
   "id": "e5da9e0e",
   "metadata": {},
   "source": [
    "### CSS"
   ]
  },
  {
   "cell_type": "markdown",
   "id": "4e7b3d66",
   "metadata": {},
   "source": [
    "lxml은 XPath 뿐만 아니라, CSS를 통한 검색도 지원한다. \n",
    "\n",
    "cssselect는 별도의 라이브러리이고 lxml을 통해서 사용할 수 있다. \n",
    "\n",
    "따라서 다음과 같이 먼저 설치를 해야한다.\n",
    "\n",
    "pip install cssselect\n",
    "\n",
    "그리고 나서 lxml.cssselect를 통해서 CSSSelector를 사용하게 된다.\n",
    "\n",
    "CSSSelector는 일치하는 XML 요소를 검색하지만, \n",
    "\n",
    "사용하는 문법이 XPath가 아니라 css이라는 점이 다르다.\n",
    "\n",
    "HTML의 스타일을 지정하는 용도로 사용되기 때문에 HTML과 관련한 문법을 가지고 있다.\n",
    "\n",
    "•\t.class: 예를 들어, .myClass는 class=\"myClass\"인 태그를 검색\n",
    "    \n",
    "•\t#id: 예를 들어, #myId는 id=\"myId\"인 태그를 검색 그 외에도 HTML을 지원하는 문법이 있다.\n",
    "아래는 CSSSelector에 'student'문자열을 인자로 넘겨주고 있다. \n",
    "\n",
    "이는 'student'를 가지는 태그를 검색한다는 뜻이다. \n",
    "\n",
    "앞서 XML 태그를 보면, 해당하는 태그는 2개가 있다.\n",
    "\n"
   ]
  },
  {
   "cell_type": "code",
   "execution_count": 194,
   "id": "607c5502",
   "metadata": {},
   "outputs": [],
   "source": [
    "from lxml.cssselect import CSSSelector\n",
    "\n",
    "sel = CSSSelector('student') # construct a CSS Selector"
   ]
  },
  {
   "cell_type": "code",
   "execution_count": 195,
   "id": "c3178969",
   "metadata": {},
   "outputs": [
    {
     "data": {
      "text/plain": [
       "<CSSSelector 7fabcd541ac0 for 'student'>"
      ]
     },
     "execution_count": 195,
     "metadata": {},
     "output_type": "execute_result"
    }
   ],
   "source": [
    "sel"
   ]
  },
  {
   "cell_type": "code",
   "execution_count": 196,
   "id": "c583a491",
   "metadata": {},
   "outputs": [
    {
     "data": {
      "text/plain": [
       "'student'"
      ]
     },
     "execution_count": 196,
     "metadata": {},
     "output_type": "execute_result"
    }
   ],
   "source": [
    "sel.css"
   ]
  },
  {
   "cell_type": "code",
   "execution_count": 197,
   "id": "b9ce6f86",
   "metadata": {},
   "outputs": [
    {
     "data": {
      "text/plain": [
       "'descendant-or-self::student'"
      ]
     },
     "execution_count": 197,
     "metadata": {},
     "output_type": "execute_result"
    }
   ],
   "source": [
    "sel.path"
   ]
  },
  {
   "cell_type": "markdown",
   "id": "9ae0e748",
   "metadata": {},
   "source": [
    "앞서와 같이 XML의 root를 생성한 후, 앞서의 CSSSelector를 적용해보자."
   ]
  },
  {
   "cell_type": "code",
   "execution_count": 198,
   "id": "410460bb",
   "metadata": {},
   "outputs": [],
   "source": [
    "root=lxml.etree.fromstring(input)"
   ]
  },
  {
   "cell_type": "code",
   "execution_count": 202,
   "id": "77834d42",
   "metadata": {},
   "outputs": [],
   "source": [
    "nodes = sel(root)"
   ]
  },
  {
   "cell_type": "markdown",
   "id": "2c2258f2",
   "metadata": {},
   "source": [
    "css selector의 결과는 list이다."
   ]
  },
  {
   "cell_type": "code",
   "execution_count": 203,
   "id": "d24f1a0e",
   "metadata": {},
   "outputs": [
    {
     "data": {
      "text/plain": [
       "list"
      ]
     },
     "execution_count": 203,
     "metadata": {},
     "output_type": "execute_result"
    }
   ],
   "source": [
    "type(nodes)"
   ]
  },
  {
   "cell_type": "code",
   "execution_count": 204,
   "id": "87ca55f3",
   "metadata": {},
   "outputs": [
    {
     "data": {
      "text/plain": [
       "2"
      ]
     },
     "execution_count": 204,
     "metadata": {},
     "output_type": "execute_result"
    }
   ],
   "source": [
    "len(nodes)"
   ]
  },
  {
   "cell_type": "code",
   "execution_count": 207,
   "id": "3040adfa",
   "metadata": {},
   "outputs": [
    {
     "name": "stdout",
     "output_type": "stream",
     "text": [
      "1\n",
      "2\n"
     ]
    }
   ],
   "source": [
    "for i in nodes:\n",
    "    print(i.get('x'))"
   ]
  },
  {
   "cell_type": "markdown",
   "id": "fb16739a",
   "metadata": {},
   "source": [
    "%%writefile src/ds_open_hello.xml\n",
    "<students>\n",
    "<student x=\"1\">\n",
    "    <id>001</id>\n",
    "    <name>Kim</name>\n",
    "</student>\n",
    "<student x=\"2\">\n",
    "    <id>002</id>\n",
    "    <name>Lee</name>\n",
    "</student>\n",
    "</students>\n"
   ]
  },
  {
   "cell_type": "markdown",
   "id": "94b6b992",
   "metadata": {},
   "source": [
    "특정한 요소의 텍스트를 출력해보자. CSSSelector를 재설정해 주어야 한다.!"
   ]
  },
  {
   "cell_type": "code",
   "execution_count": 208,
   "id": "bafe880d",
   "metadata": {},
   "outputs": [
    {
     "name": "stdout",
     "output_type": "stream",
     "text": [
      "[<Element id at 0x7fabcd517680>, <Element id at 0x7fabcd517c80>]\n"
     ]
    }
   ],
   "source": [
    "from lxml.cssselect import CSSSelector\n",
    "\n",
    "sel = CSSSelector('id') # construct a CSS Selector\n",
    "nodes = sel(root)\n",
    "print(nodes)"
   ]
  },
  {
   "cell_type": "code",
   "execution_count": 66,
   "id": "b6a9e80f",
   "metadata": {},
   "outputs": [
    {
     "data": {
      "text/plain": [
       "list"
      ]
     },
     "execution_count": 66,
     "metadata": {},
     "output_type": "execute_result"
    }
   ],
   "source": [
    "type(nodes)"
   ]
  },
  {
   "cell_type": "code",
   "execution_count": 70,
   "id": "ecfdd2cf",
   "metadata": {},
   "outputs": [
    {
     "data": {
      "text/plain": [
       "'001'"
      ]
     },
     "execution_count": 70,
     "metadata": {},
     "output_type": "execute_result"
    }
   ],
   "source": [
    "nodes[0].text"
   ]
  },
  {
   "cell_type": "code",
   "execution_count": 68,
   "id": "892baa22",
   "metadata": {},
   "outputs": [
    {
     "name": "stdout",
     "output_type": "stream",
     "text": [
      "001\n"
     ]
    }
   ],
   "source": [
    "print(nodes[0].text)"
   ]
  },
  {
   "cell_type": "code",
   "execution_count": 71,
   "id": "54ef3c5c",
   "metadata": {},
   "outputs": [
    {
     "name": "stdout",
     "output_type": "stream",
     "text": [
      "001\n",
      "002\n"
     ]
    }
   ],
   "source": [
    "for e in nodes:\n",
    "    print(e.text)"
   ]
  },
  {
   "cell_type": "markdown",
   "id": "1e02b5a2",
   "metadata": {},
   "source": [
    "### O.5.2 JSON"
   ]
  },
  {
   "cell_type": "markdown",
   "id": "646de7a6",
   "metadata": {},
   "source": [
    "JSON (JavaScript Object Notation)은 Javascript에서 사용하는 표기이고, Python의 dictionary형식과 같다."
   ]
  },
  {
   "cell_type": "code",
   "execution_count": 231,
   "id": "5545d2ab",
   "metadata": {},
   "outputs": [],
   "source": [
    "input = '''[\n",
    "    { \"id\" : \"001\", \"x\" : \"2\", \"name\" : \"Chuck\"},\n",
    "    { \"id\" : \"009\",\"x\" : \"7\",\"name\" : \"Brent\" }\n",
    "]'''\n"
   ]
  },
  {
   "cell_type": "markdown",
   "id": "003aae63",
   "metadata": {},
   "source": [
    "그리고 나서, ```loads()``` 함수를 사용하여 문자열을 JSON으로 파싱한다."
   ]
  },
  {
   "cell_type": "code",
   "execution_count": 235,
   "id": "4b1e41b2",
   "metadata": {},
   "outputs": [
    {
     "name": "stdout",
     "output_type": "stream",
     "text": [
      "001\n"
     ]
    }
   ],
   "source": [
    "import json\n",
    "\n",
    "info = json.loads(input)\n"
   ]
  },
  {
   "cell_type": "markdown",
   "id": "3b0a728d",
   "metadata": {},
   "source": [
    "JSON에 요소가 몇 개인지, str.format() 형식으로 출력해보자."
   ]
  },
  {
   "cell_type": "code",
   "execution_count": 78,
   "id": "1b794e2f",
   "metadata": {},
   "outputs": [
    {
     "data": {
      "text/plain": [
       "'User count:2'"
      ]
     },
     "execution_count": 78,
     "metadata": {},
     "output_type": "execute_result"
    }
   ],
   "source": [
    "'User count:{}'.format(len(info))\n",
    "#.format -> 새로운 문법나옴 {}안에 len(info)이거 넣어서 출력이된다. \n",
    "\n"
   ]
  },
  {
   "cell_type": "code",
   "execution_count": 80,
   "id": "618308b3",
   "metadata": {},
   "outputs": [
    {
     "name": "stdout",
     "output_type": "stream",
     "text": [
      "id: 001\t name:Chuck\n",
      "id: 009\t name:Brent\n"
     ]
    }
   ],
   "source": [
    "for item in info:\n",
    "    print(\"id: {}\\t name:{}\".format(item['id'], item['name']))"
   ]
  },
  {
   "cell_type": "code",
   "execution_count": 85,
   "id": "3fa9e857",
   "metadata": {},
   "outputs": [
    {
     "name": "stdout",
     "output_type": "stream",
     "text": [
      "009\n"
     ]
    }
   ],
   "source": [
    "print(info[1]['id'])"
   ]
  },
  {
   "cell_type": "markdown",
   "id": "3fc0f0ad",
   "metadata": {},
   "source": [
    "dumps()는 Python dictionary를 JSON 문자열로 변환하는 함수이다. 아래는 튜플 (() 괄호), None과 같은 파이썬 문법을 포함하고 있다."
   ]
  },
  {
   "cell_type": "code",
   "execution_count": 86,
   "id": "86a25eb8",
   "metadata": {},
   "outputs": [],
   "source": [
    "import json\n",
    "my=json.dumps(\n",
    "    ['foo', {'bar': ('baz', None, 1.0, 2)}]\n",
    ")\n"
   ]
  },
  {
   "cell_type": "code",
   "execution_count": 87,
   "id": "6e1dc785",
   "metadata": {},
   "outputs": [
    {
     "data": {
      "text/plain": [
       "str"
      ]
     },
     "execution_count": 87,
     "metadata": {},
     "output_type": "execute_result"
    }
   ],
   "source": [
    "type(my)"
   ]
  },
  {
   "cell_type": "code",
   "execution_count": 88,
   "id": "69f91302",
   "metadata": {},
   "outputs": [
    {
     "name": "stdout",
     "output_type": "stream",
     "text": [
      "[\"foo\", {\"bar\": [\"baz\", null, 1.0, 2]}]\n"
     ]
    }
   ],
   "source": [
    "print(my)"
   ]
  },
  {
   "cell_type": "markdown",
   "id": "e45feaa5",
   "metadata": {},
   "source": [
    "()가 []로 None이 null로 출력이됨 -> 자바스크립트에서 사용하는 문법으로 바뀜"
   ]
  },
  {
   "cell_type": "markdown",
   "id": "32f60673",
   "metadata": {},
   "source": [
    "### 문제 1: IP 주소에서 지역정보 알아내기"
   ]
  },
  {
   "cell_type": "markdown",
   "id": "21b428f3",
   "metadata": {},
   "source": [
    "인터넷 주소를 판단하여, 누가 어디서 접근하는지 알아내려고 한다고 하자. 이런 기능을 스스로 구현하려고 한다면, 네트워크를 분석해서 인터넷주소의 지역정보를 알아내야 한다. 그러나 Open API를 사용하면, 자신의 프로그래밍 없이 필요로 하는 기능을 완성할 수 있는 '지름길'이 있다.\n",
    "\n",
    "ipstack api를 사용해 보자. ip주소의 국가, 위경도, 지역을 알아내는 API를 제공한다.\n",
    "\n",
    "아래와 같이, IP주소와 인증키를 넣어 url을 완성한 후 서비스를 요청하면 된다. \n",
    "\n",
    "회원에 가입하면, 주어지는 API Access Key를 사용하면 된다 (d7cdd0602f68e39767eba8a0e245e849).\n"
   ]
  },
  {
   "cell_type": "code",
   "execution_count": 298,
   "id": "4b010b7c",
   "metadata": {},
   "outputs": [],
   "source": [
    "url='http://api.ipstack.com/125.176.129.177?access_key=d7cdd0602f68e39767eba8a0e245e849'"
   ]
  },
  {
   "cell_type": "code",
   "execution_count": 313,
   "id": "b4513b3b",
   "metadata": {},
   "outputs": [
    {
     "data": {
      "text/plain": [
       "'{\"ip\": \"125.176.129.177\", \"type\": \"ipv4\", \"continent_code\": \"AS\", \"continent_name\": \"Asia\", \"country_code\": \"KR\", \"country_name\": \"South Korea\", \"region_code\": \"11\", \"region_name\": \"Seoul\", \"city\": \"Seoul\", \"zip\": \"100-011\", \"latitude\": 37.56100082397461, \"longitude\": 126.98265075683594, \"location\": {\"geoname_id\": 1835848, \"capital\": \"Seoul\", \"languages\": [{\"code\": \"ko\", \"name\": \"Korean\", \"native\": \"\\\\ud55c\\\\uad6d\\\\uc5b4\"}], \"country_flag\": \"https://assets.ipstack.com/flags/kr.svg\", \"country_flag_emoji\": \"\\\\ud83c\\\\uddf0\\\\ud83c\\\\uddf7\", \"country_flag_emoji_unicode\": \"U+1F1F0 U+1F1F7\", \"calling_code\": \"82\", \"is_eu\": false}}'"
      ]
     },
     "execution_count": 313,
     "metadata": {},
     "output_type": "execute_result"
    }
   ],
   "source": [
    "import requests\n",
    "\n",
    "r = requests.get(url)\n",
    "r.text"
   ]
  },
  {
   "cell_type": "markdown",
   "id": "8f6ebdc3",
   "metadata": {},
   "source": [
    "클라이언트 -> 서버로 request가 넘어간다. r 안에는 response가 들어있다. \n",
    "\n",
    "결과는 XML 또는 JSON 형식이다.\n"
   ]
  },
  {
   "cell_type": "code",
   "execution_count": 292,
   "id": "ea2d4b43",
   "metadata": {},
   "outputs": [],
   "source": [
    "import json\n",
    "geo=json.loads(r.text)"
   ]
  },
  {
   "cell_type": "code",
   "execution_count": 274,
   "id": "72254abf",
   "metadata": {},
   "outputs": [
    {
     "name": "stdout",
     "output_type": "stream",
     "text": [
      "<class 'dict'>\n"
     ]
    }
   ],
   "source": [
    "print(type(geo))"
   ]
  },
  {
   "cell_type": "code",
   "execution_count": 107,
   "id": "0a6056da",
   "metadata": {},
   "outputs": [
    {
     "data": {
      "text/plain": [
       "'125.176.129.177'"
      ]
     },
     "execution_count": 107,
     "metadata": {},
     "output_type": "execute_result"
    }
   ],
   "source": [
    "geo.get('ip')"
   ]
  },
  {
   "cell_type": "code",
   "execution_count": 108,
   "id": "616dd6cf",
   "metadata": {},
   "outputs": [
    {
     "data": {
      "text/plain": [
       "'Seoul'"
      ]
     },
     "execution_count": 108,
     "metadata": {},
     "output_type": "execute_result"
    }
   ],
   "source": [
    "geo['city']"
   ]
  },
  {
   "cell_type": "markdown",
   "id": "8c2a51af",
   "metadata": {},
   "source": [
    "•\tfor문을 사용해서 모든 값을 읽을 수 있다.\n",
    "\n",
    "•\t그러나 json은 key-value의 쌍으로 구성되어 있기 때문에 반복문에 k,v를 사용해야 한다. 또한 dictionary를 하나씩 가져와야 하기 때문에 iterator를 사용하고 있다.\n"
   ]
  },
  {
   "cell_type": "code",
   "execution_count": 286,
   "id": "47a18020",
   "metadata": {},
   "outputs": [
    {
     "name": "stdout",
     "output_type": "stream",
     "text": [
      "ip \t:  125.176.129.177\n",
      "type \t:  ipv4\n",
      "continent_code \t:  AS\n",
      "continent_name \t:  Asia\n",
      "country_code \t:  KR\n",
      "country_name \t:  South Korea\n",
      "region_code \t:  11\n",
      "region_name \t:  Seoul\n",
      "city \t:  Seoul\n",
      "zip \t:  100-011\n",
      "latitude \t:  37.56100082397461\n",
      "longitude \t:  126.98265075683594\n",
      "location \t:  {'geoname_id': 1835848, 'capital': 'Seoul', 'languages': [{'code': 'ko', 'name': 'Korean', 'native': '한국어'}], 'country_flag': 'https://assets.ipstack.com/flags/kr.svg', 'country_flag_emoji': '🇰🇷', 'country_flag_emoji_unicode': 'U+1F1F0 U+1F1F7', 'calling_code': '82', 'is_eu': False}\n"
     ]
    }
   ],
   "source": [
    "for k,v in geo.items(): \n",
    "    print (k,\"\\t: \",v)"
   ]
  },
  {
   "cell_type": "markdown",
   "id": "1c330f39",
   "metadata": {},
   "source": [
    "#딕셔너리니까 각각의 쌍으로 이루어짐 두개를 추출한다. \n",
    "분리를  tab으로 한칸 띄운다. \n"
   ]
  },
  {
   "cell_type": "markdown",
   "id": "95541ae2",
   "metadata": {},
   "source": [
    "일괄실행"
   ]
  },
  {
   "cell_type": "code",
   "execution_count": 273,
   "id": "40039e72",
   "metadata": {},
   "outputs": [
    {
     "name": "stdout",
     "output_type": "stream",
     "text": [
      "ip \t:  125.176.129.177\n",
      "type \t:  ipv4\n",
      "continent_code \t:  AS\n",
      "continent_name \t:  Asia\n",
      "country_code \t:  KR\n",
      "country_name \t:  South Korea\n",
      "region_code \t:  11\n",
      "region_name \t:  Seoul\n",
      "city \t:  Seoul\n",
      "zip \t:  100-011\n",
      "latitude \t:  37.56100082397461\n",
      "longitude \t:  126.98265075683594\n",
      "location \t:  {'geoname_id': 1835848, 'capital': 'Seoul', 'languages': [{'code': 'ko', 'name': 'Korean', 'native': '한국어'}], 'country_flag': 'https://assets.ipstack.com/flags/kr.svg', 'country_flag_emoji': '🇰🇷', 'country_flag_emoji_unicode': 'U+1F1F0 U+1F1F7', 'calling_code': '82', 'is_eu': False}\n"
     ]
    }
   ],
   "source": [
    "import json\n",
    "import requests\n",
    "\n",
    "url='http://api.ipstack.com/125.176.129.177?access_key=d7cdd0602f68e39767eba8a0e245e849'\n",
    "r=requests.get(url)\n",
    "geo = json.loads(r.text)\n",
    "for k,v in geo.items():\n",
    "    print (k,\"\\t: \",v)\n"
   ]
  },
  {
   "cell_type": "code",
   "execution_count": 315,
   "id": "8cf2cbd8",
   "metadata": {},
   "outputs": [
    {
     "name": "stdout",
     "output_type": "stream",
     "text": [
      "ip \t 125.176.129.177\n",
      "type \t ipv4\n",
      "continent_code \t AS\n",
      "continent_name \t Asia\n",
      "country_code \t KR\n",
      "country_name \t South Korea\n",
      "region_code \t 11\n",
      "region_name \t Seoul\n",
      "city \t Seoul\n",
      "zip \t 100-011\n",
      "latitude \t 37.56100082397461\n",
      "longitude \t 126.98265075683594\n",
      "location \t {'geoname_id': 1835848, 'capital': 'Seoul', 'languages': [{'code': 'ko', 'name': 'Korean', 'native': '한국어'}], 'country_flag': 'https://assets.ipstack.com/flags/kr.svg', 'country_flag_emoji': '🇰🇷', 'country_flag_emoji_unicode': 'U+1F1F0 U+1F1F7', 'calling_code': '82', 'is_eu': False}\n"
     ]
    }
   ],
   "source": [
    "import json\n",
    "import requests\n",
    "\n",
    "url='http://api.ipstack.com/125.176.129.177?access_key=d7cdd0602f68e39767eba8a0e245e849'\n",
    "r=requests.get(url)\n",
    "js = json.loads(r.text)\n",
    "js.items()\n",
    "for k,v in js.items():\n",
    "    print(k,'\\t',v)"
   ]
  },
  {
   "cell_type": "code",
   "execution_count": null,
   "id": "d1881c76",
   "metadata": {},
   "outputs": [],
   "source": []
  }
 ],
 "metadata": {
  "kernelspec": {
   "display_name": "Python 3",
   "language": "python",
   "name": "python3"
  },
  "language_info": {
   "codemirror_mode": {
    "name": "ipython",
    "version": 3
   },
   "file_extension": ".py",
   "mimetype": "text/x-python",
   "name": "python",
   "nbconvert_exporter": "python",
   "pygments_lexer": "ipython3",
   "version": "3.8.8"
  }
 },
 "nbformat": 4,
 "nbformat_minor": 5
}
