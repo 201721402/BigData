{
 "cells": [
  {
   "cell_type": "markdown",
   "id": "cce8184e",
   "metadata": {},
   "source": [
    "## 서울 열린 데이터 (data seoul)\n",
    "### 1. json"
   ]
  },
  {
   "cell_type": "code",
   "execution_count": 7,
   "id": "507b7836",
   "metadata": {},
   "outputs": [
    {
     "name": "stdout",
     "output_type": "stream",
     "text": [
      "Writing src/pra1key.properties\n"
     ]
    }
   ],
   "source": [
    "%%writefile src/pra1key.properties\n",
    "\n",
    "dataseoul=4179455955736b6536317642646d45"
   ]
  },
  {
   "cell_type": "markdown",
   "id": "159708df",
   "metadata": {},
   "source": []
  },
  {
   "cell_type": "code",
   "execution_count": 54,
   "id": "330ce560",
   "metadata": {},
   "outputs": [
    {
     "name": "stdout",
     "output_type": "stream",
     "text": [
      "Overwriting src/pra1.py\n"
     ]
    }
   ],
   "source": [
    "%%writefile src/pra1.py\n",
    "import os\n",
    "import urllib\n",
    "import requests\n",
    "import mylib\n",
    "import json\n",
    "from pymongo import MongoClient\n",
    "\n",
    "Client = MongoClient('localhost:27017')\n",
    "_db=Client['ds_open_subwayPassengersDb'] #db created by mongo. You do not have to create this.\n",
    "_table=_db['db_open_subwayTable'] #collection\n",
    "#db=Client.ds_rest_subwayPassengers\n",
    "\n",
    "def saveDB(_data):\n",
    "    _table.insert_one(_data)\n",
    "\n",
    "def saveFile(_fname,_data):\n",
    "    fp=open(_fname,'a')\n",
    "    fp.write(_data+\"\\n\")\n",
    "    fp.close()\n",
    "\n",
    "def readDB():\n",
    "    for tweet in _table.find():\n",
    "        print (tweet['id'],tweet['text'])\n",
    "        \n",
    "def saveJson(_fname,_data):\n",
    "    import io\n",
    "    with io.open(_fname, 'a', encoding='utf8') as json_file:\n",
    "        #_j=json.dumps(_data, json_file, ensure_ascii=False, encoding='utf8') # python2\n",
    "        _j=json.dump(_data, json_file, ensure_ascii=False)\n",
    "        json_file.write(str(_j)+\"\\n\")\n",
    "\n",
    "def doIt():\n",
    "    path = os.path.join(os.getcwd(),'src','key.properties')\n",
    "    key = mylib.getKey(path)\n",
    "    real_key = str(key['dataseoul'])\n",
    "\n",
    "    KEY = real_key\n",
    "    TYPE = 'json'\n",
    "    SERVICE = \"SearchSTNBySubwayLineInfo\"\n",
    "    startindex = 1\n",
    "    endindex=10\n",
    "    a=0\n",
    "    while True:\n",
    "  \n",
    "        START_INDEX = str(startindex)\n",
    "        END_INDEX = str(endindex)\n",
    "        _url = \"http://openapi.seoul.go.kr:8088\"\n",
    "        params = \"/\".join([KEY, TYPE, SERVICE, START_INDEX, END_INDEX])\n",
    "        url = \"/\".join([_url,params])\n",
    "\n",
    "        r = requests.get(url)\n",
    "        data = r.json()\n",
    "        if(startindex == 1):\n",
    "            total_index = data['SearchSTNBySubwayLineInfo']['list_total_count']\n",
    "            print(\"-totalcount: \",total_index)\n",
    "        \n",
    "\n",
    "        for i in data[\"SearchSTNBySubwayLineInfo\"][\"row\"]:\n",
    "            print(u\"{0:4s}\\t{1:15s}\\t{2:3s}\".format(i['STATION_CD'],i['STATION_NM'],i['STATION_NM_ENG']))\n",
    "        startindex +=10\n",
    "        endindex +=10\n",
    "        a +=1\n",
    "        \n",
    "        if(endindex > total_index):\n",
    "            print(\"----------끝------------\")\n",
    "            print(a)\n",
    "            break\n",
    "    _name='src/pra1.json'\n",
    "    saveJson(_name,data)\n",
    "    saveDB(data)\n",
    "if __name__ ==\"__main__\":\n",
    "    doIt()"
   ]
  },
  {
   "cell_type": "code",
   "execution_count": 55,
   "id": "f0df8c2d",
   "metadata": {
    "scrolled": true
   },
   "outputs": [
    {
     "name": "stdout",
     "output_type": "stream",
     "text": [
      "src/pra1.json           src/pra1key.properties\r\n",
      "src/pra1.py             src/pra2.py\r\n"
     ]
    }
   ],
   "source": [
    "ls src/pra*"
   ]
  },
  {
   "cell_type": "code",
   "execution_count": null,
   "id": "60ce6d44",
   "metadata": {},
   "outputs": [],
   "source": [
    "!python3 src/pra1.py"
   ]
  },
  {
   "cell_type": "markdown",
   "id": "6757b086",
   "metadata": {},
   "source": [
    "## 2. xml"
   ]
  },
  {
   "cell_type": "code",
   "execution_count": 27,
   "id": "d1d011c3",
   "metadata": {},
   "outputs": [
    {
     "name": "stdout",
     "output_type": "stream",
     "text": [
      "Overwriting src/pra2.py\n"
     ]
    }
   ],
   "source": [
    "%%writefile src/pra2.py\n",
    "#!/usr/bin/env python\n",
    "# coding: utf-8\n",
    "import os\n",
    "import requests\n",
    "import urllib\n",
    "import mylib # NO! src.mylib\n",
    "import lxml\n",
    "import lxml.etree\n",
    "from io import StringIO\n",
    "\n",
    "def doIt():\n",
    "    path = os.path.join(os.getcwd(),'src','key.properties')\n",
    "    key = mylib.getKey(path)\n",
    "    real_key = str(key['dataseoul'])\n",
    "    \n",
    "    \n",
    "    KEY = real_key\n",
    "    TYPE = 'xml'\n",
    "    SERVICE = \"SearchSTNBySubwayLineInfo\"\n",
    "    startindex = 1\n",
    "    endindex=10\n",
    "    \n",
    "    while True:\n",
    "        STARTINDEX = str(startindex)\n",
    "        ENDINDEX = str(endindex)\n",
    "        \n",
    "        _url='http://openAPI.seoul.go.kr:8088'\n",
    "        params = \"/\".join([KEY, TYPE, SERVICE, STARTINDEX, ENDINDEX])\n",
    "        url = \"/\".join([_url, params])\n",
    "        \n",
    "        r = requests.get(url).text\n",
    "        tree = lxml.etree.fromstring(r.encode('utf-8'))\n",
    "        \n",
    "        if(startindex ==1):\n",
    "            for i in tree.xpath('//list_total_count'):\n",
    "                last_number = i.text\n",
    "                print(\"---total count: \", i.text)\n",
    "                \n",
    "        for i in tree.xpath('//STATION_NM'):\n",
    "            print(i.text, end=', ')\n",
    "        \n",
    "        if(startindex > int(last_number) ):\n",
    "            print(\"---------end\", last_number)\n",
    "            break\n",
    "        startindex +=10\n",
    "        endindex += 10\n",
    "            \n",
    "\n",
    "    \n",
    "    \n",
    "if __name__ ==\"__main__\":\n",
    "    doIt()"
   ]
  },
  {
   "cell_type": "markdown",
   "id": "5657a1d9",
   "metadata": {},
   "source": [
    "## 공공 데이터 포털(data seoul)"
   ]
  },
  {
   "cell_type": "code",
   "execution_count": 11,
   "id": "62fabfc3",
   "metadata": {},
   "outputs": [
    {
     "name": "stdout",
     "output_type": "stream",
     "text": [
      "Overwriting src/pra3.py\n"
     ]
    }
   ],
   "source": [
    "%%writefile src/pra3.py\n",
    "import urllib\n",
    "import mylib\n",
    "import requests\n",
    "import json\n",
    "import lxml\n",
    "import lxml.etree\n",
    "import os\n",
    "from pymongo import MongoClient\n",
    "\n",
    "def saveFile(_fname,_data):\n",
    "    fp=open(_fname,'a')\n",
    "    fp.write(_data+'\\n')\n",
    "    fp.close()\n",
    "    \n",
    "def doit():\n",
    "    keyPath = os.path.join(os.getcwd(),'src','week2_assign_key.properties')\n",
    "    key = mylib.getKey(keyPath)\n",
    "    real_key = str(key['gokr'])\n",
    "    serviceKey = real_key\n",
    "    \n",
    "    _d = dict()\n",
    "    _d['title'] = '파이썬'\n",
    "    _d['manageCd'] = 'MA'\n",
    "    _d['numOfRows'] = '20'\n",
    "    _d['pageNo'] = '2'\n",
    "    \n",
    "    params2 = urllib.parse.urlencode(_d)\n",
    "    _url = 'http://openapi-lib.sen.go.kr/openapi/service/lib/openApi'\n",
    "    url = _url +'?' + 'serviceKey='+serviceKey+'&'+params2\n",
    "    \n",
    "    r = requests.get(url).text\n",
    "    tree = lxml.etree.fromstring(r.encode('utf-8')) \n",
    "    data = tree.xpath(\"//title\")\n",
    "    \n",
    "    for i in data:\n",
    "        print(\"제목: \", i.text)\n",
    "    \n",
    "\n",
    "    _fname = \"src/pra3.txt\"\n",
    "    saveFile(_fname,r)\n",
    "\n",
    "if __name__ == \"__main__\":\n",
    "    doit()"
   ]
  },
  {
   "cell_type": "code",
   "execution_count": null,
   "id": "8ea1cef6",
   "metadata": {},
   "outputs": [],
   "source": [
    "!python3 src/pra3.py"
   ]
  },
  {
   "cell_type": "code",
   "execution_count": 3,
   "id": "abe44a0d",
   "metadata": {},
   "outputs": [
    {
     "name": "stdout",
     "output_type": "stream",
     "text": [
      "src/pra3.py  src/pra3.txt\r\n"
     ]
    }
   ],
   "source": [
    "!ls src/pra3*"
   ]
  },
  {
   "cell_type": "code",
   "execution_count": null,
   "id": "bd230f47",
   "metadata": {},
   "outputs": [],
   "source": [
    "!cat src/pra3.txt"
   ]
  },
  {
   "cell_type": "code",
   "execution_count": null,
   "id": "51e56fc7",
   "metadata": {},
   "outputs": [],
   "source": [
    "%%writefile src/pra4.py\n",
    "import urllib\n",
    "import mylib\n",
    "import requests\n",
    "import json\n",
    "import lxml\n",
    "import lxml.etree\n",
    "import os\n",
    "from pymongo import MongoClient\n",
    "\n",
    "def saveFile(_fname,_data):\n",
    "    fp=open(_fname,'a')\n",
    "    fp.write(_data+'\\n')\n",
    "    fp.close()\n",
    "    \n",
    "def doit():\n",
    "    keyPath = os.path.join(os.getcwd(),'src','week2_assign_key.properties')\n",
    "    key = mylib.getKey(keyPath)\n",
    "    real_key = str(key['gokr'])\n",
    "    serviceKey = real_key\n",
    "    \n",
    "    _d = dict()\n",
    "    _d['title'] = '파이썬'\n",
    "    _d['manageCd'] = 'MA'\n",
    "    _d['numOfRows'] = '20'\n",
    "    _d['pageNo'] = '2'\n",
    "    \n",
    "    params2 = urllib.parse.urlencode(_d)\n",
    "    _url = 'http://openapi-lib.sen.go.kr/openapi/service/lib/openApi'\n",
    "    url = _url +'?' + 'serviceKey='+serviceKey+'&'+params2\n",
    "    \n",
    "    r = requests.get(url).text\n",
    "    tree = lxml.etree.fromstring(r.encode('utf-8')) \n",
    "    data = tree.xpath(\"//title\")\n",
    "    \n",
    "    for i in data:\n",
    "        print(\"제목: \", i.text)\n",
    "    \n",
    "\n",
    "    _fname = \"src/pra3.txt\"\n",
    "    saveFile(_fname,r)\n",
    "\n",
    "if __name__ == \"__main__\":\n",
    "    doit()"
   ]
  }
 ],
 "metadata": {
  "kernelspec": {
   "display_name": "Python 3",
   "language": "python",
   "name": "python3"
  },
  "language_info": {
   "codemirror_mode": {
    "name": "ipython",
    "version": 3
   },
   "file_extension": ".py",
   "mimetype": "text/x-python",
   "name": "python",
   "nbconvert_exporter": "python",
   "pygments_lexer": "ipython3",
   "version": "3.8.8"
  }
 },
 "nbformat": 4,
 "nbformat_minor": 5
}
