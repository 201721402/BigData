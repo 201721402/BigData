{
 "cells": [
  {
   "cell_type": "markdown",
   "id": "5f44630e",
   "metadata": {},
   "source": [
    "\n",
    "9-1: 문제 설정\n",
    "\n",
    "먼저 관심있는 데이터를 수집했고, 그 데이터에 대해 뭔가 궁금하게 생각하는 의문이 있을 것이다.\n",
    "\n",
    "예를 들어 '따릉이' 데이터에 대해 (1) 대여가 증가하는 추세인지? (2) 계절별로 차이가 있는지? 의문 또는 문제를 가질 수 있겠다.\n",
    "\n",
    "이러한 의문은 증명가능하도록 만들어져야 분석을 통해 답할 수 있다.\n",
    "\n",
    "문제는 2개만 만들자."
   ]
  },
  {
   "cell_type": "markdown",
   "id": "e9eaecfb",
   "metadata": {},
   "source": [
    "### 내가 수집했던 데이터는 8,9월 코로나 확진자의 지역과 날짜가 들어있는 데이터다."
   ]
  },
  {
   "cell_type": "markdown",
   "id": "2471926e",
   "metadata": {},
   "source": [
    "### 설정한 문제 \n",
    "(1) 코로나 확진자 수가 증가하는 추세인지? \n",
    "(2) 지역별로 코로나 확진자 수의 차이가 있는지? "
   ]
  },
  {
   "cell_type": "markdown",
   "id": "8fc0769d",
   "metadata": {},
   "source": [
    "9-2: 문제의 답\n",
    "\n",
    "데이터를 분석을 하고 앞서 앞서 제기된 문제에 대해 답을 하자.\n",
    "\n",
    "대여가 증가하는 추세이면 시간별로 대여건수가 늘어나는지 분석을 하여 (1) 맞다 또는 (2) 맞지 않다라고 결정할 수 있어야 한다.\n",
    "\n",
    "시간별 대여건수를 그래프로 시각화하여 보여줄 수도 있다.\n",
    "\n",
    "정량데이터이면 describe, groupBy, 통계검증 (anova), 상관관계 등 강의에서 배운 명령어를 활용하자.\n",
    "\n",
    "정성데이터는 단어빈도를 계산해서, 어떤 단어가 많이 사용되었는지 분석할 수 있다."
   ]
  },
  {
   "cell_type": "markdown",
   "id": "46a0b9eb",
   "metadata": {},
   "source": [
    "### 설정한 문제의 답 "
   ]
  },
  {
   "cell_type": "code",
   "execution_count": 1,
   "id": "77d9d3db",
   "metadata": {},
   "outputs": [],
   "source": [
    "import pyspark\n",
    "myConf=pyspark.SparkConf()\n",
    "spark = pyspark.sql.SparkSession\\\n",
    "    .builder\\\n",
    "    .master(\"local\")\\\n",
    "    .appName(\"myApp\")\\\n",
    "    .config(conf=myConf)\\\n",
    "    .getOrCreate()"
   ]
  },
  {
   "cell_type": "code",
   "execution_count": 77,
   "id": "efa446f1",
   "metadata": {},
   "outputs": [],
   "source": [
    "jfile= os.path.join('src','week3_assignment.json')\n",
    "coronaDf= spark.read.json(jfile)"
   ]
  },
  {
   "cell_type": "code",
   "execution_count": 78,
   "id": "cab47660",
   "metadata": {},
   "outputs": [],
   "source": [
    "df = spark\\\n",
    "        .read\\\n",
    "        .format('com.databricks.spark.csv')\\\n",
    "        .options(header='true', delimiter=',')\\\n",
    "        .load(os.path.join('data','week3_assignment.csv'))"
   ]
  },
  {
   "cell_type": "code",
   "execution_count": 101,
   "id": "081331fd",
   "metadata": {},
   "outputs": [
    {
     "name": "stdout",
     "output_type": "stream",
     "text": [
      "+---------+--------+-----+---+\n",
      "|   확진일|    지역|month|day|\n",
      "+---------+--------+-----+---+\n",
      "|2021.9.30|    기타|    9| 30|\n",
      "|2021.9.30|  성북구|    9| 30|\n",
      "|2021.9.30|  성북구|    9| 30|\n",
      "|2021.9.30|    기타|    9| 30|\n",
      "|2021.9.30|    기타|    9| 30|\n",
      "|2021.9.30|  강북구|    9| 30|\n",
      "|2021.9.30|  송파구|    9| 30|\n",
      "|2021.9.30|  동작구|    9| 30|\n",
      "|2021.9.30|  타시도|    9| 30|\n",
      "|2021.9.30|    기타|    9| 30|\n",
      "|2021.9.30|서대문구|    9| 30|\n",
      "|2021.9.30|    기타|    9| 30|\n",
      "|2021.9.30|  중랑구|    9| 30|\n",
      "|2021.9.30|    기타|    9| 30|\n",
      "|2021.9.30|    기타|    9| 30|\n",
      "|2021.9.30|    기타|    9| 30|\n",
      "|2021.9.30|  은평구|    9| 30|\n",
      "|2021.9.30|  성동구|    9| 30|\n",
      "|2021.9.30|  은평구|    9| 30|\n",
      "|2021.9.30|  송파구|    9| 30|\n",
      "+---------+--------+-----+---+\n",
      "only showing top 20 rows\n",
      "\n"
     ]
    }
   ],
   "source": [
    "from pyspark.sql import functions as F\n",
    "\n",
    "df = df.drop('year')\n",
    "df =df.withColumn('month', df['확진일'].substr(6,1)).withColumn(\"day\", df[\"확진일\"].substr(8,2))"
   ]
  },
  {
   "cell_type": "markdown",
   "id": "de4492cd",
   "metadata": {},
   "source": [
    "### (1) 번 문제  \n",
    "문제 코로나 확진자 수가 증가하는 추세인지? -> 정답: 맞다.\n",
    "\n",
    "표와 그래프를 보면 8월보다 9월에 더 많은 사람들이 코로나에 걸린것을 볼 수가 있다. "
   ]
  },
  {
   "cell_type": "code",
   "execution_count": 151,
   "id": "da8c02d7",
   "metadata": {
    "scrolled": true
   },
   "outputs": [
    {
     "name": "stdout",
     "output_type": "stream",
     "text": [
      "+-----+-----+\n",
      "|month|count|\n",
      "+-----+-----+\n",
      "|    8|15193|\n",
      "|    9|21383|\n",
      "+-----+-----+\n",
      "\n"
     ]
    }
   ],
   "source": [
    "df.groupBy(df['month']).count().show()"
   ]
  },
  {
   "cell_type": "code",
   "execution_count": 152,
   "id": "c416e6c2",
   "metadata": {
    "scrolled": true
   },
   "outputs": [],
   "source": [
    "import pandas as pd\n",
    "pd = df.toPandas()"
   ]
  },
  {
   "cell_type": "code",
   "execution_count": 153,
   "id": "dea3b2c3",
   "metadata": {
    "scrolled": true
   },
   "outputs": [],
   "source": [
    "ndf = pd.groupby('month').aggregate({\"확진일\":\"count\"})"
   ]
  },
  {
   "cell_type": "code",
   "execution_count": 154,
   "id": "cf8cac71",
   "metadata": {
    "scrolled": true
   },
   "outputs": [
    {
     "data": {
      "text/plain": [
       "<AxesSubplot:xlabel='month'>"
      ]
     },
     "execution_count": 154,
     "metadata": {},
     "output_type": "execute_result"
    },
    {
     "name": "stderr",
     "output_type": "stream",
     "text": [
      "/Users/nadonghyeon/opt/anaconda3/lib/python3.8/site-packages/matplotlib/backends/backend_agg.py:238: RuntimeWarning: Glyph 54869 missing from current font.\n",
      "  font.set_text(s, 0.0, flags=flags)\n",
      "/Users/nadonghyeon/opt/anaconda3/lib/python3.8/site-packages/matplotlib/backends/backend_agg.py:238: RuntimeWarning: Glyph 51652 missing from current font.\n",
      "  font.set_text(s, 0.0, flags=flags)\n",
      "/Users/nadonghyeon/opt/anaconda3/lib/python3.8/site-packages/matplotlib/backends/backend_agg.py:238: RuntimeWarning: Glyph 51068 missing from current font.\n",
      "  font.set_text(s, 0.0, flags=flags)\n",
      "/Users/nadonghyeon/opt/anaconda3/lib/python3.8/site-packages/matplotlib/backends/backend_agg.py:201: RuntimeWarning: Glyph 54869 missing from current font.\n",
      "  font.set_text(s, 0, flags=flags)\n",
      "/Users/nadonghyeon/opt/anaconda3/lib/python3.8/site-packages/matplotlib/backends/backend_agg.py:201: RuntimeWarning: Glyph 51652 missing from current font.\n",
      "  font.set_text(s, 0, flags=flags)\n",
      "/Users/nadonghyeon/opt/anaconda3/lib/python3.8/site-packages/matplotlib/backends/backend_agg.py:201: RuntimeWarning: Glyph 51068 missing from current font.\n",
      "  font.set_text(s, 0, flags=flags)\n"
     ]
    },
    {
     "data": {
      "image/png": "[encoded data removed]",
      "text/plain": [
       "<Figure size 432x288 with 1 Axes>"
      ]
     },
     "metadata": {
      "needs_background": "light"
     },
     "output_type": "display_data"
    }
   ],
   "source": [
    "ndf.plot(kind='line')"
   ]
  },
  {
   "cell_type": "markdown",
   "id": "e151debb",
   "metadata": {},
   "source": [
    "### (2) 번 문제\n",
    "8,9월 모두 지역별로 코로나 확진자 수의 차이가 있는지? -> 정답: 맞다.\n",
    "\n",
    "두가지의 방법으로 풀었다. 8월 9월에 지역별로 확진자 수를 세어준 것이다. 표를 보면 지역별로 확진자의 수를 보았을때 8월 9월 모두 확진자의 수가 겹치지 않는다. "
   ]
  },
  {
   "cell_type": "code",
   "execution_count": 173,
   "id": "93252b6d",
   "metadata": {},
   "outputs": [
    {
     "name": "stdout",
     "output_type": "stream",
     "text": [
      "+--------+----+----+\n",
      "|    지역|   8|   9|\n",
      "+--------+----+----+\n",
      "|  송파구| 930|1696|\n",
      "|  도봉구| 249| 523|\n",
      "|  은평구| 718| 931|\n",
      "|  양천구| 599| 613|\n",
      "|  중랑구| 539| 662|\n",
      "|  강동구| 456| 884|\n",
      "|  용산구| 440| 416|\n",
      "|  구로구| 630|1424|\n",
      "|  마포구| 713| 765|\n",
      "|    기타|  67| 159|\n",
      "|  강서구| 651| 895|\n",
      "|  강남구|1287|1224|\n",
      "|  광진구| 531| 891|\n",
      "|  성동구| 370| 593|\n",
      "|  관악구|1001|1064|\n",
      "|영등포구| 840|1130|\n",
      "|  타시도| 740|1042|\n",
      "|동대문구| 443| 957|\n",
      "|  동작구| 680| 708|\n",
      "|    중구| 245| 550|\n",
      "|  종로구| 233| 405|\n",
      "|  노원구| 404| 716|\n",
      "|서대문구| 530| 547|\n",
      "|  금천구| 374| 595|\n",
      "|  성북구| 516| 781|\n",
      "|  강북구| 333| 568|\n",
      "|  서초구| 674| 644|\n",
      "+--------+----+----+\n",
      "\n"
     ]
    }
   ],
   "source": [
    "# 방법 1\n",
    "df.groupBy(\"지역\").pivot(\"month\").count().show(27)"
   ]
  },
  {
   "cell_type": "code",
   "execution_count": 161,
   "id": "8ad0c550",
   "metadata": {
    "scrolled": false
   },
   "outputs": [
    {
     "name": "stdout",
     "output_type": "stream",
     "text": [
      "+----------+------+------+------+------+------+------+------+------+----+------+------+--------+------+------+--------+------+------+------+------+------+--------+------+------+------+----+------+------+\n",
      "|month_지역|강남구|강동구|강북구|강서구|관악구|광진구|구로구|금천구|기타|노원구|도봉구|동대문구|동작구|마포구|서대문구|서초구|성동구|성북구|송파구|양천구|영등포구|용산구|은평구|종로구|중구|중랑구|타시도|\n",
      "+----------+------+------+------+------+------+------+------+------+----+------+------+--------+------+------+--------+------+------+------+------+------+--------+------+------+------+----+------+------+\n",
      "|         8|  1287|   456|   333|   651|  1001|   531|   630|   374|  67|   404|   249|     443|   680|   713|     530|   674|   370|   516|   930|   599|     840|   440|   718|   233| 245|   539|   740|\n",
      "|         9|  1224|   884|   568|   895|  1064|   891|  1424|   595| 159|   716|   523|     957|   708|   765|     547|   644|   593|   781|  1696|   613|    1130|   416|   931|   405| 550|   662|  1042|\n",
      "+----------+------+------+------+------+------+------+------+------+----+------+------+--------+------+------+--------+------+------+------+------+------+--------+------+------+------+----+------+------+\n",
      "\n"
     ]
    }
   ],
   "source": [
    "#방법 2 \n",
    "df.stat.crosstab(\"month\", \"지역\").show()"
   ]
  },
  {
   "cell_type": "code",
   "execution_count": null,
   "id": "4f315c6d",
   "metadata": {},
   "outputs": [],
   "source": []
  }
 ],
 "metadata": {
  "kernelspec": {
   "display_name": "Python 3",
   "language": "python",
   "name": "python3"
  },
  "language_info": {
   "codemirror_mode": {
    "name": "ipython",
    "version": 3
   },
   "file_extension": ".py",
   "mimetype": "text/x-python",
   "name": "python",
   "nbconvert_exporter": "python",
   "pygments_lexer": "ipython3",
   "version": "3.8.8"
  }
 },
 "nbformat": 4,
 "nbformat_minor": 5
}
