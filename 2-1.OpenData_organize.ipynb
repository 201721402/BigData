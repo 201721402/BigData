{
 "cells": [
  {
   "cell_type": "markdown",
   "id": "8d102e58",
   "metadata": {},
   "source": [
    "### O.6 공공데이터\n",
    "\n",
    "공공데이터는 정부에서 포털형식으로 제공되고 있다. 교통, 재난, 의료 등 기관별로 제공하는 공공데이터를 묶어서 포털로 제공하고 있다.\n",
    "\n",
    "또한 시군구별로 제공하는 열린데이터가 있다. 그렇기 때문에 data.시군구.go.kr과 같이 url이 명명되어 있다. url은 요청인자를 슬래시로 구분하여 적는다. 반면에 공공데이터는 data.go.kr로 명명된다. 공공데이터는 url에 요청인자를 &로 구분하여 적고 있다.\n"
   ]
  },
  {
   "cell_type": "markdown",
   "id": "6cf6df72",
   "metadata": {},
   "source": [
    "\n",
    "### O.6.1 인증키\n",
    "####  서울시 열린데이터 인증키 신청\n",
    "열린데이터를 이용하기 위해서는 회원가입 후, 인증키를 발급받아야 한다. Home > 나의화면 > 인증키 신청으로 페이지를 이동해서, 인증키를 신청하고 발급한다. url은 이용하실 열린데이터광장 서비스중 URL 하나를 적어주면 된다."
   ]
  },
  {
   "cell_type": "markdown",
   "id": "87a81b89",
   "metadata": {},
   "source": [
    "\n",
    "## URL 인코딩\n",
    "URL은 128 ($2^7$) ASCII 문자만 받도록 되어있다. 영문자, 숫자, -   _   .   ~는 그대로 사용하지만 !    #   $   &   '   (   )   *   +   ,   /   :   ;   =   ?   @   [   ]는 퍼센트 인코딩 (또는 url 인코딩)을 한다.\n",
    "\n",
    "URL 인코딩은 온라인 사이트 https://www.urlencoder.org/ 에서 확인할 수 있다.\n",
    "\n",
    "url encoding은 %를 맨 앞에 그리고 16진수 2자리를 덧붙인다. #은 %23으로 변환된다. 아래에서 보듯이 한글은 ASCII 128 문자에 포함되지 않으므로, 퍼센트 인코딩이 된다. Python3에서는 urlparse(python2) 대신, urllib.parse를 사용한다."
   ]
  },
  {
   "cell_type": "code",
   "execution_count": 59,
   "id": "42c252bd",
   "metadata": {},
   "outputs": [
    {
     "name": "stdout",
     "output_type": "stream",
     "text": [
      "%23q=%ED%95%9C%EA%B8%80&dd=dd\n",
      "%23q=%ED%95%9C%EA%B8%80\n"
     ]
    }
   ],
   "source": [
    "import urllib\n",
    "\n",
    "print (urllib.parse.urlencode({'#q':'한글', 'dd':'dd'}))\n",
    "print (urllib.parse.urlencode({'#q':u'한글'.encode('utf-8')}))"
   ]
  },
  {
   "cell_type": "markdown",
   "id": "04d3c17d",
   "metadata": {},
   "source": [
    "위: 한개의 글자에 3개의 인코딩이 들어감 "
   ]
  },
  {
   "cell_type": "markdown",
   "id": "7f2d0e99",
   "metadata": {},
   "source": [
    "인증키를 살펴보면, '%'가 포함되어 있을 수 있다. '%'문자를 url encoding하는 경우 '%'를 '%25'로 encoding한다."
   ]
  },
  {
   "cell_type": "code",
   "execution_count": 2,
   "id": "23077d93",
   "metadata": {},
   "outputs": [
    {
     "name": "stdout",
     "output_type": "stream",
     "text": [
      "key=%253D\n"
     ]
    }
   ],
   "source": [
    "import urllib\n",
    "\n",
    "params=urllib.parse.urlencode({'key':'%3D'})\n",
    "print (params)"
   ]
  },
  {
   "cell_type": "markdown",
   "id": "9758b700",
   "metadata": {},
   "source": [
    "% -> %25로 인코딩댐"
   ]
  },
  {
   "cell_type": "markdown",
   "id": "77938514",
   "metadata": {},
   "source": [
    "\n",
    "### 인증키 파일 작성\n",
    "일단 인증키를 파일에 저장하자. '비밀번호'와 같은 보안내용이 프로그램에 직접 사용되지 않도록 주의한다. 'key.properties' 파일에 Property형식에 따라 key, value로 저장한다. 단 윈도우 메모장에 붙여넣으면 BOM 문자가 문제를 일으킨다. 공공데이터포털 utf-8로 변환된 키 값은 urlencode()를 하지 않는다. 파일에 아래와 같이 적어 넣는다.\n",
    "\n",
    "-> 열린데이터\n",
    "\n",
    "dataseoul=73725...\n",
    "\n",
    "->공공데이터\n",
    "\n",
    "gokr=8Bx4C1%2B..."
   ]
  },
  {
   "cell_type": "markdown",
   "id": "34593c51",
   "metadata": {},
   "source": [
    "#### 인증키 라이브러리\n",
    "자신의 라이브러리를 만들어보자 (참조: how_to_import.ipynb)\n",
    "\n",
    "\n",
    "* 디렉토리에 init.py 파일을 넣는다.\n",
    "\n",
    "* 디렉토리 명이 패키지가 되고, import를 사용할 수 있다.\n",
    "\n",
    "* mylib.py에는 getKey()와 테스트 용도로 sayHello()를 추가한다.\n",
    "* \n",
    "디렉토리의 파일 구조는:\n",
    "\n",
    "src/\n",
    "\n",
    "    __init__.py\n",
    "    \n",
    "    mylib.py\n",
    "    \n",
    "    key.properties"
   ]
  },
  {
   "cell_type": "code",
   "execution_count": 5,
   "id": "95fe3334",
   "metadata": {},
   "outputs": [],
   "source": [
    "# %%writefile src/key.properties\n",
    "# dataseoul=73725...\n",
    "# gokr=8Bx4C1%2B..."
   ]
  },
  {
   "cell_type": "code",
   "execution_count": 3,
   "id": "61959b06",
   "metadata": {},
   "outputs": [
    {
     "name": "stdout",
     "output_type": "stream",
     "text": [
      "Overwriting src/mylib.py\n"
     ]
    }
   ],
   "source": [
    "%%writefile src/mylib.py\n",
    "def sayHello():\n",
    "    print(\"hello\")\n",
    "\n",
    "def getKey(keyPath):\n",
    "    d=dict()\n",
    "    f=open(keyPath,'r')\n",
    "    for line in f.readlines():\n",
    "        row=line.split('=')\n",
    "        row0=row[0]\n",
    "        d[row0]=row[1].strip()\n",
    "    return d"
   ]
  },
  {
   "cell_type": "markdown",
   "id": "81236ab3",
   "metadata": {},
   "source": [
    "dictionaty 형식을 가지는 함수명을 만들어라 d = dict()\n",
    "\n",
    "f.readlines() 각각의 줄에대해서 \n",
    "\n",
    "= 를 기준으로 split해라 \n",
    "\n",
    "앞에있는건 키값 뒤에있는건 value값.\n",
    "\n",
    "row[1].strip -> 뒤에 공백 제거\n",
    "\n",
    "d[row0] -> 키값을 가지고 딕셔너리를 우선 만듬 \n",
    "\n",
    "=row[1].strip() -> strip로 공백제거후 dictionary에 넣어줌 \n",
    "\n",
    "결과는 키 value 구성이된 딕셔너리 열림"
   ]
  },
  {
   "cell_type": "code",
   "execution_count": 6,
   "id": "fea3f928",
   "metadata": {},
   "outputs": [
    {
     "name": "stdout",
     "output_type": "stream",
     "text": [
      "hello\n",
      "None\n"
     ]
    }
   ],
   "source": [
    "# import src.mylib\n",
    "from src import mylib\n",
    "#두가지 방식이 있다. 이번껀 src제거한 후 나오는 것\n",
    "print (mylib.sayHello())\n"
   ]
  },
  {
   "cell_type": "markdown",
   "id": "dc8d0f82",
   "metadata": {},
   "source": [
    "현재 디렉토리 출력"
   ]
  },
  {
   "cell_type": "code",
   "execution_count": 7,
   "id": "58c99741",
   "metadata": {},
   "outputs": [
    {
     "data": {
      "text/plain": [
       "'/Users/nadonghyeon/BigData/201721402'"
      ]
     },
     "execution_count": 7,
     "metadata": {},
     "output_type": "execute_result"
    }
   ],
   "source": [
    "import os\n",
    "os.getcwd()"
   ]
  },
  {
   "cell_type": "code",
   "execution_count": 9,
   "id": "719486ac",
   "metadata": {},
   "outputs": [],
   "source": [
    "import os\n",
    "import src.mylib\n",
    "\n",
    "keyPath=os.path.join(os.getcwd(), 'src', 'key.properties')\n",
    "# 현재 디렉토리에 src와 key.properties까지 붙여서 절대경로로 만들어줌\n",
    "key=src.mylib.getKey(keyPath)"
   ]
  },
  {
   "cell_type": "code",
   "execution_count": 10,
   "id": "4f919d9d",
   "metadata": {},
   "outputs": [
    {
     "name": "stdout",
     "output_type": "stream",
     "text": [
      "73725974496a736c34395757705847\n"
     ]
    }
   ],
   "source": [
    "print (key['dataseoul'])"
   ]
  },
  {
   "cell_type": "code",
   "execution_count": 11,
   "id": "a36bcbc7",
   "metadata": {},
   "outputs": [
    {
     "ename": "KeyError",
     "evalue": "'gokr'",
     "output_type": "error",
     "traceback": [
      "\u001b[0;31m---------------------------------------------------------------------------\u001b[0m",
      "\u001b[0;31mKeyError\u001b[0m                                  Traceback (most recent call last)",
      "\u001b[0;32m<ipython-input-11-5bbd5178abdd>\u001b[0m in \u001b[0;36m<module>\u001b[0;34m\u001b[0m\n\u001b[0;32m----> 1\u001b[0;31m \u001b[0mprint\u001b[0m \u001b[0;34m(\u001b[0m\u001b[0mkey\u001b[0m\u001b[0;34m[\u001b[0m\u001b[0;34m'gokr'\u001b[0m\u001b[0;34m]\u001b[0m\u001b[0;34m)\u001b[0m\u001b[0;34m\u001b[0m\u001b[0;34m\u001b[0m\u001b[0m\n\u001b[0m",
      "\u001b[0;31mKeyError\u001b[0m: 'gokr'"
     ]
    }
   ],
   "source": [
    "print (key['gokr'])"
   ]
  },
  {
   "cell_type": "markdown",
   "id": "7442a280",
   "metadata": {},
   "source": [
    "### 문제 2: 서울시 지하철역 정보 수집"
   ]
  },
  {
   "cell_type": "code",
   "execution_count": 3,
   "id": "476aa1c8",
   "metadata": {},
   "outputs": [],
   "source": [
    "import os\n",
    "import src.mylib   # 상대경로\n",
    "\n",
    "keyPath=os.path.join(os.getcwd(), 'src', 'key.properties') # reading key saved in 'src'\n",
    "key=src.mylib.getKey(keyPath)\n",
    "KEY=str(key['dataseoul'])"
   ]
  },
  {
   "cell_type": "markdown",
   "id": "86f30da6",
   "metadata": {},
   "source": [
    "keyPath로 만들고 \n",
    "\n",
    "getKey getKey라는 함수로 받아온 결과를 key로 저장한다. \n",
    "\n",
    "key는 딕셔너리 타입으로 키와 value가 저장되어있다.\n",
    "\n",
    "key['dataseoul'] -> 키를 읽어서 키의 value를 문자열로 저장후 KEY로 넣는다.\n",
    "\n"
   ]
  },
  {
   "cell_type": "markdown",
   "id": "bcd5654c",
   "metadata": {},
   "source": [
    "\n",
    "### 요청인자\n",
    "서비스명 'SearchSTNBySubwayLineInfo'에 필요한 인자를 넣는다.\n",
    "\n",
    "데이터 타입은 'json'\n",
    "\n",
    "페이징에 필요한 INDEX를 조정한다.\n",
    "\n",
    "호선 LINE_NUM을 설정한다."
   ]
  },
  {
   "cell_type": "code",
   "execution_count": 4,
   "id": "a01d1c2e",
   "metadata": {},
   "outputs": [],
   "source": [
    "# api\n",
    "TYPE='json'\n",
    "#SERVICE='SearchSTNBySubwayLineService'\n",
    "SERVICE='SearchSTNBySubwayLineInfo'\n",
    "START_INDEX=str(1)\n",
    "END_INDEX=str(10)\n",
    "LINE_NUM=str(2)"
   ]
  },
  {
   "cell_type": "markdown",
   "id": "ff9b6ccf",
   "metadata": {},
   "source": [
    "### url 만들기\n",
    "앞서 설정한 서비스, 요청인자, 인증키를 슬래시(\"/\")로 합쳐서 URL을 만들어보자."
   ]
  },
  {
   "cell_type": "code",
   "execution_count": 5,
   "id": "755220b1",
   "metadata": {},
   "outputs": [],
   "source": [
    "params=\"/\".join([KEY,TYPE,SERVICE,START_INDEX,END_INDEX,'','',LINE_NUM])"
   ]
  },
  {
   "cell_type": "markdown",
   "id": "b12fa95e",
   "metadata": {},
   "source": [
    "\n",
    "key는 비밀번호로서 30자리이다. 이러한 key는 보안상 출력에서 제외하는 것이 바람직 하겠다. key만 제외하고 출력해보자. 슬래시로 연결되어 있으니 0~29가 key에 해당하고, 30부터는 슬래시를 포함해 그 이후의 문자열을 출력한다."
   ]
  },
  {
   "cell_type": "code",
   "execution_count": 6,
   "id": "543466e4",
   "metadata": {},
   "outputs": [
    {
     "name": "stdout",
     "output_type": "stream",
     "text": [
      "/json/SearchSTNBySubwayLineInfo/1/10///2\n"
     ]
    }
   ],
   "source": [
    "print(params[30:])"
   ]
  },
  {
   "cell_type": "markdown",
   "id": "6d7f9f08",
   "metadata": {},
   "source": [
    "\n",
    "urljoin은 url을 결합할 때 사용할 수 있다. 아래와 같이 url에 params을 덧붙인다. 문제는 url에서 슬래시가 제거된다."
   ]
  },
  {
   "cell_type": "code",
   "execution_count": 7,
   "id": "44b2ac2f",
   "metadata": {},
   "outputs": [
    {
     "name": "stdout",
     "output_type": "stream",
     "text": [
      "http://openAPI.seoul.go.kr:8088/656e705550736b6532324b4e4d715a/json/SearchSTNBySubwayLineInfo/1/10/2\n"
     ]
    }
   ],
   "source": [
    "import urllib\n",
    "_url='http://openAPI.seoul.go.kr:8088/'\n",
    "url=urllib.parse.urljoin(_url,params)\n",
    "print(url) # backslashes removed"
   ]
  },
  {
   "cell_type": "markdown",
   "id": "55f60d7c",
   "metadata": {},
   "source": [
    "urllib에 parse 함수를 통해 \n",
    "urljoin함수 통해서 두개를 join을 한다."
   ]
  },
  {
   "cell_type": "markdown",
   "id": "05ea3802",
   "metadata": {},
   "source": [
    "### url 클릭해보면 출력이 안되기 때문에 \n",
    "\n",
    "그래서 join() 함수로 문자열 합성을 한다. 주의할 점은 join() 함수는 리스트를 입력받는다."
   ]
  },
  {
   "cell_type": "code",
   "execution_count": 8,
   "id": "eb07ef63",
   "metadata": {},
   "outputs": [
    {
     "name": "stdout",
     "output_type": "stream",
     "text": [
      "http://openAPI.seoul.go.kr:8088/656e705550736b6532324b4e4d715a/json/SearchSTNBySubwayLineInfo/1/10///2\n"
     ]
    }
   ],
   "source": [
    "_url='http://openAPI.seoul.go.kr:8088'\n",
    "url=\"/\".join([_url,params])\n",
    "print(url) "
   ]
  },
  {
   "cell_type": "markdown",
   "id": "dd577bf4",
   "metadata": {},
   "source": [
    "### url 호출\n"
   ]
  },
  {
   "cell_type": "code",
   "execution_count": 9,
   "id": "8145a9ca",
   "metadata": {},
   "outputs": [],
   "source": [
    "import requests\n",
    "\n",
    "r=requests.get(url)"
   ]
  },
  {
   "cell_type": "code",
   "execution_count": 10,
   "id": "c80a6056",
   "metadata": {},
   "outputs": [],
   "source": [
    "stations=r.json()"
   ]
  },
  {
   "cell_type": "code",
   "execution_count": 11,
   "id": "138c8fae",
   "metadata": {},
   "outputs": [
    {
     "data": {
      "text/plain": [
       "dict"
      ]
     },
     "execution_count": 11,
     "metadata": {},
     "output_type": "execute_result"
    }
   ],
   "source": [
    "type(stations)"
   ]
  },
  {
   "cell_type": "code",
   "execution_count": 12,
   "id": "82f43504",
   "metadata": {
    "scrolled": true
   },
   "outputs": [
    {
     "name": "stdout",
     "output_type": "stream",
     "text": [
      "{'SearchSTNBySubwayLineInfo': {'list_total_count': 748, 'RESULT': {'CODE': 'INFO-000', 'MESSAGE': '정상 처리되었습니다'}, 'row': [{'STATION_CD': '0159', 'STATION_NM': '동묘앞', 'STATION_NM_ENG': 'Dongmyo', 'LINE_NUM': '01호선', 'FR_CODE': '127'}, {'STATION_CD': '0416', 'STATION_NM': '미아사거리', 'STATION_NM_ENG': 'Miasamgeori', 'LINE_NUM': '04호선', 'FR_CODE': '416'}, {'STATION_CD': '0423', 'STATION_NM': '충무로', 'STATION_NM_ENG': 'Chungmuro', 'LINE_NUM': '04호선', 'FR_CODE': '423'}, {'STATION_CD': '1004', 'STATION_NM': '노량진', 'STATION_NM_ENG': 'Noryangjin', 'LINE_NUM': '01호선', 'FR_CODE': '136'}, {'STATION_CD': '1008', 'STATION_NM': '이촌', 'STATION_NM_ENG': 'Ichon', 'LINE_NUM': '경의선', 'FR_CODE': 'K111'}, {'STATION_CD': '1011', 'STATION_NM': '옥수', 'STATION_NM_ENG': 'Oksu', 'LINE_NUM': '경의선', 'FR_CODE': 'K114'}, {'STATION_CD': '1012', 'STATION_NM': '응봉', 'STATION_NM_ENG': 'Eungbong', 'LINE_NUM': '경의선', 'FR_CODE': 'K115'}, {'STATION_CD': '1013', 'STATION_NM': '왕십리', 'STATION_NM_ENG': 'Wangsimni', 'LINE_NUM': '경의선', 'FR_CODE': 'K116'}, {'STATION_CD': '1015', 'STATION_NM': '회기', 'STATION_NM_ENG': 'Hoegi', 'LINE_NUM': '01호선', 'FR_CODE': '123'}, {'STATION_CD': '1016', 'STATION_NM': '외대앞', 'STATION_NM_ENG': 'Hankuk Univ. of Foreign Studies', 'LINE_NUM': '01호선', 'FR_CODE': '122'}]}}\n"
     ]
    }
   ],
   "source": [
    "print (stations)"
   ]
  },
  {
   "cell_type": "markdown",
   "id": "50b55eb7",
   "metadata": {},
   "source": [
    "위에는 json이다"
   ]
  },
  {
   "cell_type": "markdown",
   "id": "479bb02b",
   "metadata": {},
   "source": [
    "### json 파싱"
   ]
  },
  {
   "cell_type": "markdown",
   "id": "06683732",
   "metadata": {},
   "source": [
    "내가 원하는 데이터를 가져올려면 위의 데이터를 참고해서 \n",
    "['SearchSTNBySubwayLineInfo']['row']안에 있다.\n",
    "그렇게 access 해줘야 한다."
   ]
  },
  {
   "cell_type": "code",
   "execution_count": 15,
   "id": "b829e369",
   "metadata": {},
   "outputs": [
    {
     "data": {
      "text/plain": [
       "[{'STATION_CD': '0159',\n",
       "  'STATION_NM': '동묘앞',\n",
       "  'STATION_NM_ENG': 'Dongmyo',\n",
       "  'LINE_NUM': '01호선',\n",
       "  'FR_CODE': '127'},\n",
       " {'STATION_CD': '0416',\n",
       "  'STATION_NM': '미아사거리',\n",
       "  'STATION_NM_ENG': 'Miasamgeori',\n",
       "  'LINE_NUM': '04호선',\n",
       "  'FR_CODE': '416'},\n",
       " {'STATION_CD': '0423',\n",
       "  'STATION_NM': '충무로',\n",
       "  'STATION_NM_ENG': 'Chungmuro',\n",
       "  'LINE_NUM': '04호선',\n",
       "  'FR_CODE': '423'},\n",
       " {'STATION_CD': '1004',\n",
       "  'STATION_NM': '노량진',\n",
       "  'STATION_NM_ENG': 'Noryangjin',\n",
       "  'LINE_NUM': '01호선',\n",
       "  'FR_CODE': '136'},\n",
       " {'STATION_CD': '1008',\n",
       "  'STATION_NM': '이촌',\n",
       "  'STATION_NM_ENG': 'Ichon',\n",
       "  'LINE_NUM': '경의선',\n",
       "  'FR_CODE': 'K111'},\n",
       " {'STATION_CD': '1011',\n",
       "  'STATION_NM': '옥수',\n",
       "  'STATION_NM_ENG': 'Oksu',\n",
       "  'LINE_NUM': '경의선',\n",
       "  'FR_CODE': 'K114'},\n",
       " {'STATION_CD': '1012',\n",
       "  'STATION_NM': '응봉',\n",
       "  'STATION_NM_ENG': 'Eungbong',\n",
       "  'LINE_NUM': '경의선',\n",
       "  'FR_CODE': 'K115'},\n",
       " {'STATION_CD': '1013',\n",
       "  'STATION_NM': '왕십리',\n",
       "  'STATION_NM_ENG': 'Wangsimni',\n",
       "  'LINE_NUM': '경의선',\n",
       "  'FR_CODE': 'K116'},\n",
       " {'STATION_CD': '1015',\n",
       "  'STATION_NM': '회기',\n",
       "  'STATION_NM_ENG': 'Hoegi',\n",
       "  'LINE_NUM': '01호선',\n",
       "  'FR_CODE': '123'},\n",
       " {'STATION_CD': '1016',\n",
       "  'STATION_NM': '외대앞',\n",
       "  'STATION_NM_ENG': 'Hankuk Univ. of Foreign Studies',\n",
       "  'LINE_NUM': '01호선',\n",
       "  'FR_CODE': '122'}]"
      ]
     },
     "execution_count": 15,
     "metadata": {},
     "output_type": "execute_result"
    }
   ],
   "source": [
    "stations['SearchSTNBySubwayLineInfo']['row']"
   ]
  },
  {
   "cell_type": "code",
   "execution_count": 16,
   "id": "d273dafd",
   "metadata": {},
   "outputs": [
    {
     "name": "stdout",
     "output_type": "stream",
     "text": [
      "0159\t동묘앞            \t127\t01호선\n",
      "0416\t미아사거리          \t416\t04호선\n",
      "0423\t충무로            \t423\t04호선\n",
      "1004\t노량진            \t136\t01호선\n",
      "1008\t이촌             \tK111\t경의선\n",
      "1011\t옥수             \tK114\t경의선\n",
      "1012\t응봉             \tK115\t경의선\n",
      "1013\t왕십리            \tK116\t경의선\n",
      "1015\t회기             \t123\t01호선\n",
      "1016\t외대앞            \t122\t01호선\n"
     ]
    }
   ],
   "source": [
    "for e in stations['SearchSTNBySubwayLineInfo']['row']:\n",
    "    print (\"{0:4s}\\t{1:15s}\\t{2:3s}\\t{3:2s}\".format(e['STATION_CD'], e['STATION_NM'], e['FR_CODE'], e['LINE_NUM']))"
   ]
  },
  {
   "cell_type": "markdown",
   "id": "d5028dfe",
   "metadata": {},
   "source": [
    "#### 일괄 실행"
   ]
  },
  {
   "cell_type": "code",
   "execution_count": 21,
   "id": "578502cf",
   "metadata": {},
   "outputs": [
    {
     "name": "stdout",
     "output_type": "stream",
     "text": [
      "Overwriting src/ds_open_subway_json.py\n"
     ]
    }
   ],
   "source": [
    "%%writefile src/ds_open_subway_json.py\n",
    "#!/usr/bin/env python\n",
    "# coding: utf-8\n",
    "import os\n",
    "import requests\n",
    "import urllib\n",
    "import mylib # NO! src.mylib\n",
    "\n",
    "def doIt():\n",
    "    keyPath=os.path.join(os.getcwd(), 'src', 'key.properties')\n",
    "    key=mylib.getKey(keyPath)\n",
    "    # (1) make params with resource IDs\n",
    "    KEY=str(key['dataseoul'])\n",
    "    TYPE='json'\n",
    "    #OLD: SERVICE='SearchSTNBySubwayLineService'\n",
    "    SERVICE='SearchSTNBySubwayLineInfo'\n",
    "    LINE_NUM=str(2)\n",
    "    START_INDEX=str(1)\n",
    "    END_INDEX=str(10)\n",
    "    #params=os.path.join(KEY,TYPE,SERVICE,START_INDEX,END_INDEX,LINE_NUM)\n",
    "    params=\"/\".join([KEY,TYPE,SERVICE,START_INDEX,END_INDEX,'','',LINE_NUM])\n",
    "    # (2) make a full url\n",
    "    _url='http://openAPI.seoul.go.kr:8088' #NOTE slash: do not use 'http://openAPI.seoul.go.kr:8088/'\n",
    "    #url=urllib.parse.urljoin(_url,params)\n",
    "    url=\"/\".join([_url,params])\n",
    "    #print(url)\n",
    "    # (3) get data\n",
    "    r=requests.get(url)\n",
    "    #print(r)\n",
    "    stations=r.json()\n",
    "    #print(stations)\n",
    "    for e in stations['SearchSTNBySubwayLineInfo']['row']:\n",
    "        print (u\"{0:4s}\\t{1:15s}\\t{2:3s}\\t{3:2s}\".format(e['STATION_CD'], e['STATION_NM'], e['FR_CODE'], e['LINE_NUM']))\n",
    "\n",
    "if __name__ == \"__main__\":\n",
    "    doIt()"
   ]
  },
  {
   "cell_type": "markdown",
   "id": "1bd5ee9f",
   "metadata": {},
   "source": [
    " 위  coding: utf-8는 코드가 깨질까봐 혹시나해서 써준것임"
   ]
  },
  {
   "cell_type": "code",
   "execution_count": 22,
   "id": "4b4c96fc",
   "metadata": {},
   "outputs": [
    {
     "name": "stdout",
     "output_type": "stream",
     "text": [
      "0159\t동묘앞            \t127\t01호선\r\n",
      "0416\t미아사거리          \t416\t04호선\r\n",
      "0423\t충무로            \t423\t04호선\r\n",
      "1004\t노량진            \t136\t01호선\r\n",
      "1008\t이촌             \tK111\t경의선\r\n",
      "1011\t옥수             \tK114\t경의선\r\n",
      "1012\t응봉             \tK115\t경의선\r\n",
      "1013\t왕십리            \tK116\t경의선\r\n",
      "1015\t회기             \t123\t01호선\r\n",
      "1016\t외대앞            \t122\t01호선\r\n"
     ]
    }
   ],
   "source": [
    "!python3 src/ds_open_subway_json.py"
   ]
  },
  {
   "cell_type": "markdown",
   "id": "64f30ee6",
   "metadata": {},
   "source": [
    "### 결과가 없을 때까지 반복"
   ]
  },
  {
   "cell_type": "markdown",
   "id": "4f5d714d",
   "metadata": {},
   "source": [
    "# 한번 더 풀기"
   ]
  },
  {
   "cell_type": "code",
   "execution_count": 33,
   "id": "ef51f799",
   "metadata": {},
   "outputs": [
    {
     "name": "stdout",
     "output_type": "stream",
     "text": [
      "Overwriting src/ds_open_subway_iter_json.py\n"
     ]
    }
   ],
   "source": [
    "%%writefile src/ds_open_subway_iter_json.py\n",
    "#!/usr/bin/env python\n",
    "# coding: utf-8\n",
    "import os\n",
    "import requests\n",
    "import urllib\n",
    "import mylib # NO! src.mylib\n",
    "\n",
    "def doIt():\n",
    "    keyPath=os.path.join(os.getcwd(), 'src', 'key.properties')\n",
    "    key=mylib.getKey(keyPath)\n",
    "    # (1) make params with resource IDs\n",
    "    KEY=str(key['dataseoul'])\n",
    "    TYPE='json'\n",
    "    #OLD: SERVICE='SearchSTNBySubwayLineService'\n",
    "    SERVICE='SearchSTNBySubwayLineInfo'\n",
    "    LINE_NUM=str(2)\n",
    "    START_INDEX=str(1)\n",
    "    END_INDEX=str(10)\n",
    "    startIndex=1\n",
    "    endIndex=10\n",
    "    list_total_count=0    # set later\n",
    "    while True:\n",
    "        START_INDEX=str(startIndex)\n",
    "        END_INDEX=str(endIndex)\n",
    "       \n",
    "        params=\"/\".join([KEY,TYPE,SERVICE,START_INDEX,END_INDEX,'','',LINE_NUM])\n",
    "        _url='http://openAPI.seoul.go.kr:8088' #NOTE slash: do not use 'http://openAPI.seoul.go.kr:8088/'\n",
    "        url=\"/\".join([_url,params])\n",
    "        r=requests.get(url)\n",
    "        stations=r.json()\n",
    "        \n",
    "        if(startIndex==1):\n",
    "            list_total_count=stations['SearchSTNBySubwayLineInfo']['list_total_count']\n",
    "            print(\"- Total Count: \", list_total_count)\n",
    "        for e in stations['SearchSTNBySubwayLineInfo']['row']:\n",
    "            print (u\"{0:4s}\\t{1:15s}\\t{2:3s}\\t{3:2s}\".format(e['STATION_CD'], e['STATION_NM'], e['FR_CODE'], e['LINE_NUM']))\n",
    "        startIndex+=10\n",
    "        endIndex+=10\n",
    "        if(endIndex > list_total_count):\n",
    "            print(\"----- Ending endIndex=\",endIndex)\n",
    "            break  # exit from the while loop\n",
    "\n",
    "if __name__ == \"__main__\":\n",
    "    doIt()"
   ]
  },
  {
   "cell_type": "code",
   "execution_count": 34,
   "id": "8f3848b0",
   "metadata": {},
   "outputs": [
    {
     "name": "stdout",
     "output_type": "stream",
     "text": [
      "- Total Count:  748\n",
      "0159\t동묘앞            \t127\t01호선\n",
      "0416\t미아사거리          \t416\t04호선\n",
      "0423\t충무로            \t423\t04호선\n",
      "1004\t노량진            \t136\t01호선\n",
      "1008\t이촌             \tK111\t경의선\n",
      "1011\t옥수             \tK114\t경의선\n",
      "1012\t응봉             \tK115\t경의선\n",
      "1013\t왕십리            \tK116\t경의선\n",
      "1015\t회기             \t123\t01호선\n",
      "1016\t외대앞            \t122\t01호선\n",
      "1017\t신이문            \t121\t01호선\n",
      "1018\t석계             \t120\t01호선\n",
      "1019\t광운대            \t119\t01호선\n",
      "101C\t회기             \tK118\t경의선\n",
      "1020\t월계             \t118\t01호선\n",
      "1021\t녹천             \t117\t01호선\n",
      "1022\t창동             \t116\t01호선\n",
      "1023\t선릉             \tK215\t수인분당선\n",
      "1025\t도곡             \tK217\t수인분당선\n",
      "1026\t구룡             \tK218\t수인분당선\n",
      "1027\t개포동            \tK219\t수인분당선\n",
      "1028\t대모산입구          \tK220\t수인분당선\n",
      "102C\t왕십리            \tK210\t수인분당선\n",
      "1030\t수서             \tK221\t수인분당선\n",
      "1031\t복정             \tK222\t수인분당선\n",
      "1032\t신길             \t138\t01호선\n",
      "1201\t중랑             \tK119\t경의선\n",
      "1202\t상봉             \tK120\t경의선\n",
      "1203\t망우             \tK121\t경의선\n",
      "1204\t양원             \tK122\t경의선\n",
      "1205\t구리             \tK123\t경의선\n",
      "1206\t도농             \tK124\t경의선\n",
      "1207\t양정             \tK125\t경의선\n",
      "1208\t덕소             \tK126\t경의선\n",
      "1209\t도심             \tK127\t경의선\n",
      "0309\t지축             \t319\t03호선\n",
      "0321\t충무로            \t331\t03호선\n",
      "0333\t매봉             \t343\t03호선\n",
      "0340\t가락시장           \t350\t03호선\n",
      "0424\t명동             \t424\t04호선\n",
      "1210\t팔당             \tK128\t경의선\n",
      "1211\t운길산            \tK129\t경의선\n",
      "1212\t양수             \tK130\t경의선\n",
      "1213\t신원             \tK131\t경의선\n",
      "1214\t국수             \tK132\t경의선\n",
      "1215\t아신             \tK133\t경의선\n",
      "1216\t오빈             \tK134\t경의선\n",
      "1217\t양평             \tK135\t경의선\n",
      "1219\t용문             \tK137\t경의선\n",
      "1220\t지평             \tK138\t경의선\n",
      "1251\t서울역            \tP313\t경의선\n",
      "1252\t신촌             \tP312\t경의선\n",
      "1261\t효창공원앞          \tK826\t경의선\n",
      "1262\t공덕             \tK312\t경의선\n",
      "1263\t서강대            \tK313\t경의선\n",
      "1264\t홍대입구           \tK314\t경의선\n",
      "1265\t가좌             \tK315\t경의선\n",
      "1266\t디지털미디어시티       \tK316\t경의선\n",
      "1269\t강매             \tK319\t경의선\n",
      "1270\t행신             \tK320\t경의선\n",
      "1271\t능곡             \tK321\t경의선\n",
      "1272\t곡산             \tK323\t경의선\n",
      "1273\t백마             \tK324\t경의선\n",
      "1274\t풍산             \tK325\t경의선\n",
      "1277\t야당             \tK328\t경의선\n",
      "1278\t운정             \tK329\t경의선\n",
      "1279\t금릉             \tK330\t경의선\n",
      "1280\t금촌             \tK331\t경의선\n",
      "1282\t월롱             \tK333\t경의선\n",
      "1284\t문산             \tK335\t경의선\n",
      "1285\t임진강            \tK336\t경의선\n",
      "1306\t청량리            \tP117\t경춘선\n",
      "1308\t중랑             \tP119\t경춘선\n",
      "1309\t상봉             \tP120\t경춘선\n",
      "0228\t서울대입구          \t228\t02호선\n",
      "0242\t아현             \t242\t02호선\n",
      "0310\t구파발            \t320\t03호선\n",
      "1005\t대방             \t137\t01호선\n",
      "1310\t망우             \tP121\t경춘선\n",
      "1311\t신내             \tP122\t경춘선\n",
      "1313\t별내             \tP124\t경춘선\n",
      "1314\t퇴계원            \tP125\t경춘선\n",
      "1315\t사릉             \tP126\t경춘선\n",
      "1316\t금곡             \tP127\t경춘선\n",
      "1317\t평내호평           \tP128\t경춘선\n",
      "1318\t천마산            \tP129\t경춘선\n",
      "1319\t마석             \tP130\t경춘선\n",
      "1320\t대성리            \tP131\t경춘선\n",
      "1321\t청평             \tP132\t경춘선\n",
      "1322\t상천             \tP133\t경춘선\n",
      "1324\t굴봉산            \tP135\t경춘선\n",
      "1325\t백양리            \tP136\t경춘선\n",
      "1326\t강촌             \tP137\t경춘선\n",
      "1327\t김유정            \tP138\t경춘선\n",
      "1328\t남춘천            \tP139\t경춘선\n",
      "1329\t춘천             \tP140\t경춘선\n",
      "1401\t봉명             \tP170\t01호선\n",
      "1402\t쌍용             \tP171\t01호선\n",
      "1403\t아산             \tP172\t01호선\n",
      "1405\t배방             \tP174\t01호선\n",
      "1408\t신창             \tP177\t01호선\n",
      "1450\t선바위            \t435\t04호선\n",
      "1451\t경마공원           \t436\t04호선\n",
      "1452\t대공원            \t437\t04호선\n",
      "1453\t과천             \t438\t04호선\n",
      "1454\t정부과천청사         \t439\t04호선\n",
      "1455\t인덕원            \t440\t04호선\n",
      "1456\t평촌             \t441\t04호선\n",
      "1458\t금정             \t443\t04호선\n",
      "1501\t판교             \tK410\t경강선\n",
      "1502\t이매             \tK411\t경강선\n",
      "1503\t삼동             \tK412\t경강선\n",
      "1504\t경기광주           \tK413\t경강선\n",
      "1505\t초월             \tK414\t경강선\n",
      "1506\t곤지암            \tK415\t경강선\n",
      "0338\t일원             \t348\t03호선\n",
      "0410\t상계             \t410\t04호선\n",
      "0425\t회현             \t425\t04호선\n",
      "0433\t사당             \t433\t04호선\n",
      "1507\t신둔도예촌          \tK416\t경강선\n",
      "1509\t부발             \tK418\t경강선\n",
      "1701\t구로             \t141\t01호선\n",
      "1702\t가산디지털단지        \tP142\t01호선\n",
      "1703\t금천구청           \tP144\t01호선\n",
      "1704\t석수             \tP145\t01호선\n",
      "1705\t관악             \tP146\t01호선\n",
      "1706\t안양             \tP147\t01호선\n",
      "1707\t명학             \tP148\t01호선\n",
      "1708\t금정             \tP149\t01호선\n",
      "1709\t군포             \tP150\t01호선\n",
      "1710\t의왕             \tP152\t01호선\n",
      "1711\t성균관대           \tP153\t01호선\n",
      "1712\t화서             \tP154\t01호선\n",
      "1713\t수원             \tP155\t01호선\n",
      "1714\t독산             \tP143\t01호선\n",
      "1715\t세류             \tP156\t01호선\n",
      "1716\t병점             \tP157\t01호선\n",
      "1717\t세마             \tP158\t01호선\n",
      "1718\t오산대            \tP159\t01호선\n",
      "1719\t오산             \tP160\t01호선\n",
      "1721\t송탄             \tP162\t01호선\n",
      "1723\t평택지제           \tP164\t01호선\n",
      "1724\t평택             \tP165\t01호선\n",
      "1725\t성환             \tP166\t01호선\n",
      "1726\t직산             \tP167\t01호선\n",
      "1727\t두정             \tP168\t01호선\n",
      "1728\t천안             \tP169\t01호선\n",
      "1749\t서동탄            \tP157-1\t01호선\n",
      "1750\t광명             \tP144-1\t01호선\n",
      "1751\t산본             \t444\t04호선\n",
      "1752\t대야미            \t446\t04호선\n",
      "0229\t봉천             \t229\t02호선\n",
      "0328\t잠원             \t338\t03호선\n",
      "0335\t대치             \t345\t03호선\n",
      "0341\t경찰병원           \t351\t03호선\n",
      "1753\t반월             \t447\t04호선\n",
      "1754\t상록수            \t448\t04호선\n",
      "1755\t한대앞            \t449\t04호선\n",
      "1757\t고잔             \t451\t04호선\n",
      "1758\t초지             \t452\t04호선\n",
      "1759\t안산             \t453\t04호선\n",
      "1760\t신길온천           \t454\t04호선\n",
      "1761\t정왕             \t455\t04호선\n",
      "1762\t오이도            \t456\t04호선\n",
      "1763\t수리산            \t445\t04호선\n",
      "1801\t개봉             \t143\t01호선\n",
      "1802\t오류동            \t144\t01호선\n",
      "1803\t역곡             \t146\t01호선\n",
      "1804\t부천             \t148\t01호선\n",
      "1805\t송내             \t150\t01호선\n",
      "1806\t부평             \t152\t01호선\n",
      "1807\t백운             \t153\t01호선\n",
      "1808\t동암             \t154\t01호선\n",
      "1809\t주안             \t156\t01호선\n",
      "1810\t제물포            \t158\t01호선\n",
      "1811\t동인천            \t160\t01호선\n",
      "1812\t인천             \t161\t01호선\n",
      "1813\t구일             \t142\t01호선\n",
      "1814\t소사             \t147\t01호선\n",
      "1815\t부개             \t151\t01호선\n",
      "1816\t간석             \t155\t01호선\n",
      "1817\t도원             \t159\t01호선\n",
      "1821\t온수             \t145\t01호선\n",
      "1822\t중동             \t149\t01호선\n",
      "1830\t한대앞            \tK251\t수인분당선\n",
      "1833\t초지             \tK254\t수인분당선\n",
      "1834\t안산             \tK255\t수인분당선\n",
      "0230\t신림             \t230\t02호선\n",
      "0244\t용답             \t211-1\t02호선\n",
      "0411\t노원             \t411\t04호선\n",
      "0418\t성신여대입구         \t418\t04호선\n",
      "1835\t신길온천           \tK256\t수인분당선\n",
      "1836\t정왕             \tK257\t수인분당선\n",
      "1845\t청량리            \tK209\t수인분당선\n",
      "1846\t수원             \tK245\t수인분당선\n",
      "1847\t서울숲            \tK211\t수인분당선\n",
      "1848\t압구정로데오         \tK212\t수인분당선\n",
      "1849\t강남구청           \tK213\t수인분당선\n",
      "1850\t선정릉            \tK214\t수인분당선\n",
      "1851\t가천대            \tK223\t수인분당선\n",
      "1852\t태평             \tK224\t수인분당선\n",
      "1853\t모란             \tK225\t수인분당선\n",
      "1854\t야탑             \tK226\t수인분당선\n",
      "1855\t서현             \tK228\t수인분당선\n",
      "1856\t수내             \tK229\t수인분당선\n",
      "1857\t정자             \tK230\t수인분당선\n",
      "1858\t미금             \tK231\t수인분당선\n",
      "1859\t오리             \tK232\t수인분당선\n",
      "1860\t이매             \tK227\t수인분당선\n",
      "1861\t보정             \tK234\t수인분당선\n",
      "1863\t구성             \tK235\t수인분당선\n",
      "1865\t기흥             \tK237\t수인분당선\n",
      "1866\t상갈             \tK238\t수인분당선\n",
      "1868\t영통             \tK240\t수인분당선\n",
      "1869\t망포             \tK241\t수인분당선\n",
      "1870\t매탄권선           \tK242\t수인분당선\n",
      "1871\t수원시청           \tK243\t수인분당선\n",
      "1872\t매교             \tK244\t수인분당선\n",
      "1874\t오목천            \tK247\t수인분당선\n",
      "1875\t어천             \tK248\t수인분당선\n",
      "1876\t야목             \tK249\t수인분당선\n",
      "1878\t달월             \tK259\t수인분당선\n",
      "1880\t소래포구           \tK261\t수인분당선\n",
      "1881\t인천논현           \tK262\t수인분당선\n",
      "0154\t종로5가           \t129\t01호선\n",
      "0231\t신대방            \t231\t02호선\n",
      "0247\t도림천            \t234-1\t02호선\n",
      "0314\t홍제             \t324\t03호선\n",
      "0412\t창동             \t412\t04호선\n",
      "0431\t동작             \t431\t04호선\n",
      "1882\t호구포            \tK263\t수인분당선\n",
      "1883\t남동인더스파크        \tK264\t수인분당선\n",
      "1884\t원인재            \tK265\t수인분당선\n",
      "1886\t송도             \tK267\t수인분당선\n",
      "1888\t인하대            \tK269\t수인분당선\n",
      "1889\t숭의             \tK270\t수인분당선\n",
      "1890\t신포             \tK271\t수인분당선\n",
      "1891\t인천             \tK272\t수인분당선\n",
      "1901\t방학             \t115\t01호선\n",
      "1902\t도봉             \t114\t01호선\n",
      "1903\t도봉산            \t113\t01호선\n",
      "1904\t망월사            \t112\t01호선\n",
      "1905\t회룡             \t111\t01호선\n",
      "1906\t의정부            \t110\t01호선\n",
      "1908\t녹양             \t108\t01호선\n",
      "1909\t양주             \t107\t01호선\n",
      "1911\t덕정             \t105\t01호선\n",
      "1913\t동두천중앙          \t103\t01호선\n",
      "1914\t보산             \t102\t01호선\n",
      "1915\t동두천            \t101\t01호선\n",
      "1948\t원흥             \t317\t03호선\n",
      "1950\t삼송             \t318\t03호선\n",
      "1951\t원당             \t316\t03호선\n",
      "1952\t화정             \t315\t03호선\n",
      "1953\t대곡             \t314\t03호선\n",
      "1954\t백석             \t313\t03호선\n",
      "0206\t신당             \t206\t02호선\n",
      "0237\t당산             \t237\t02호선\n",
      "0316\t독립문            \t326\t03호선\n",
      "0322\t동대입구           \t332\t03호선\n",
      "0336\t학여울            \t346\t03호선\n",
      "0342\t오금             \t352\t03호선\n",
      "0426\t서울역            \t426\t04호선\n",
      "1006\t영등포            \t139\t01호선\n",
      "1955\t마두             \t312\t03호선\n",
      "1956\t정발산            \t311\t03호선\n",
      "1957\t주엽             \t310\t03호선\n",
      "2511\t방화             \t510\t05호선\n",
      "2513\t김포공항           \t512\t05호선\n",
      "2515\t마곡             \t514\t05호선\n"
     ]
    },
    {
     "name": "stdout",
     "output_type": "stream",
     "text": [
      "2516\t발산             \t515\t05호선\n",
      "2517\t우장산            \t516\t05호선\n",
      "2518\t화곡             \t517\t05호선\n",
      "2519\t까치산            \t518\t05호선\n",
      "2520\t신정             \t519\t05호선\n",
      "2521\t목동             \t520\t05호선\n",
      "2522\t오목교            \t521\t05호선\n",
      "2523\t양평             \t522\t05호선\n",
      "2524\t영등포구청          \t523\t05호선\n",
      "2525\t영등포시장          \t524\t05호선\n",
      "2526\t신길             \t525\t05호선\n",
      "2527\t여의도            \t526\t05호선\n",
      "2528\t여의나루           \t527\t05호선\n",
      "0220\t선릉             \t220\t02호선\n",
      "0238\t합정             \t238\t02호선\n",
      "0248\t양천구청           \t234-2\t02호선\n",
      "0317\t경복궁            \t327\t03호선\n",
      "2529\t마포             \t528\t05호선\n",
      "2530\t공덕             \t529\t05호선\n",
      "2531\t애오개            \t530\t05호선\n",
      "2532\t충정로            \t531\t05호선\n",
      "2533\t서대문            \t532\t05호선\n",
      "2534\t광화문            \t533\t05호선\n",
      "2535\t종로3가           \t534\t05호선\n",
      "2536\t을지로4가          \t535\t05호선\n",
      "2537\t동대문역사문화공원      \t536\t05호선\n",
      "2539\t신금호            \t538\t05호선\n",
      "2540\t행당             \t539\t05호선\n",
      "2541\t왕십리            \t540\t05호선\n",
      "2542\t마장             \t541\t05호선\n",
      "2544\t장한평            \t543\t05호선\n",
      "2545\t군자             \t544\t05호선\n",
      "2546\t아차산            \t545\t05호선\n",
      "2547\t광나루            \t546\t05호선\n",
      "2548\t천호             \t547\t05호선\n",
      "2549\t강동             \t548\t05호선\n",
      "2550\t길동             \t549\t05호선\n",
      "2551\t굽은다리           \t550\t05호선\n",
      "2552\t명일             \t551\t05호선\n",
      "2553\t고덕             \t552\t05호선\n",
      "2554\t상일동            \t553\t05호선\n",
      "2555\t둔촌동            \tP549\t05호선\n",
      "2556\t올림픽공원          \tP550\t05호선\n",
      "0334\t도곡             \t344\t03호선\n",
      "0339\t수서             \t349\t03호선\n",
      "0413\t쌍문             \t413\t04호선\n",
      "0414\t수유             \t414\t04호선\n",
      "0415\t미아             \t415\t04호선\n",
      "0419\t한성대입구          \t419\t04호선\n",
      "0429\t신용산            \t429\t04호선\n",
      "0430\t이촌             \t430\t04호선\n",
      "2557\t방이             \tP551\t05호선\n",
      "2558\t오금             \tP552\t05호선\n",
      "2559\t개롱             \tP553\t05호선\n",
      "2560\t거여             \tP554\t05호선\n",
      "2561\t마천             \tP555\t05호선\n",
      "2562\t강일             \t554\t05호선\n",
      "2563\t미사             \t555\t05호선\n",
      "2564\t하남풍산           \t556\t05호선\n",
      "2565\t하남시청           \t557\t05호선\n",
      "2611\t응암             \t610\t06호선\n",
      "2612\t역촌             \t611\t06호선\n",
      "2613\t불광             \t612\t06호선\n",
      "2614\t독바위            \t613\t06호선\n",
      "2615\t연신내            \t614\t06호선\n",
      "2616\t구산             \t615\t06호선\n",
      "2617\t새절             \t616\t06호선\n",
      "2618\t증산             \t617\t06호선\n",
      "2619\t디지털미디어시티       \t618\t06호선\n",
      "2620\t월드컵경기장         \t619\t06호선\n",
      "2621\t마포구청           \t620\t06호선\n",
      "2622\t망원             \t621\t06호선\n",
      "2623\t합정             \t622\t06호선\n",
      "2624\t상수             \t623\t06호선\n",
      "2625\t광흥창            \t624\t06호선\n",
      "2626\t대흥             \t625\t06호선\n",
      "2627\t공덕             \t626\t06호선\n",
      "2628\t효창공원앞          \t627\t06호선\n",
      "2629\t삼각지            \t628\t06호선\n",
      "2630\t녹사평            \t629\t06호선\n",
      "2631\t이태원            \t630\t06호선\n",
      "2632\t한강진            \t631\t06호선\n",
      "2633\t버티고개           \t632\t06호선\n",
      "2634\t약수             \t633\t06호선\n",
      "2635\t청구             \t634\t06호선\n",
      "2636\t신당             \t635\t06호선\n",
      "2637\t동묘앞            \t636\t06호선\n",
      "2638\t창신             \t637\t06호선\n",
      "2639\t보문             \t638\t06호선\n",
      "2640\t안암             \t639\t06호선\n",
      "2641\t고려대            \t640\t06호선\n",
      "2642\t월곡             \t641\t06호선\n",
      "2643\t상월곡            \t642\t06호선\n",
      "2644\t돌곶이            \t643\t06호선\n",
      "2645\t석계             \t644\t06호선\n",
      "2646\t태릉입구           \t645\t06호선\n",
      "2647\t화랑대            \t646\t06호선\n",
      "2648\t봉화산            \t647\t06호선\n",
      "2649\t신내             \t648\t06호선\n",
      "2711\t장암             \t709\t07호선\n",
      "2712\t도봉산            \t710\t07호선\n",
      "2713\t수락산            \t711\t07호선\n",
      "2714\t마들             \t712\t07호선\n",
      "2715\t노원             \t713\t07호선\n",
      "2716\t중계             \t714\t07호선\n",
      "2717\t하계             \t7151\t07호선\n",
      "0239\t홍대입구           \t239\t02호선\n",
      "0245\t신답             \t211-2\t02호선\n",
      "0311\t연신내            \t321\t03호선\n",
      "0331\t남부터미널          \t341\t03호선\n",
      "2718\t공릉             \t716\t07호선\n",
      "2719\t태릉입구           \t717\t07호선\n",
      "2720\t먹골             \t718\t07호선\n",
      "2721\t중화             \t719\t07호선\n",
      "2722\t상봉             \t720\t07호선\n",
      "2723\t면목             \t721\t07호선\n",
      "2724\t사가정            \t722\t07호선\n",
      "2725\t용마산            \t723\t07호선\n",
      "2726\t중곡             \t724\t07호선\n",
      "2727\t군자             \t725\t07호선\n",
      "2728\t어린이대공원         \t726\t07호선\n",
      "2730\t뚝섬유원지          \t728\t07호선\n",
      "2731\t청담             \t729\t07호선\n",
      "2732\t강남구청           \t730\t07호선\n",
      "2734\t논현             \t732\t07호선\n",
      "2735\t반포             \t733\t07호선\n",
      "2736\t고속터미널          \t734\t07호선\n",
      "2737\t내방             \t735\t07호선\n",
      "2738\t이수             \t736\t07호선\n",
      "2739\t남성             \t737\t07호선\n",
      "2740\t숭실대입구          \t738\t07호선\n",
      "2741\t상도             \t739\t07호선\n",
      "2742\t장승배기           \t740\t07호선\n",
      "2743\t신대방삼거리         \t741\t07호선\n",
      "2745\t신풍             \t743\t07호선\n",
      "2746\t대림             \t744\t07호선\n",
      "2747\t남구로            \t745\t07호선\n",
      "2748\t가산디지털단지        \t746\t07호선\n",
      "2750\t광명사거리          \t748\t07호선\n",
      "2751\t천왕             \t749\t07호선\n",
      "2752\t온수             \t750\t07호선\n",
      "2753\t까치울            \t751\t07호선\n",
      "2754\t부천종합운동장        \t752\t07호선\n",
      "2755\t춘의             \t753\t07호선\n",
      "2756\t신중동            \t754\t07호선\n",
      "2757\t부천시청           \t755\t07호선\n",
      "2759\t삼산체육관          \t757\t07호선\n",
      "2760\t굴포천            \t758\t07호선\n",
      "2761\t부평구청           \t759\t07호선\n",
      "2811\t암사             \t810\t08호선\n",
      "2812\t천호             \t811\t08호선\n",
      "2813\t강동구청           \t812\t08호선\n",
      "2815\t잠실             \t814\t08호선\n",
      "2816\t석촌             \t815\t08호선\n",
      "2817\t송파             \t816\t08호선\n",
      "2818\t가락시장           \t817\t08호선\n",
      "2819\t문정             \t818\t08호선\n",
      "2820\t장지             \t819\t08호선\n",
      "2821\t복정             \t820\t08호선\n",
      "2822\t산성             \t821\t08호선\n",
      "2823\t남한산성입구         \t822\t08호선\n",
      "2824\t단대오거리          \t823\t08호선\n",
      "2825\t신흥             \t824\t08호선\n",
      "2826\t수진             \t825\t08호선\n",
      "2827\t모란             \t826\t08호선\n",
      "3110\t계양             \tI110\t인천선\n",
      "3111\t귤현             \tI111\t인천선\n",
      "3112\t박촌             \tI112\t인천선\n",
      "3113\t임학             \tI113\t인천선\n",
      "3114\t계산             \tI114\t인천선\n",
      "3115\t경인교대입구         \tI115\t인천선\n",
      "3117\t갈산             \tI117\t인천선\n",
      "0409\t당고개            \t409\t04호선\n",
      "0434\t남태령            \t434\t04호선\n",
      "3118\t부평구청           \tI118\t인천선\n",
      "3119\t부평시장           \tI119\t인천선\n",
      "3121\t동수             \tI121\t인천선\n",
      "3122\t부평삼거리          \tI122\t인천선\n",
      "3123\t간석오거리          \tI123\t인천선\n",
      "3124\t인천시청           \tI124\t인천선\n",
      "3125\t예술회관           \tI125\t인천선\n",
      "3126\t인천터미널          \tI126\t인천선\n",
      "3127\t문학경기장          \tI127\t인천선\n",
      "3129\t신연수            \tI129\t인천선\n",
      "3130\t원인재            \tI130\t인천선\n",
      "3131\t동춘             \tI131\t인천선\n",
      "3132\t동막             \tI132\t인천선\n",
      "3133\t캠퍼스타운          \tI133\t인천선\n",
      "3134\t테크노파크          \tI134\t인천선\n",
      "3135\t지식정보단지         \tI135\t인천선\n",
      "3136\t인천대입구          \tI136\t인천선\n",
      "3137\t센트럴파크          \tI137\t인천선\n",
      "3138\t국제업무지구         \tI138\t인천선\n",
      "3139\t송도달빛축제공원       \tI139\t인천선\n",
      "3201\t검단오류           \tI201\t인천2호선\n",
      "3202\t왕길             \tI202\t인천2호선\n",
      "3203\t검단사거리          \tI203\t인천2호선\n",
      "3204\t마전             \tI204\t인천2호선\n",
      "3205\t완정             \tI205\t인천2호선\n",
      "3207\t검암             \tI207\t인천2호선\n",
      "3209\t아시아드경기장        \tI209\t인천2호선\n",
      "3213\t석남             \tI213\t인천2호선\n",
      "3215\t인천가좌           \tI215\t인천2호선\n",
      "3216\t가재울            \tI216\t인천2호선\n",
      "3217\t주안국가산단         \tI217\t인천2호선\n",
      "3219\t시민공원           \tI219\t인천2호선\n",
      "3220\t석바위시장          \tI220\t인천2호선\n",
      "3221\t인천시청           \tI221\t인천2호선\n",
      "3223\t모래내시장          \tI223\t인천2호선\n",
      "3224\t만수             \tI224\t인천2호선\n",
      "3225\t남동구청           \tI225\t인천2호선\n",
      "0232\t구로디지털단지        \t232\t02호선\n",
      "0318\t안국             \t328\t03호선\n",
      "0332\t양재             \t342\t03호선\n",
      "0337\t대청             \t347\t03호선\n",
      "0417\t길음             \t417\t04호선\n",
      "1003\t용산             \t135\t01호선\n",
      "3226\t인천대공원          \tI226\t인천2호선\n",
      "3227\t운연             \tI227\t인천2호선\n",
      "3762\t산곡             \t760\t07호선\n",
      "3763\t석남             \t761\t07호선\n",
      "4101\t개화             \t901\t09호선\n",
      "4102\t김포공항           \t902\t09호선\n",
      "4103\t공항시장           \t903\t09호선\n",
      "4104\t신방화            \t904\t09호선\n",
      "4105\t마곡나루           \t905\t09호선\n",
      "4106\t양천향교           \t906\t09호선\n",
      "4107\t가양             \t907\t09호선\n",
      "4108\t증미             \t908\t09호선\n",
      "4109\t등촌             \t909\t09호선\n",
      "4110\t염창             \t910\t09호선\n",
      "4112\t선유도            \t912\t09호선\n",
      "4113\t당산             \t913\t09호선\n",
      "4114\t국회의사당          \t914\t09호선\n",
      "4115\t여의도            \t915\t09호선\n",
      "4116\t샛강             \t916\t09호선\n",
      "4117\t노량진            \t917\t09호선\n",
      "4119\t흑석             \t919\t09호선\n",
      "4120\t동작             \t920\t09호선\n",
      "4123\t고속터미널          \t923\t09호선\n",
      "4124\t사평             \t924\t09호선\n",
      "4127\t선정릉            \t927\t09호선\n",
      "0221\t역삼             \t221\t02호선\n",
      "0329\t고속터미널          \t339\t03호선\n",
      "0330\t교대             \t340\t03호선\n",
      "0422\t동대문역사문화공원      \t422\t04호선\n",
      "0432\t총신대입구          \t432\t04호선\n",
      "1007\t신도림            \t140\t01호선\n",
      "4128\t삼성중앙           \t928\t09호선\n",
      "4130\t종합운동장          \t930\t09호선\n",
      "4132\t석촌고분           \t932\t09호선\n",
      "4133\t석촌             \t933\t09호선\n",
      "4134\t송파나루           \t934\t09호선\n",
      "4135\t한성백제           \t935\t09호선\n",
      "4136\t올림픽공원          \t936\t09호선\n",
      "4137\t둔촌오륜           \t937\t09호선\n",
      "4138\t중앙보훈병원         \t938\t09호선\n",
      "4201\t서울역            \tA01\t공항철도\n",
      "4202\t공덕             \tA02\t공항철도\n",
      "4206\t마곡나루           \tA042\t공항철도\n",
      "4207\t김포공항           \tA05\t공항철도\n",
      "4210\t청라국제도시         \tA071\t공항철도\n",
      "4211\t운서             \tA08\t공항철도\n",
      "4212\t공항화물청사         \tA09\t공항철도\n",
      "4217\t영종             \tA072\t공항철도\n",
      "4307\t강남             \tD7 \t신분당선\n",
      "4308\t양재             \tD8 \t신분당선\n",
      "4313\t미금             \tD13\t신분당선\n",
      "4314\t동천             \tD14\t신분당선\n",
      "4503\t지석             \tY112\t용인경전철\n",
      "4509\t시청.용인대         \tY117\t용인경전철\n",
      "4510\t명지대            \tY118\t용인경전철\n",
      "4605\t의정부시청          \tU114\t의정부경전철\n",
      "4607\t의정부중앙          \tU117\t의정부경전철\n",
      "4608\t동오             \tU118\t의정부경전철\n",
      "4707\t삼양사거리          \t947\t우이신설경전철\n",
      "0207\t상왕십리           \t207\t02호선\n",
      "0233\t대림             \t233\t02호선\n",
      "0234\t신도림            \t234\t02호선\n",
      "0235\t문래             \t235\t02호선\n"
     ]
    },
    {
     "name": "stdout",
     "output_type": "stream",
     "text": [
      "0236\t영등포구청          \t236\t02호선\n",
      "0240\t신촌             \t240\t02호선\n",
      "0241\t이대             \t241\t02호선\n",
      "0249\t신정네거리          \t234-3\t02호선\n",
      "0250\t용두             \t211-3\t02호선\n",
      "0312\t불광             \t322\t03호선\n",
      "0313\t녹번             \t323\t03호선\n",
      "0315\t무악재            \t325\t03호선\n",
      "0319\t종로3가           \t329\t03호선\n",
      "0320\t을지로3가          \t330\t03호선\n",
      "0324\t금호             \t334\t03호선\n",
      "0325\t옥수             \t335\t03호선\n",
      "0326\t압구정            \t336\t03호선\n",
      "4708\t솔샘             \t948\t우이신설경전철\n",
      "0208\t왕십리            \t208\t02호선\n",
      "0209\t한양대            \t209\t02호선\n",
      "0210\t뚝섬             \t210\t02호선\n",
      "0211\t성수             \t211\t02호선\n",
      "0212\t건대입구           \t212\t02호선\n",
      "0213\t구의             \t213\t02호선\n",
      "0214\t강변             \t214\t02호선\n",
      "0215\t잠실나루           \t215\t02호선\n",
      "0216\t잠실             \t216\t02호선\n",
      "0217\t잠실새내           \t217\t02호선\n",
      "0218\t종합운동장          \t218\t02호선\n",
      "0219\t삼성             \t219\t02호선\n",
      "0222\t강남             \t222\t02호선\n",
      "0223\t교대             \t223\t02호선\n",
      "0224\t서초             \t224\t02호선\n",
      "0225\t방배             \t225\t02호선\n",
      "0226\t사당             \t226\t02호선\n",
      "0227\t낙성대            \t227\t02호선\n",
      "0155\t동대문            \t128\t01호선\n",
      "0156\t신설동            \t126\t01호선\n",
      "0157\t제기동            \t125\t01호선\n",
      "0158\t청량리            \t124\t01호선\n",
      "0200\t까치산            \t234-4\t02호선\n",
      "0201\t시청             \t201\t02호선\n",
      "0202\t을지로입구          \t202\t02호선\n",
      "0203\t을지로3가          \t203\t02호선\n",
      "0204\t을지로4가          \t204\t02호선\n",
      "0205\t동대문역사문화공원      \t205\t02호선\n",
      "0246\t신설동            \t211-4\t02호선\n",
      "0300\t대곡             \tK322\t경의선\n",
      "0323\t약수             \t333\t03호선\n",
      "0327\t신사             \t337\t03호선\n",
      "0421\t동대문            \t421\t04호선\n",
      "1002\t남영             \t134\t01호선\n",
      "100C\t용산             \tK110\t경의선\n",
      "0243\t충정로            \t243\t02호선\n",
      "0420\t혜화             \t420\t04호선\n",
      "0427\t숙대입구           \t427\t04호선\n",
      "1010\t한남             \tK113\t경의선\n",
      "0428\t삼각지            \t428\t04호선\n",
      "1009\t서빙고            \tK112\t경의선\n",
      "1024\t한티             \tK216\t수인분당선\n",
      "1218\t원덕             \tK136\t경의선\n",
      "1014\t청량리            \tK117\t경의선\n",
      "1268\t화전             \tK318\t경의선\n",
      "1275\t일산             \tK326\t경의선\n",
      "1276\t탄현             \tK327\t경의선\n",
      "1283\t파주             \tK334\t경의선\n",
      "1267\t수색             \tK317\t경의선\n",
      "1312\t갈매             \tP123\t경춘선\n",
      "1323\t가평             \tP134\t경춘선\n",
      "1407\t온양온천           \tP176\t01호선\n",
      "1457\t범계             \t442\t04호선\n",
      "1307\t회기             \tP118\t경춘선\n",
      "1508\t이천             \tK417\t경강선\n",
      "1722\t서정리            \tP163\t01호선\n",
      "1729\t당정             \tP151\t01호선\n",
      "1756\t중앙             \t450\t04호선\n",
      "1831\t중앙             \tK252\t수인분당선\n",
      "1720\t진위             \tP161\t01호선\n",
      "1800\t오이도            \tK258\t수인분당선\n",
      "1823\t도화             \t157\t01호선\n",
      "4922\t마산             \t692\t김포도시철도\n",
      "1305\t광운대            \tP116\t경춘선\n",
      "1832\t고잔             \tK253\t수인분당선\n",
      "1862\t죽전             \tK233\t수인분당선\n",
      "1864\t신갈             \tK236\t수인분당선\n",
      "1873\t고색             \tK246\t수인분당선\n",
      "1879\t월곶             \tK260\t수인분당선\n",
      "1885\t연수             \tK266\t수인분당선\n",
      "1907\t가능             \t109\t01호선\n",
      "1910\t덕계             \t106\t01호선\n",
      "1510\t세종대왕릉          \tK419\t경강선\n",
      "1867\t청명             \tK239\t수인분당선\n",
      "1877\t사리             \tK250\t수인분당선\n",
      "1912\t지행             \t104\t01호선\n",
      "1916\t소요산            \t100\t01호선\n",
      "1958\t대화             \t309\t03호선\n",
      "2512\t개화산            \t511\t05호선\n",
      "4926\t사우             \t696\t김포도시철도\n",
      "2514\t송정             \t513\t05호선\n",
      "2543\t답십리            \t542\t05호선\n",
      "2538\t청구             \t5371\t05호선\n",
      "2566\t하남검단산          \t558\t05호선\n",
      "2733\t학동             \t731\t07호선\n",
      "2749\t철산             \t747\t07호선\n",
      "2758\t상동             \t756\t07호선\n",
      "2729\t건대입구           \t727\t07호선\n",
      "2744\t보라매            \t742\t07호선\n",
      "2814\t몽촌토성           \t813\t08호선\n",
      "3116\t작전             \tI116\t인천선\n",
      "3120\t부평             \tI120\t인천선\n",
      "3128\t선학             \tI128\t인천선\n",
      "3206\t독정             \tI206\t인천2호선\n",
      "3208\t검바위            \tI208\t인천2호선\n",
      "3210\t서구청            \tI210\t인천2호선\n",
      "3211\t가정             \tI211\t인천2호선\n",
      "3214\t서부여성회관         \tI214\t인천2호선\n",
      "3218\t주안             \tI218\t인천2호선\n",
      "3222\t석천사거리          \tI222\t인천2호선\n",
      "4118\t노들             \t918\t09호선\n",
      "4121\t구반포            \t921\t09호선\n",
      "4122\t신반포            \t922\t09호선\n",
      "4125\t신논현            \t925\t09호선\n",
      "4126\t언주             \t926\t09호선\n",
      "4129\t봉은사            \t929\t09호선\n",
      "4131\t삼전             \t931\t09호선\n",
      "1511\t여주             \tK420\t경강선\n",
      "4111\t신목동            \t911\t09호선\n",
      "4203\t홍대입구           \tA03\t공항철도\n",
      "4204\t디지털미디어시티       \tA04\t공항철도\n",
      "4208\t계양             \tA06\t공항철도\n",
      "4209\t검암             \tA07\t공항철도\n",
      "4213\t인천공항1터미널       \tA10\t공항철도\n",
      "4215\t인천공항2터미널       \tA11\t공항철도\n",
      "4309\t양재시민의숲         \tD9 \t신분당선\n",
      "4310\t청계산입구          \tD10\t신분당선\n",
      "4311\t판교             \tD11\t신분당선\n",
      "4312\t정자             \tD12\t신분당선\n",
      "4511\t김량장            \tY119\t용인경전철\n",
      "4517\t전대.에버랜드        \tY126\t용인경전철\n",
      "4603\t범골             \tU112\t의정부경전철\n",
      "4604\t경전철의정부         \tU113\t의정부경전철\n",
      "4606\t흥선             \tU115\t의정부경전철\n",
      "4609\t새말             \tU119\t의정부경전철\n",
      "4705\t화계             \t945\t우이신설경전철\n",
      "4706\t삼양             \t946\t우이신설경전철\n",
      "4923\t장기             \t693\t김포도시철도\n",
      "4924\t운양             \t694\t김포도시철도\n",
      "4925\t걸포북변           \t695\t김포도시철도\n",
      "4927\t풍무             \t697\t김포도시철도\n",
      "3212\t가정중앙시장         \tI212\t인천2호선\n",
      "4315\t수지구청           \tD15\t신분당선\n",
      "4316\t성복             \tD16\t신분당선\n",
      "4317\t상현             \tD17\t신분당선\n",
      "4318\t광교중앙           \tD18\t신분당선\n",
      "4319\t광교             \tD19\t신분당선\n",
      "4501\t기흥             \tY110\t용인경전철\n",
      "4502\t강남대            \tY111\t용인경전철\n",
      "4504\t어정             \tY113\t용인경전철\n",
      "4505\t동백             \tY114\t용인경전철\n",
      "4506\t초당             \tY115\t용인경전철\n",
      "4508\t삼가             \tY116\t용인경전철\n",
      "4602\t회룡             \tU111\t의정부경전철\n",
      "4610\t경기도청북부청사       \tU120\t의정부경전철\n",
      "4611\t효자             \tU121\t의정부경전철\n",
      "4612\t곤제             \tU122\t의정부경전철\n",
      "4613\t어룡             \tU123\t의정부경전철\n",
      "4614\t송산             \tU124\t의정부경전철\n",
      "4615\t탑석             \tU125\t의정부경전철\n",
      "4701\t북한산우이          \t941\t우이신설경전철\n",
      "4702\t솔밭공원           \t942\t우이신설경전철\n",
      "4703\t4·19민주묘지       \t943\t우이신설경전철\n",
      "4704\t가오리            \t944\t우이신설경전철\n",
      "4928\t고촌             \t698\t김포도시철도\n",
      "4929\t김포공항           \t699\t김포도시철도\n",
      "0150\t서울역            \t133\t01호선\n",
      "0151\t시청             \t132\t01호선\n",
      "0152\t종각             \t131\t01호선\n",
      "0153\t종로3가           \t130\t01호선\n",
      "4709\t북한산보국문         \t949\t우이신설경전철\n",
      "4710\t정릉             \t950\t우이신설경전철\n",
      "4711\t성신여대입구         \t951\t우이신설경전철\n",
      "4712\t보문             \t952\t우이신설경전철\n",
      "4713\t신설동            \t953\t우이신설경전철\n",
      "4804\t소사             \t841\t서해선\n",
      "4805\t소새울            \t842\t서해선\n",
      "4806\t시흥대야           \t843\t서해선\n",
      "4807\t신천             \t844\t서해선\n",
      "4808\t신현             \t845\t서해선\n",
      "4809\t시흥시청           \t846\t서해선\n",
      "4810\t시흥능곡           \t847\t서해선\n",
      "4811\t달미             \t848\t서해선\n",
      "4812\t선부             \t849\t서해선\n",
      "4813\t초지             \t850\t서해선\n",
      "4814\t시우             \t701\t서해선\n",
      "----- Ending endIndex= 750\n"
     ]
    }
   ],
   "source": [
    "!python3 src/ds_open_subway_iter_json.py"
   ]
  },
  {
   "cell_type": "markdown",
   "id": "7b3661fb",
   "metadata": {},
   "source": [
    "### XML"
   ]
  },
  {
   "cell_type": "code",
   "execution_count": 35,
   "id": "74da1f8a",
   "metadata": {},
   "outputs": [],
   "source": [
    "import lxml\n",
    "import lxml.etree\n",
    "import requests\n",
    "\n",
    "url='http://openAPI.seoul.go.kr:8088/73725974496a736c34395757705847/xml/SearchSTNBySubwayLineInfo/1/10///2'\n",
    "data=requests.get(url).text\n",
    "#requests 함수 가지고 text로 받아온다.\n",
    "#tree=lxml.etree.parse(StringIO(data.encode('utf-8')))\n",
    "tree=lxml.etree.fromstring(data.encode('utf-8'))"
   ]
  },
  {
   "cell_type": "markdown",
   "id": "b969961e",
   "metadata": {},
   "source": [
    "open data 에서 확인한 역의 이름 -> //STATION_NM 으로 역의 이름 가져올 수 있음\n",
    "XPath를 이용한다. '//STATION_NM'는 어느 계층에서나 일치하는 태그를 검색한다.\n"
   ]
  },
  {
   "cell_type": "code",
   "execution_count": 36,
   "id": "de6798be",
   "metadata": {},
   "outputs": [
    {
     "name": "stdout",
     "output_type": "stream",
     "text": [
      "동묘앞\n",
      "미아사거리\n",
      "충무로\n",
      "노량진\n",
      "이촌\n",
      "옥수\n",
      "응봉\n",
      "왕십리\n",
      "회기\n",
      "외대앞\n"
     ]
    }
   ],
   "source": [
    "for node in tree.xpath('//STATION_NM'):\n",
    "    print (node.text)"
   ]
  },
  {
   "cell_type": "markdown",
   "id": "7cb8bad6",
   "metadata": {},
   "source": [
    "# 틀린것 다시풀기 리스트로 반환되기 때문에 반복문으로 처리"
   ]
  },
  {
   "cell_type": "markdown",
   "id": "9f3b9e16",
   "metadata": {},
   "source": [
    "데이터의 갯수를 확인해보자. 리스트로 결과가 반환되기 때문에, 반복문으로 처리한다."
   ]
  },
  {
   "cell_type": "code",
   "execution_count": 37,
   "id": "15cd2b34",
   "metadata": {},
   "outputs": [
    {
     "name": "stdout",
     "output_type": "stream",
     "text": [
      "total_count= 748 748\n"
     ]
    }
   ],
   "source": [
    "for node in tree.xpath('//list_total_count'):\n",
    "    list_total_count=int(node.text)\n",
    "    print (\"total_count=\",list_total_count, node.text)"
   ]
  },
  {
   "cell_type": "code",
   "execution_count": 38,
   "id": "cfd25c93",
   "metadata": {},
   "outputs": [
    {
     "name": "stdout",
     "output_type": "stream",
     "text": [
      "Overwriting src/ds_open_subway_xml.py\n"
     ]
    }
   ],
   "source": [
    "%%writefile src/ds_open_subway_xml.py\n",
    "#!/usr/bin/env python\n",
    "# coding: utf-8\n",
    "import os\n",
    "import requests\n",
    "import urllib\n",
    "import mylib # NO! src.mylib\n",
    "#xml에 필요한 라이브러리들 아래\n",
    "import lxml\n",
    "import lxml.etree\n",
    "from io import StringIO\n",
    "\n",
    "def doIt():\n",
    "    keyPath=os.path.join(os.getcwd(), 'src', 'key.properties')\n",
    "    key=mylib.getKey(keyPath)\n",
    "    # (1) make params with resource IDs\n",
    "    KEY=str(key['dataseoul'])\n",
    "    TYPE='xml'\n",
    "    #OLD: SERVICE='SearchSTNBySubwayLineService'\n",
    "    SERVICE='SearchSTNBySubwayLineInfo'\n",
    "    LINE_NUM=str(2)\n",
    "    START_INDEX=str(1)\n",
    "    END_INDEX=str(10)\n",
    "    startIndex=1\n",
    "    endIndex=10\n",
    "    list_total_count=0    # set later\n",
    "    while True:\n",
    "        START_INDEX=str(startIndex)\n",
    "        END_INDEX=str(endIndex)\n",
    "        #params=os.path.join(KEY,TYPE,SERVICE,START_INDEX,END_INDEX,LINE_NUM)\n",
    "        params=\"/\".join([KEY,TYPE,SERVICE,START_INDEX,END_INDEX,'','',LINE_NUM])\n",
    "        # (2) make a full url\n",
    "        _url='http://openAPI.seoul.go.kr:8088' #NOTE slash: do not use 'http://openAPI.seoul.go.kr:8088/'\n",
    "        #url=urllib.parse.urljoin(_url,params)\n",
    "        url=\"/\".join([_url,params])\n",
    "        #print(url)\n",
    "        # (3) get data\n",
    "        data=requests.get(url).text\n",
    "        #tree=lxml.etree.parse(StringIO(data.encode('utf-8')))\n",
    "        tree=lxml.etree.fromstring(data.encode('utf-8'))\n",
    "        if(startIndex==1):\n",
    "            for node in tree.xpath('//list_total_count'):\n",
    "                list_total_count=int(node.text)\n",
    "                print (\"- Total_count=\",list_total_count)\n",
    "        for node in tree.xpath('//STATION_NM'):\n",
    "            print (node.text, end=\", \")\n",
    "            #end =',' 로 출력하는 문자를 엮는다. \n",
    "        startIndex+=10\n",
    "        endIndex+=10\n",
    "        if(endIndex > list_total_count):\n",
    "            print(\"----- Ending endIndex=\", endIndex)\n",
    "            break\n",
    "\n",
    "if __name__ == \"__main__\":\n",
    "    doIt()"
   ]
  },
  {
   "cell_type": "code",
   "execution_count": 39,
   "id": "2f81ab2a",
   "metadata": {},
   "outputs": [
    {
     "name": "stdout",
     "output_type": "stream",
     "text": [
      "- Total_count= 748\n",
      "동묘앞, 미아사거리, 충무로, 노량진, 이촌, 옥수, 응봉, 왕십리, 회기, 외대앞, 신이문, 석계, 광운대, 회기, 월계, 녹천, 창동, 선릉, 도곡, 구룡, 개포동, 대모산입구, 왕십리, 수서, 복정, 신길, 중랑, 상봉, 망우, 양원, 구리, 도농, 양정, 덕소, 도심, 지축, 충무로, 매봉, 가락시장, 명동, 팔당, 운길산, 양수, 신원, 국수, 아신, 오빈, 양평, 용문, 지평, 서울역, 신촌, 효창공원앞, 공덕, 서강대, 홍대입구, 가좌, 디지털미디어시티, 강매, 행신, 능곡, 곡산, 백마, 풍산, 야당, 운정, 금릉, 금촌, 월롱, 문산, 임진강, 청량리, 중랑, 상봉, 서울대입구, 아현, 구파발, 대방, 망우, 신내, 별내, 퇴계원, 사릉, 금곡, 평내호평, 천마산, 마석, 대성리, 청평, 상천, 굴봉산, 백양리, 강촌, 김유정, 남춘천, 춘천, 봉명, 쌍용, 아산, 배방, 신창, 선바위, 경마공원, 대공원, 과천, 정부과천청사, 인덕원, 평촌, 금정, 판교, 이매, 삼동, 경기광주, 초월, 곤지암, 일원, 상계, 회현, 사당, 신둔도예촌, 부발, 구로, 가산디지털단지, 금천구청, 석수, 관악, 안양, 명학, 금정, 군포, 의왕, 성균관대, 화서, 수원, 독산, 세류, 병점, 세마, 오산대, 오산, 송탄, 평택지제, 평택, 성환, 직산, 두정, 천안, 서동탄, 광명, 산본, 대야미, 봉천, 잠원, 대치, 경찰병원, 반월, 상록수, 한대앞, 고잔, 초지, 안산, 신길온천, 정왕, 오이도, 수리산, 개봉, 오류동, 역곡, 부천, 송내, 부평, 백운, 동암, 주안, 제물포, 동인천, 인천, 구일, 소사, 부개, 간석, 도원, 온수, 중동, 한대앞, 초지, 안산, 신림, 용답, 노원, 성신여대입구, 신길온천, 정왕, 청량리, 수원, 서울숲, 압구정로데오, 강남구청, 선정릉, 가천대, 태평, 모란, 야탑, 서현, 수내, 정자, 미금, 오리, 이매, 보정, 구성, 기흥, 상갈, 영통, 망포, 매탄권선, 수원시청, 매교, 오목천, 어천, 야목, 달월, 소래포구, 인천논현, 종로5가, 신대방, 도림천, 홍제, 창동, 동작, 호구포, 남동인더스파크, 원인재, 송도, 인하대, 숭의, 신포, 인천, 방학, 도봉, 도봉산, 망월사, 회룡, 의정부, 녹양, 양주, 덕정, 동두천중앙, 보산, 동두천, 원흥, 삼송, 원당, 화정, 대곡, 백석, 신당, 당산, 독립문, 동대입구, 학여울, 오금, 서울역, 영등포, 마두, 정발산, 주엽, 방화, 김포공항, 마곡, 발산, 우장산, 화곡, 까치산, 신정, 목동, 오목교, 양평, 영등포구청, 영등포시장, 신길, 여의도, 여의나루, 선릉, 합정, 양천구청, 경복궁, 마포, 공덕, 애오개, 충정로, 서대문, 광화문, 종로3가, 을지로4가, 동대문역사문화공원, 신금호, 행당, 왕십리, 마장, 장한평, 군자, 아차산, 광나루, 천호, 강동, 길동, 굽은다리, 명일, 고덕, 상일동, 둔촌동, 올림픽공원, 도곡, 수서, 쌍문, 수유, 미아, 한성대입구, 신용산, 이촌, 방이, 오금, 개롱, 거여, 마천, 강일, 미사, 하남풍산, 하남시청, 응암, 역촌, 불광, 독바위, 연신내, 구산, 새절, 증산, 디지털미디어시티, 월드컵경기장, 마포구청, 망원, 합정, 상수, 광흥창, 대흥, 공덕, 효창공원앞, 삼각지, 녹사평, 이태원, 한강진, 버티고개, 약수, 청구, 신당, 동묘앞, 창신, 보문, 안암, 고려대, 월곡, 상월곡, 돌곶이, 석계, 태릉입구, 화랑대, 봉화산, 신내, 장암, 도봉산, 수락산, 마들, 노원, 중계, 하계, 홍대입구, 신답, 연신내, 남부터미널, 공릉, 태릉입구, 먹골, 중화, 상봉, 면목, 사가정, 용마산, 중곡, 군자, 어린이대공원, 뚝섬유원지, 청담, 강남구청, 논현, 반포, 고속터미널, 내방, 이수, 남성, 숭실대입구, 상도, 장승배기, 신대방삼거리, 신풍, 대림, 남구로, 가산디지털단지, 광명사거리, 천왕, 온수, 까치울, 부천종합운동장, 춘의, 신중동, 부천시청, 삼산체육관, 굴포천, 부평구청, 암사, 천호, 강동구청, 잠실, 석촌, 송파, 가락시장, 문정, 장지, 복정, 산성, 남한산성입구, 단대오거리, 신흥, 수진, 모란, 계양, 귤현, 박촌, 임학, 계산, 경인교대입구, 갈산, 당고개, 남태령, 부평구청, 부평시장, 동수, 부평삼거리, 간석오거리, 인천시청, 예술회관, 인천터미널, 문학경기장, 신연수, 원인재, 동춘, 동막, 캠퍼스타운, 테크노파크, 지식정보단지, 인천대입구, 센트럴파크, 국제업무지구, 송도달빛축제공원, 검단오류, 왕길, 검단사거리, 마전, 완정, 검암, 아시아드경기장, 석남, 인천가좌, 가재울, 주안국가산단, 시민공원, 석바위시장, 인천시청, 모래내시장, 만수, 남동구청, 구로디지털단지, 안국, 양재, 대청, 길음, 용산, 인천대공원, 운연, 산곡, 석남, 개화, 김포공항, 공항시장, 신방화, 마곡나루, 양천향교, 가양, 증미, 등촌, 염창, 선유도, 당산, 국회의사당, 여의도, 샛강, 노량진, 흑석, 동작, 고속터미널, 사평, 선정릉, 역삼, 고속터미널, 교대, 동대문역사문화공원, 총신대입구, 신도림, 삼성중앙, 종합운동장, 석촌고분, 석촌, 송파나루, 한성백제, 올림픽공원, 둔촌오륜, 중앙보훈병원, 서울역, 공덕, 마곡나루, 김포공항, 청라국제도시, 운서, 공항화물청사, 영종, 강남, 양재, 미금, 동천, 지석, 시청.용인대, 명지대, 의정부시청, 의정부중앙, 동오, 삼양사거리, 상왕십리, 대림, 신도림, 문래, 영등포구청, 신촌, 이대, 신정네거리, 용두, 불광, 녹번, 무악재, 종로3가, 을지로3가, 금호, 옥수, 압구정, 솔샘, 왕십리, 한양대, 뚝섬, 성수, 건대입구, 구의, 강변, 잠실나루, 잠실, 잠실새내, 종합운동장, 삼성, 강남, 교대, 서초, 방배, 사당, 낙성대, 동대문, 신설동, 제기동, 청량리, 까치산, 시청, 을지로입구, 을지로3가, 을지로4가, 동대문역사문화공원, 신설동, 대곡, 약수, 신사, 동대문, 남영, 용산, 충정로, 혜화, 숙대입구, 한남, 삼각지, 서빙고, 한티, 원덕, 청량리, 화전, 일산, 탄현, 파주, 수색, 갈매, 가평, 온양온천, 범계, 회기, 이천, 서정리, 당정, 중앙, 중앙, 진위, 오이도, 도화, 마산, 광운대, 고잔, 죽전, 신갈, 고색, 월곶, 연수, 가능, 덕계, 세종대왕릉, 청명, 사리, 지행, 소요산, 대화, 개화산, 사우, 송정, 답십리, 청구, 하남검단산, 학동, 철산, 상동, 건대입구, 보라매, 몽촌토성, 작전, 부평, 선학, 독정, 검바위, 서구청, 가정, 서부여성회관, 주안, 석천사거리, 노들, 구반포, 신반포, 신논현, 언주, 봉은사, 삼전, 여주, 신목동, 홍대입구, 디지털미디어시티, 계양, 검암, 인천공항1터미널, 인천공항2터미널, 양재시민의숲, 청계산입구, 판교, 정자, 김량장, 전대.에버랜드, 범골, 경전철의정부, 흥선, 새말, 화계, 삼양, 장기, 운양, 걸포북변, 풍무, 가정중앙시장, 수지구청, 성복, 상현, 광교중앙, 광교, 기흥, 강남대, 어정, 동백, 초당, 삼가, 회룡, 경기도청북부청사, 효자, 곤제, 어룡, 송산, 탑석, 북한산우이, 솔밭공원, 4·19민주묘지, 가오리, 고촌, 김포공항, 서울역, 시청, 종각, 종로3가, 북한산보국문, 정릉, 성신여대입구, 보문, 신설동, 소사, 소새울, 시흥대야, 신천, 신현, 시흥시청, 시흥능곡, 달미, 선부, 초지, 시우, ----- Ending endIndex= 750\n"
     ]
    }
   ],
   "source": [
    "!python3 src/ds_open_subway_xml.py"
   ]
  },
  {
   "cell_type": "markdown",
   "id": "906a1fa3",
   "metadata": {},
   "source": [
    "### 문제 3: 행정동별 서울생활인구 (단기체류 외국인)"
   ]
  },
  {
   "cell_type": "markdown",
   "id": "4a673a9b",
   "metadata": {},
   "source": [
    "656e705550736b6532324b4e4d715a"
   ]
  },
  {
   "cell_type": "markdown",
   "id": "60d8b8cc",
   "metadata": {},
   "source": [
    "\n",
    "### 인증키\n",
    "\n",
    "앞서 만들어 놓은 라이브러리를 사용하여 인증키를 읽어 온다."
   ]
  },
  {
   "cell_type": "code",
   "execution_count": null,
   "id": "eebe6ca3",
   "metadata": {},
   "outputs": [],
   "source": [
    "%%writefile src/key.properties\n",
    "dataseoul = 656e705550736b6532324b4e4d715a\n"
   ]
  },
  {
   "cell_type": "code",
   "execution_count": 41,
   "id": "ce1ff488",
   "metadata": {},
   "outputs": [],
   "source": [
    "import os\n",
    "import src.mylib\n",
    "keyPath=os.path.join(os.getcwd(), 'src', 'key.properties')\n",
    "key=src.mylib.getKey(keyPath)\n",
    "KEY=str(key['dataseoul'])"
   ]
  },
  {
   "cell_type": "markdown",
   "id": "b45b7128",
   "metadata": {},
   "source": [
    "### 요청인자\n"
   ]
  },
  {
   "cell_type": "code",
   "execution_count": 42,
   "id": "97b7ec91",
   "metadata": {},
   "outputs": [
    {
     "name": "stdout",
     "output_type": "stream",
     "text": [
      "/xml/SPOP_FORN_TEMP_RESD_DONG/1/5/20200617\n"
     ]
    }
   ],
   "source": [
    "\n",
    "TYPE='xml'\n",
    "SERVICE='SPOP_FORN_TEMP_RESD_DONG'\n",
    "START_INDEX=str(1)\n",
    "END_INDEX=str(5)\n",
    "STDR_DE_ID=str(20200617)\n",
    "\n",
    "#params=os.path.join(KEY,TYPE,SERVICE,START_INDEX,END_INDEX)\n",
    "params=\"/\".join([KEY,TYPE,SERVICE,START_INDEX,END_INDEX,STDR_DE_ID])\n",
    "\n",
    "print (params[30:])"
   ]
  },
  {
   "cell_type": "markdown",
   "id": "9e9baa5c",
   "metadata": {},
   "source": [
    "### url 만들기\n"
   ]
  },
  {
   "cell_type": "code",
   "execution_count": 43,
   "id": "cc25d719",
   "metadata": {},
   "outputs": [],
   "source": [
    "import urllib\n",
    "_url='http://openapi.seoul.go.kr:8088/'\n",
    "url=urllib.parse.urljoin(_url,params)"
   ]
  },
  {
   "cell_type": "code",
   "execution_count": 44,
   "id": "093757c6",
   "metadata": {},
   "outputs": [
    {
     "name": "stdout",
     "output_type": "stream",
     "text": [
      "http://openapi.seoul.go.kr:8088/73725974496a736c34395757705847/xml/SPOP_FORN_TEMP_RESD_DONG/1/5/20200617\n"
     ]
    }
   ],
   "source": [
    "print(url) "
   ]
  },
  {
   "cell_type": "markdown",
   "id": "e7adc4d3",
   "metadata": {},
   "source": [
    "## url 호출"
   ]
  },
  {
   "cell_type": "code",
   "execution_count": 45,
   "id": "93a31eac",
   "metadata": {},
   "outputs": [],
   "source": [
    "import requests\n",
    "\n",
    "data=requests.get(url).text"
   ]
  },
  {
   "cell_type": "code",
   "execution_count": 46,
   "id": "9bb21f2a",
   "metadata": {},
   "outputs": [
    {
     "name": "stdout",
     "output_type": "stream",
     "text": [
      "<?xml version=\"1.0\" encoding=\"UTF-8\"?>\n",
      "<SPOP_FORN_TEMP_RESD_DONG>\n",
      "<list_total_count>9849</list_total_count>\n",
      "<RESULT>\n",
      "<CODE>INFO-000</CODE>\n",
      "<MESSAGE>정상 처리되었습니다</MESSAGE>\n",
      "</RESULT>\n",
      "<row>\n",
      "<STDR_DE_ID>20200617</STDR_DE_ID>\n",
      "<TMZON_PD_SE>00</TMZON_PD_SE>\n",
      "<ADSTRD_CODE_SE>11110515</ADSTRD_CODE_SE>\n",
      "<TOT_LVPOP_CO>248.866</TOT_LVPOP_CO>\n",
      "<CHINA_STAYPOP_CO>86.4335</CHINA_STAYPOP_CO>\n",
      "<ETC_STAYPOP_CO>162.432</ETC_STAYPOP_CO>\n",
      "</row>\n",
      "<row>\n",
      "<STDR_DE_ID>20200617</STDR_DE_ID>\n",
      "<TMZON_PD_SE>00</TMZON_PD_SE>\n",
      "<ADSTRD_CODE_SE>11110530</ADSTRD_CODE_SE>\n",
      "<TOT_LVPOP_CO>71.2628</TOT_LVPOP_CO>\n",
      "<CHINA_STAYPOP_CO>0</CHINA_STAYPOP_CO>\n",
      "<ETC_STAYPOP_CO>71.2627</ETC_STAYPOP_CO>\n",
      "</row>\n",
      "<row>\n",
      "<STDR_DE_ID>20200617</STDR_DE_ID>\n",
      "<TMZON_PD_SE>00</TMZON_PD_SE>\n",
      "<ADSTRD_CODE_SE>11110540</ADSTRD_CODE_SE>\n",
      "<TOT_LVPOP_CO>150.1777</TOT_LVPOP_CO>\n",
      "<CHINA_STAYPOP_CO>86.2246</CHINA_STAYPOP_CO>\n",
      "<ETC_STAYPOP_CO>63.9532</ETC_STAYPOP_CO>\n",
      "</row>\n",
      "<row>\n",
      "<STDR_DE_ID>20200617</STDR_DE_ID>\n",
      "<TMZON_PD_SE>00</TMZON_PD_SE>\n",
      "<ADSTRD_CODE_SE>11110550</ADSTRD_CODE_SE>\n",
      "<TOT_LVPOP_CO>136.7137</TOT_LVPOP_CO>\n",
      "<CHINA_STAYPOP_CO>79.3833</CHINA_STAYPOP_CO>\n",
      "<ETC_STAYPOP_CO>57.3305</ETC_STAYPOP_CO>\n",
      "</row>\n",
      "<row>\n",
      "<STDR_DE_ID>20200617</STDR_DE_ID>\n",
      "<TMZON_PD_SE>00</TMZON_PD_SE>\n",
      "<ADSTRD_CODE_SE>11110560</ADSTRD_CODE_SE>\n",
      "<TOT_LVPOP_CO>174.824</TOT_LVPOP_CO>\n",
      "<CHINA_STAYPOP_CO>0</CHINA_STAYPOP_CO>\n",
      "<ETC_STAYPOP_CO>174.8241</ETC_STAYPOP_CO>\n",
      "</row>\n",
      "</SPOP_FORN_TEMP_RESD_DONG>\n",
      "\n"
     ]
    }
   ],
   "source": [
    "print (data)"
   ]
  },
  {
   "cell_type": "markdown",
   "id": "1642323e",
   "metadata": {},
   "source": [
    "### XML 파싱\n",
    "TOT_LVPOP_CO 항목을 조회해보자."
   ]
  },
  {
   "cell_type": "code",
   "execution_count": 47,
   "id": "9711ffc3",
   "metadata": {},
   "outputs": [
    {
     "name": "stdout",
     "output_type": "stream",
     "text": [
      "248.866\n",
      "71.2628\n",
      "150.1777\n",
      "136.7137\n",
      "174.824\n"
     ]
    }
   ],
   "source": [
    "import lxml\n",
    "import lxml.etree\n",
    "\n",
    "tree=lxml.etree.fromstring(data.encode('utf-8'))\n",
    "nodes=tree.xpath('//TOT_LVPOP_CO')\n",
    "for node in nodes:\n",
    "    print (node.text)"
   ]
  },
  {
   "cell_type": "markdown",
   "id": "2b06c064",
   "metadata": {},
   "source": [
    "lxml.etree.fromstring(data.encode('utf-8')) -> data를 인코딩해야함 안해도 되는데 그냥 해라 \n",
    "\n",
    "xpath 이용해서 특정 태그를 출력해라 "
   ]
  },
  {
   "cell_type": "markdown",
   "id": "f7fa8770",
   "metadata": {},
   "source": [
    "### 일괄실행\n",
    "* XML 데이터를 처리하는 프로그램이다.\n",
    "* 앞 문제풀이 프로그램과 큰 차이가 없다. API에서 읽는 방식이 유사하다."
   ]
  },
  {
   "cell_type": "code",
   "execution_count": 64,
   "id": "56b2e8a0",
   "metadata": {},
   "outputs": [
    {
     "name": "stdout",
     "output_type": "stream",
     "text": [
      "Overwriting src/ds_open_foreigners_xml.py\n"
     ]
    }
   ],
   "source": [
    "%%writefile src/ds_open_foreigners_xml.py\n",
    "import os\n",
    "import urllib\n",
    "import requests\n",
    "import lxml\n",
    "import lxml.etree\n",
    "#import mylib #from src import mylib\n",
    "# 현재 호출하는 mylib이 src밑에 있고 파일을 읽을때 위에서 이미 src를 했기 때문에\n",
    "# from src import mylib안해도된다. \n",
    "\n",
    "def doIt():\n",
    "    keyPath=os.path.join(os.getcwd(), 'src', 'key.properties')\n",
    "    #syntax에러로 인하여 mylib사용안하고 키를 직접 넣어줬다.\n",
    "    # key=mylib.getKey(keyPath)\n",
    "    # KEY=str(key['dataseoul'])\n",
    "    TYPE='xml'\n",
    "    SERVICE='SPOP_FORN_TEMP_RESD_DONG'\n",
    "    START_INDEX=str(1)\n",
    "    END_INDEX=str(10)\n",
    "    STDR_DE_ID=str(20200617)\n",
    "    #params=\"/\".join([KEY,TYPE,SERVICE,START_INDEX,END_INDEX,STDR_DE_ID])\n",
    "\n",
    "    #_url='http://openAPI.seoul.go.kr:8088/'\n",
    "    _url='http://openAPI.seoul.go.kr:8088' # NOTE: the slash at the end removed\n",
    "    #url=urllib.parse.urljoin(_url,params)\n",
    "    url=\"/\".join([_url,\"656e705550736b6532324b4e4d715a\",TYPE,SERVICE,START_INDEX,END_INDEX,STDR_DE_ID])\n",
    "    data=requests.get(url).text\n",
    "    #tree=lxml.etree.parse(StringIO.StringIO(data.encode('utf-8')))\n",
    "    tree=lxml.etree.fromstring(data.encode('utf-8'))\n",
    "    nodes=tree.xpath('//TOT_LVPOP_CO')\n",
    "    for node in nodes:\n",
    "        print (node.text)\n",
    "\n",
    "if __name__ == \"__main__\":\n",
    "    doIt()"
   ]
  },
  {
   "cell_type": "code",
   "execution_count": 65,
   "id": "24896803",
   "metadata": {},
   "outputs": [
    {
     "name": "stdout",
     "output_type": "stream",
     "text": [
      "248.866\r\n",
      "71.2628\r\n",
      "150.1777\r\n",
      "136.7137\r\n",
      "174.824\r\n",
      "0.4833\r\n",
      "0.2163\r\n",
      "35.2093\r\n",
      "756.5433\r\n",
      "87.6117\r\n"
     ]
    }
   ],
   "source": [
    "\n",
    "!python3 src/ds_open_foreigners_xml.py"
   ]
  },
  {
   "cell_type": "markdown",
   "id": "44426669",
   "metadata": {},
   "source": [
    "### 문제 4: 서울시 지하철역별 월별 승하차인원 구하기\n",
    "'서울시 지하철호선별 역별 승하차 인원 정보'를 API를 통해 데이터를 수집해보자. 서울열린데이터광장에서 '지하철 승하차인원'을 찾아보면, 'CardSubwayStatsNew' API가 존재한다.\n",
    "\n"
   ]
  },
  {
   "cell_type": "markdown",
   "id": "fa55cc33",
   "metadata": {},
   "source": [
    "### 인증키"
   ]
  },
  {
   "cell_type": "markdown",
   "id": "1544548a",
   "metadata": {},
   "source": [
    "564165694a736b6538305678554851"
   ]
  },
  {
   "cell_type": "code",
   "execution_count": 40,
   "id": "0cbe88b6",
   "metadata": {},
   "outputs": [],
   "source": [
    "_url='http://openAPI.seoul.go.kr:8088'\n",
    "#_key=str(key['dataseoul'])\n",
    "_key=\"564165694a736b6538305678554851\"\n",
    "_type='json'\n",
    "_service='CardSubwayStatsNew'\n",
    "_start_index=1\n",
    "\n",
    "_end_index=5\n",
    "_use_dt='20210801'"
   ]
  },
  {
   "cell_type": "markdown",
   "id": "de594704",
   "metadata": {},
   "source": [
    "### url 만들기"
   ]
  },
  {
   "cell_type": "code",
   "execution_count": 41,
   "id": "f5543d65",
   "metadata": {},
   "outputs": [
    {
     "name": "stdout",
     "output_type": "stream",
     "text": [
      "http://openAPI.seoul.go.kr:8088/564165694a736b6538305678554851/json/CardSubwayStatsNew/1/5/20210801\n"
     ]
    }
   ],
   "source": [
    "_api=os.path.join(_url,_key,_type,_service,str(_start_index),str(_end_index),_use_dt)\n",
    "print(_api)"
   ]
  },
  {
   "cell_type": "markdown",
   "id": "1f39e4c2",
   "metadata": {},
   "source": [
    "### url 호출"
   ]
  },
  {
   "cell_type": "code",
   "execution_count": 35,
   "id": "b1c57560",
   "metadata": {},
   "outputs": [],
   "source": [
    "import requests\n",
    "response = requests.get(_api)"
   ]
  },
  {
   "cell_type": "markdown",
   "id": "da295f74",
   "metadata": {},
   "source": [
    "## json 파싱"
   ]
  },
  {
   "cell_type": "markdown",
   "id": "2d8eb1d8",
   "metadata": {},
   "source": [
    "string 문자를 그냥 가져올떄는 \n",
    "\n",
    ".text했는데 \n",
    "\n",
    "json 파일 호출 할때는 .json()이라고 함\n",
    "\n",
    "response"
   ]
  },
  {
   "cell_type": "code",
   "execution_count": 36,
   "id": "5e9316a2",
   "metadata": {},
   "outputs": [],
   "source": [
    "\n",
    "sub=response.json()"
   ]
  },
  {
   "cell_type": "code",
   "execution_count": 37,
   "id": "b2cff7bf",
   "metadata": {},
   "outputs": [
    {
     "data": {
      "text/plain": [
       "dict"
      ]
     },
     "execution_count": 37,
     "metadata": {},
     "output_type": "execute_result"
    }
   ],
   "source": [
    "type(sub)"
   ]
  },
  {
   "cell_type": "code",
   "execution_count": 38,
   "id": "8c6bcaf5",
   "metadata": {},
   "outputs": [
    {
     "name": "stdout",
     "output_type": "stream",
     "text": [
      "{'CardSubwayStatsNew': {'list_total_count': 600, 'RESULT': {'CODE': 'INFO-000', 'MESSAGE': '정상 처리되었습니다'}, 'row': [{'USE_DT': '20210801', 'LINE_NUM': '1호선', 'SUB_STA_NM': '서울역', 'RIDE_PASGR_NUM': 17896.0, 'ALIGHT_PASGR_NUM': 15468.0, 'WORK_DT': '20210804'}, {'USE_DT': '20210801', 'LINE_NUM': '1호선', 'SUB_STA_NM': '동묘앞', 'RIDE_PASGR_NUM': 7760.0, 'ALIGHT_PASGR_NUM': 7771.0, 'WORK_DT': '20210804'}, {'USE_DT': '20210801', 'LINE_NUM': '1호선', 'SUB_STA_NM': '시청', 'RIDE_PASGR_NUM': 4436.0, 'ALIGHT_PASGR_NUM': 4308.0, 'WORK_DT': '20210804'}, {'USE_DT': '20210801', 'LINE_NUM': '1호선', 'SUB_STA_NM': '종각', 'RIDE_PASGR_NUM': 7972.0, 'ALIGHT_PASGR_NUM': 7438.0, 'WORK_DT': '20210804'}, {'USE_DT': '20210801', 'LINE_NUM': '1호선', 'SUB_STA_NM': '종로3가', 'RIDE_PASGR_NUM': 8999.0, 'ALIGHT_PASGR_NUM': 8604.0, 'WORK_DT': '20210804'}]}}\n"
     ]
    }
   ],
   "source": [
    "print(sub)"
   ]
  },
  {
   "cell_type": "markdown",
   "id": "a73f5484",
   "metadata": {},
   "source": [
    "일부만 읽을 때는 괄호를 계층적으로 따라가라\n"
   ]
  },
  {
   "cell_type": "code",
   "execution_count": 71,
   "id": "94dc7abe",
   "metadata": {},
   "outputs": [
    {
     "data": {
      "text/plain": [
       "[{'USE_DT': '20210801',\n",
       "  'LINE_NUM': '1호선',\n",
       "  'SUB_STA_NM': '서울역',\n",
       "  'RIDE_PASGR_NUM': 17896.0,\n",
       "  'ALIGHT_PASGR_NUM': 15468.0,\n",
       "  'WORK_DT': '20210804'},\n",
       " {'USE_DT': '20210801',\n",
       "  'LINE_NUM': '1호선',\n",
       "  'SUB_STA_NM': '동묘앞',\n",
       "  'RIDE_PASGR_NUM': 7760.0,\n",
       "  'ALIGHT_PASGR_NUM': 7771.0,\n",
       "  'WORK_DT': '20210804'},\n",
       " {'USE_DT': '20210801',\n",
       "  'LINE_NUM': '1호선',\n",
       "  'SUB_STA_NM': '시청',\n",
       "  'RIDE_PASGR_NUM': 4436.0,\n",
       "  'ALIGHT_PASGR_NUM': 4308.0,\n",
       "  'WORK_DT': '20210804'},\n",
       " {'USE_DT': '20210801',\n",
       "  'LINE_NUM': '1호선',\n",
       "  'SUB_STA_NM': '종각',\n",
       "  'RIDE_PASGR_NUM': 7972.0,\n",
       "  'ALIGHT_PASGR_NUM': 7438.0,\n",
       "  'WORK_DT': '20210804'},\n",
       " {'USE_DT': '20210801',\n",
       "  'LINE_NUM': '1호선',\n",
       "  'SUB_STA_NM': '종로3가',\n",
       "  'RIDE_PASGR_NUM': 8999.0,\n",
       "  'ALIGHT_PASGR_NUM': 8604.0,\n",
       "  'WORK_DT': '20210804'}]"
      ]
     },
     "execution_count": 71,
     "metadata": {},
     "output_type": "execute_result"
    }
   ],
   "source": [
    "sub['CardSubwayStatsNew']['row']"
   ]
  },
  {
   "cell_type": "code",
   "execution_count": 91,
   "id": "a2fe2087",
   "metadata": {},
   "outputs": [
    {
     "name": "stdout",
     "output_type": "stream",
     "text": [
      "1         \t2         \n",
      "1         \t2         \n",
      "1         \t2         \n"
     ]
    }
   ],
   "source": [
    "a = [{\n",
    "    'dd': '1',\n",
    "    'aa': '2'\n",
    "},\n",
    "{\n",
    "    'dd': '1',\n",
    "    'aa': '2'\n",
    "},\n",
    "{\n",
    "    'dd': '1',\n",
    "    'aa': '2'\n",
    "}]\n",
    "\n",
    "for e in a:\n",
    "    print(\"{0:10s}\\t{1:10s}\".format(e['dd'], e['aa']))"
   ]
  },
  {
   "cell_type": "code",
   "execution_count": 86,
   "id": "867e1ce6",
   "metadata": {
    "scrolled": true
   },
   "outputs": [
    {
     "name": "stdout",
     "output_type": "stream",
     "text": [
      "1호선  \t서울역       \t  17896.0\t  15468.0\n",
      "1호선  \t동묘앞       \t   7760.0\t   7771.0\n",
      "1호선  \t시청        \t   4436.0\t   4308.0\n",
      "1호선  \t종각        \t   7972.0\t   7438.0\n",
      "1호선  \t종로3가      \t   8999.0\t   8604.0\n"
     ]
    }
   ],
   "source": [
    "for e in sub['CardSubwayStatsNew']['row']:\n",
    "    print (\"{0:5s}\\t{1:10s}\\t{2:9.1f}\\t{3:9.1f}\".format(e['LINE_NUM'],e['SUB_STA_NM'],e['RIDE_PASGR_NUM'],e['ALIGHT_PASGR_NUM']))"
   ]
  },
  {
   "cell_type": "markdown",
   "id": "1f65f141",
   "metadata": {},
   "source": [
    "0:5s -> 5s는 문자열로 5자리를 출력하는 것이다.\n",
    "\n",
    "1:10s -> 10자리로 문자를 출력해라\n",
    "\n",
    "2:9.1f -> float로 소수점 한자리를 출력하라 \n",
    "## 이 print함수 다시 보자리스트 안에 딕셔너리가 있을때 사용하는 것이다."
   ]
  },
  {
   "cell_type": "markdown",
   "id": "74e04283",
   "metadata": {},
   "source": [
    "## 문제 5: 서울시 지하철 호선별 역별 시간대별 승하차 인원 정보¶\n"
   ]
  },
  {
   "cell_type": "markdown",
   "id": "8d30b462",
   "metadata": {},
   "source": [
    "지하철역의 승차, 하차 인원을 알아보자. 서울열린데이터광장을 '지하철 승하차'를 찾아보면, 몇 가지 API가 있다. 이 가운데 '서울시 지하철 호선별 역별 시간대별 승하차 인원 정보' 'CardSubwayTime' API를 통해 데이터를 수집해보자. 교통카드(선후불교통카드 및 1회용 교통카드)를 이용한 지하철 호선별 역별(1~9호선, 서울시 관할 운송기관에 한함) 시간대별 승하차인원을 알아볼 수 있다. 데이터는 매월 5일 전월 데이터를 갱신된다."
   ]
  },
  {
   "cell_type": "markdown",
   "id": "1c052a1c",
   "metadata": {},
   "source": [
    "46416e4957736b653132314d445a6347"
   ]
  },
  {
   "cell_type": "code",
   "execution_count": 47,
   "id": "b1976272",
   "metadata": {},
   "outputs": [],
   "source": [
    "_url='http://openAPI.seoul.go.kr:8088'\n",
    "_key=\"46416e4957736b653132314d445a6347\"\n",
    "_type='xml'\n",
    "_service='CardSubwayTime'\n",
    "_start_index=1\n",
    "_end_index=5\n",
    "_use_mon='202106'"
   ]
  },
  {
   "cell_type": "markdown",
   "id": "9e61ec18",
   "metadata": {},
   "source": [
    "\n",
    "### url 호출 반복\n",
    "아래 출력을 살펴보면, RESULT, row 태그가 포함되어 있다.\n",
    "\n",
    "API호출에 대한 처리가 정상적인지 알 수 있다.\n",
    "메시지\t메시지 설명\n",
    "\n",
    "INFO-000\t정상 처리되었습니다.\n",
    "\n",
    "INFO-100\t인증키가 유효하지 않습니다.\n",
    "\n",
    "INFO-200\t해당하는 데이터가 없습니다.\n",
    "\n",
    "row 태그 안에는 요청 정보가 포함되어 있다.\n",
    "\n",
    "여기서는 INDEX를 통해 1회에 5건씩, iter를 통해 1회 반복해서 총 5건의 데이터를 가져오고 있다. iter를 크게 또는 작게 해서 데이터 수집량을 조정할 수 있다. 각 레코드는 시간대별 승하차인원을 포함하고 있다.\n"
   ]
  },
  {
   "cell_type": "markdown",
   "id": "b9b3e388",
   "metadata": {},
   "source": [
    "# 틀림 다시풀어"
   ]
  },
  {
   "cell_type": "code",
   "execution_count": 45,
   "id": "33eca99a",
   "metadata": {},
   "outputs": [
    {
     "name": "stdout",
     "output_type": "stream",
     "text": [
      "<?xml version=\"1.0\" encoding=\"UTF-8\"?>\n",
      "<CardSubwayTime>\n",
      "<list_total_count>608</list_total_count>\n",
      "<RESULT>\n",
      "<CODE>INFO-000</CODE>\n",
      "<MESSAGE>정상 처리되었습니다</MESSAGE>\n",
      "</RESULT>\n",
      "<row>\n",
      "<USE_MON>202106</USE_MON>\n",
      "<LINE_NUM>1호선</LINE_NUM>\n",
      "<SUB_STA_NM>서울역</SUB_STA_NM>\n",
      "<FOUR_RIDE_NUM>654</FOUR_RIDE_NUM>\n",
      "<FOUR_ALIGHT_NUM>17</FOUR_ALIGHT_NUM>\n",
      "<FIVE_RIDE_NUM>9008</FIVE_RIDE_NUM>\n",
      "<FIVE_ALIGHT_NUM>6400</FIVE_ALIGHT_NUM>\n",
      "<SIX_RIDE_NUM>12474</SIX_RIDE_NUM>\n",
      "<SIX_ALIGHT_NUM>37203</SIX_ALIGHT_NUM>\n",
      "<SEVEN_RIDE_NUM>37253</SEVEN_RIDE_NUM>\n",
      "<SEVEN_ALIGHT_NUM>91875</SEVEN_ALIGHT_NUM>\n",
      "<EIGHT_RIDE_NUM>59876</EIGHT_RIDE_NUM>\n",
      "<EIGHT_ALIGHT_NUM>187805</EIGHT_ALIGHT_NUM>\n",
      "<NINE_RIDE_NUM>44619</NINE_RIDE_NUM>\n",
      "<NINE_ALIGHT_NUM>118679</NINE_ALIGHT_NUM>\n",
      "<TEN_RIDE_NUM>42611</TEN_RIDE_NUM>\n",
      "<TEN_ALIGHT_NUM>57710</TEN_ALIGHT_NUM>\n",
      "<ELEVEN_RIDE_NUM>49533</ELEVEN_RIDE_NUM>\n",
      "<ELEVEN_ALIGHT_NUM>50003</ELEVEN_ALIGHT_NUM>\n",
      "<TWELVE_RIDE_NUM>59357</TWELVE_RIDE_NUM>\n",
      "<TWELVE_ALIGHT_NUM>53317</TWELVE_ALIGHT_NUM>\n",
      "<THIRTEEN_RIDE_NUM>61171</THIRTEEN_RIDE_NUM>\n",
      "<THIRTEEN_ALIGHT_NUM>53687</THIRTEEN_ALIGHT_NUM>\n",
      "<FOURTEEN_RIDE_NUM>53310</FOURTEEN_RIDE_NUM>\n",
      "<FOURTEEN_ALIGHT_NUM>49094</FOURTEEN_ALIGHT_NUM>\n",
      "<FIFTEEN_RIDE_NUM>65767</FIFTEEN_RIDE_NUM>\n",
      "<FIFTEEN_ALIGHT_NUM>52788</FIFTEEN_ALIGHT_NUM>\n",
      "<SIXTEEN_RIDE_NUM>76249</SIXTEEN_RIDE_NUM>\n",
      "<SIXTEEN_ALIGHT_NUM>53969</SIXTEEN_ALIGHT_NUM>\n",
      "<SEVENTEEN_RIDE_NUM>122928</SEVENTEEN_RIDE_NUM>\n",
      "<SEVENTEEN_ALIGHT_NUM>64693</SEVENTEEN_ALIGHT_NUM>\n",
      "<EIGHTEEN_RIDE_NUM>184907</EIGHTEEN_RIDE_NUM>\n",
      "<EIGHTEEN_ALIGHT_NUM>73978</EIGHTEEN_ALIGHT_NUM>\n",
      "<NINETEEN_RIDE_NUM>87575</NINETEEN_RIDE_NUM>\n",
      "<NINETEEN_ALIGHT_NUM>46769</NINETEEN_ALIGHT_NUM>\n",
      "<TWENTY_RIDE_NUM>59961</TWENTY_RIDE_NUM>\n",
      "<TWENTY_ALIGHT_NUM>30743</TWENTY_ALIGHT_NUM>\n",
      "<TWENTY_ONE_RIDE_NUM>65078</TWENTY_ONE_RIDE_NUM>\n",
      "<TWENTY_ONE_ALIGHT_NUM>27435</TWENTY_ONE_ALIGHT_NUM>\n",
      "<TWENTY_TWO_RIDE_NUM>44921</TWENTY_TWO_RIDE_NUM>\n",
      "<TWENTY_TWO_ALIGHT_NUM>22829</TWENTY_TWO_ALIGHT_NUM>\n",
      "<TWENTY_THREE_RIDE_NUM>11581</TWENTY_THREE_RIDE_NUM>\n",
      "<TWENTY_THREE_ALIGHT_NUM>8024</TWENTY_THREE_ALIGHT_NUM>\n",
      "<MIDNIGHT_RIDE_NUM>30</MIDNIGHT_RIDE_NUM>\n",
      "<MIDNIGHT_ALIGHT_NUM>637</MIDNIGHT_ALIGHT_NUM>\n",
      "<ONE_RIDE_NUM>0</ONE_RIDE_NUM>\n",
      "<ONE_ALIGHT_NUM>1</ONE_ALIGHT_NUM>\n",
      "<TWO_RIDE_NUM>0</TWO_RIDE_NUM>\n",
      "<TWO_ALIGHT_NUM>0</TWO_ALIGHT_NUM>\n",
      "<THREE_RIDE_NUM>0</THREE_RIDE_NUM>\n",
      "<THREE_ALIGHT_NUM>0</THREE_ALIGHT_NUM>\n",
      "<WORK_DT>20210703</WORK_DT>\n",
      "</row>\n",
      "<row>\n",
      "<USE_MON>202106</USE_MON>\n",
      "<LINE_NUM>1호선</LINE_NUM>\n",
      "<SUB_STA_NM>동묘앞</SUB_STA_NM>\n",
      "<FOUR_RIDE_NUM>51</FOUR_RIDE_NUM>\n",
      "<FOUR_ALIGHT_NUM>1</FOUR_ALIGHT_NUM>\n",
      "<FIVE_RIDE_NUM>3218</FIVE_RIDE_NUM>\n",
      "<FIVE_ALIGHT_NUM>1100</FIVE_ALIGHT_NUM>\n",
      "<SIX_RIDE_NUM>3422</SIX_RIDE_NUM>\n",
      "<SIX_ALIGHT_NUM>4802</SIX_ALIGHT_NUM>\n",
      "<SEVEN_RIDE_NUM>5896</SEVEN_RIDE_NUM>\n",
      "<SEVEN_ALIGHT_NUM>9703</SEVEN_ALIGHT_NUM>\n",
      "<EIGHT_RIDE_NUM>9194</EIGHT_RIDE_NUM>\n",
      "<EIGHT_ALIGHT_NUM>24921</EIGHT_ALIGHT_NUM>\n",
      "<NINE_RIDE_NUM>8022</NINE_RIDE_NUM>\n",
      "<NINE_ALIGHT_NUM>17333</NINE_ALIGHT_NUM>\n",
      "<TEN_RIDE_NUM>9687</TEN_RIDE_NUM>\n",
      "<TEN_ALIGHT_NUM>19292</TEN_ALIGHT_NUM>\n",
      "<ELEVEN_RIDE_NUM>14091</ELEVEN_RIDE_NUM>\n",
      "<ELEVEN_ALIGHT_NUM>24305</ELEVEN_ALIGHT_NUM>\n",
      "<TWELVE_RIDE_NUM>20089</TWELVE_RIDE_NUM>\n",
      "<TWELVE_ALIGHT_NUM>26186</TWELVE_ALIGHT_NUM>\n",
      "<THIRTEEN_RIDE_NUM>24776</THIRTEEN_RIDE_NUM>\n",
      "<THIRTEEN_ALIGHT_NUM>28141</THIRTEEN_ALIGHT_NUM>\n",
      "<FOURTEEN_RIDE_NUM>27144</FOURTEEN_RIDE_NUM>\n",
      "<FOURTEEN_ALIGHT_NUM>26643</FOURTEEN_ALIGHT_NUM>\n",
      "<FIFTEEN_RIDE_NUM>28360</FIFTEEN_RIDE_NUM>\n",
      "<FIFTEEN_ALIGHT_NUM>23213</FIFTEEN_ALIGHT_NUM>\n",
      "<SIXTEEN_RIDE_NUM>31119</SIXTEEN_RIDE_NUM>\n",
      "<SIXTEEN_ALIGHT_NUM>17744</SIXTEEN_ALIGHT_NUM>\n",
      "<SEVENTEEN_RIDE_NUM>27036</SEVENTEEN_RIDE_NUM>\n",
      "<SEVENTEEN_ALIGHT_NUM>13759</SEVENTEEN_ALIGHT_NUM>\n",
      "<EIGHTEEN_RIDE_NUM>23606</EIGHTEEN_RIDE_NUM>\n",
      "<EIGHTEEN_ALIGHT_NUM>10098</EIGHTEEN_ALIGHT_NUM>\n",
      "<NINETEEN_RIDE_NUM>11006</NINETEEN_RIDE_NUM>\n",
      "<NINETEEN_ALIGHT_NUM>6510</NINETEEN_ALIGHT_NUM>\n",
      "<TWENTY_RIDE_NUM>6119</TWENTY_RIDE_NUM>\n",
      "<TWENTY_ALIGHT_NUM>4409</TWENTY_ALIGHT_NUM>\n",
      "<TWENTY_ONE_RIDE_NUM>5485</TWENTY_ONE_RIDE_NUM>\n",
      "<TWENTY_ONE_ALIGHT_NUM>4265</TWENTY_ONE_ALIGHT_NUM>\n",
      "<TWENTY_TWO_RIDE_NUM>3405</TWENTY_TWO_RIDE_NUM>\n",
      "<TWENTY_TWO_ALIGHT_NUM>5689</TWENTY_TWO_ALIGHT_NUM>\n",
      "<TWENTY_THREE_RIDE_NUM>1035</TWENTY_THREE_RIDE_NUM>\n",
      "<TWENTY_THREE_ALIGHT_NUM>2589</TWENTY_THREE_ALIGHT_NUM>\n",
      "<MIDNIGHT_RIDE_NUM>4</MIDNIGHT_RIDE_NUM>\n",
      "<MIDNIGHT_ALIGHT_NUM>1348</MIDNIGHT_ALIGHT_NUM>\n",
      "<ONE_RIDE_NUM>0</ONE_RIDE_NUM>\n",
      "<ONE_ALIGHT_NUM>0</ONE_ALIGHT_NUM>\n",
      "<TWO_RIDE_NUM>0</TWO_RIDE_NUM>\n",
      "<TWO_ALIGHT_NUM>0</TWO_ALIGHT_NUM>\n",
      "<THREE_RIDE_NUM>0</THREE_RIDE_NUM>\n",
      "<THREE_ALIGHT_NUM>0</THREE_ALIGHT_NUM>\n",
      "<WORK_DT>20210703</WORK_DT>\n",
      "</row>\n",
      "<row>\n",
      "<USE_MON>202106</USE_MON>\n",
      "<LINE_NUM>1호선</LINE_NUM>\n",
      "<SUB_STA_NM>시청</SUB_STA_NM>\n",
      "<FOUR_RIDE_NUM>37</FOUR_RIDE_NUM>\n",
      "<FOUR_ALIGHT_NUM>0</FOUR_ALIGHT_NUM>\n",
      "<FIVE_RIDE_NUM>1881</FIVE_RIDE_NUM>\n",
      "<FIVE_ALIGHT_NUM>4340</FIVE_ALIGHT_NUM>\n",
      "<SIX_RIDE_NUM>2948</SIX_RIDE_NUM>\n",
      "<SIX_ALIGHT_NUM>21443</SIX_ALIGHT_NUM>\n",
      "<SEVEN_RIDE_NUM>6280</SEVEN_RIDE_NUM>\n",
      "<SEVEN_ALIGHT_NUM>62346</SEVEN_ALIGHT_NUM>\n",
      "<EIGHT_RIDE_NUM>7740</EIGHT_RIDE_NUM>\n",
      "<EIGHT_ALIGHT_NUM>167991</EIGHT_ALIGHT_NUM>\n",
      "<NINE_RIDE_NUM>8117</NINE_RIDE_NUM>\n",
      "<NINE_ALIGHT_NUM>72853</NINE_ALIGHT_NUM>\n",
      "<TEN_RIDE_NUM>9284</TEN_RIDE_NUM>\n",
      "<TEN_ALIGHT_NUM>29250</TEN_ALIGHT_NUM>\n",
      "<ELEVEN_RIDE_NUM>14030</ELEVEN_RIDE_NUM>\n",
      "<ELEVEN_ALIGHT_NUM>27989</ELEVEN_ALIGHT_NUM>\n",
      "<TWELVE_RIDE_NUM>15295</TWELVE_RIDE_NUM>\n",
      "<TWELVE_ALIGHT_NUM>25037</TWELVE_ALIGHT_NUM>\n",
      "<THIRTEEN_RIDE_NUM>18849</THIRTEEN_RIDE_NUM>\n",
      "<THIRTEEN_ALIGHT_NUM>24492</THIRTEEN_ALIGHT_NUM>\n",
      "<FOURTEEN_RIDE_NUM>23331</FOURTEEN_RIDE_NUM>\n",
      "<FOURTEEN_ALIGHT_NUM>20032</FOURTEEN_ALIGHT_NUM>\n",
      "<FIFTEEN_RIDE_NUM>30469</FIFTEEN_RIDE_NUM>\n",
      "<FIFTEEN_ALIGHT_NUM>17869</FIFTEEN_ALIGHT_NUM>\n",
      "<SIXTEEN_RIDE_NUM>36116</SIXTEEN_RIDE_NUM>\n",
      "<SIXTEEN_ALIGHT_NUM>15593</SIXTEEN_ALIGHT_NUM>\n",
      "<SEVENTEEN_RIDE_NUM>66595</SEVENTEEN_RIDE_NUM>\n",
      "<SEVENTEEN_ALIGHT_NUM>16611</SEVENTEEN_ALIGHT_NUM>\n",
      "<EIGHTEEN_RIDE_NUM>135842</EIGHTEEN_RIDE_NUM>\n",
      "<EIGHTEEN_ALIGHT_NUM>17805</EIGHTEEN_ALIGHT_NUM>\n",
      "<NINETEEN_RIDE_NUM>46850</NINETEEN_RIDE_NUM>\n",
      "<NINETEEN_ALIGHT_NUM>8139</NINETEEN_ALIGHT_NUM>\n",
      "<TWENTY_RIDE_NUM>38173</TWENTY_RIDE_NUM>\n",
      "<TWENTY_ALIGHT_NUM>4455</TWENTY_ALIGHT_NUM>\n",
      "<TWENTY_ONE_RIDE_NUM>39048</TWENTY_ONE_RIDE_NUM>\n",
      "<TWENTY_ONE_ALIGHT_NUM>4234</TWENTY_ONE_ALIGHT_NUM>\n",
      "<TWENTY_TWO_RIDE_NUM>28501</TWENTY_TWO_RIDE_NUM>\n",
      "<TWENTY_TWO_ALIGHT_NUM>3686</TWENTY_TWO_ALIGHT_NUM>\n",
      "<TWENTY_THREE_RIDE_NUM>4390</TWENTY_THREE_RIDE_NUM>\n",
      "<TWENTY_THREE_ALIGHT_NUM>1485</TWENTY_THREE_ALIGHT_NUM>\n",
      "<MIDNIGHT_RIDE_NUM>3</MIDNIGHT_RIDE_NUM>\n",
      "<MIDNIGHT_ALIGHT_NUM>92</MIDNIGHT_ALIGHT_NUM>\n",
      "<ONE_RIDE_NUM>0</ONE_RIDE_NUM>\n",
      "<ONE_ALIGHT_NUM>0</ONE_ALIGHT_NUM>\n",
      "<TWO_RIDE_NUM>0</TWO_RIDE_NUM>\n",
      "<TWO_ALIGHT_NUM>0</TWO_ALIGHT_NUM>\n",
      "<THREE_RIDE_NUM>0</THREE_RIDE_NUM>\n",
      "<THREE_ALIGHT_NUM>0</THREE_ALIGHT_NUM>\n",
      "<WORK_DT>20210703</WORK_DT>\n",
      "</row>\n",
      "<row>\n",
      "<USE_MON>202106</USE_MON>\n",
      "<LINE_NUM>1호선</LINE_NUM>\n",
      "<SUB_STA_NM>종각</SUB_STA_NM>\n",
      "<FOUR_RIDE_NUM>127</FOUR_RIDE_NUM>\n",
      "<FOUR_ALIGHT_NUM>1</FOUR_ALIGHT_NUM>\n",
      "<FIVE_RIDE_NUM>2314</FIVE_RIDE_NUM>\n",
      "<FIVE_ALIGHT_NUM>4354</FIVE_ALIGHT_NUM>\n",
      "<SIX_RIDE_NUM>2868</SIX_RIDE_NUM>\n",
      "<SIX_ALIGHT_NUM>23755</SIX_ALIGHT_NUM>\n",
      "<SEVEN_RIDE_NUM>5479</SEVEN_RIDE_NUM>\n",
      "<SEVEN_ALIGHT_NUM>96712</SEVEN_ALIGHT_NUM>\n",
      "<EIGHT_RIDE_NUM>8419</EIGHT_RIDE_NUM>\n",
      "<EIGHT_ALIGHT_NUM>223459</EIGHT_ALIGHT_NUM>\n",
      "<NINE_RIDE_NUM>10625</NINE_RIDE_NUM>\n",
      "<NINE_ALIGHT_NUM>131420</NINE_ALIGHT_NUM>\n",
      "<TEN_RIDE_NUM>14727</TEN_RIDE_NUM>\n",
      "<TEN_ALIGHT_NUM>50878</TEN_ALIGHT_NUM>\n",
      "<ELEVEN_RIDE_NUM>23057</ELEVEN_RIDE_NUM>\n",
      "<ELEVEN_ALIGHT_NUM>44506</ELEVEN_ALIGHT_NUM>\n",
      "<TWELVE_RIDE_NUM>27707</TWELVE_RIDE_NUM>\n",
      "<TWELVE_ALIGHT_NUM>39830</TWELVE_ALIGHT_NUM>\n",
      "<THIRTEEN_RIDE_NUM>34538</THIRTEEN_RIDE_NUM>\n",
      "<THIRTEEN_ALIGHT_NUM>40864</THIRTEEN_ALIGHT_NUM>\n",
      "<FOURTEEN_RIDE_NUM>40378</FOURTEEN_RIDE_NUM>\n",
      "<FOURTEEN_ALIGHT_NUM>33173</FOURTEEN_ALIGHT_NUM>\n",
      "<FIFTEEN_RIDE_NUM>49745</FIFTEEN_RIDE_NUM>\n",
      "<FIFTEEN_ALIGHT_NUM>29610</FIFTEEN_ALIGHT_NUM>\n",
      "<SIXTEEN_RIDE_NUM>58664</SIXTEEN_RIDE_NUM>\n",
      "<SIXTEEN_ALIGHT_NUM>29692</SIXTEEN_ALIGHT_NUM>\n",
      "<SEVENTEEN_RIDE_NUM>114985</SEVENTEEN_RIDE_NUM>\n",
      "<SEVENTEEN_ALIGHT_NUM>33365</SEVENTEEN_ALIGHT_NUM>\n",
      "<EIGHTEEN_RIDE_NUM>192552</EIGHTEEN_RIDE_NUM>\n",
      "<EIGHTEEN_ALIGHT_NUM>39621</EIGHTEEN_ALIGHT_NUM>\n",
      "<NINETEEN_RIDE_NUM>78735</NINETEEN_RIDE_NUM>\n",
      "<NINETEEN_ALIGHT_NUM>19163</NINETEEN_ALIGHT_NUM>\n",
      "<TWENTY_RIDE_NUM>64989</TWENTY_RIDE_NUM>\n",
      "<TWENTY_ALIGHT_NUM>7386</TWENTY_ALIGHT_NUM>\n",
      "<TWENTY_ONE_RIDE_NUM>81179</TWENTY_ONE_RIDE_NUM>\n",
      "<TWENTY_ONE_ALIGHT_NUM>4790</TWENTY_ONE_ALIGHT_NUM>\n",
      "<TWENTY_TWO_RIDE_NUM>63653</TWENTY_TWO_RIDE_NUM>\n",
      "<TWENTY_TWO_ALIGHT_NUM>3763</TWENTY_TWO_ALIGHT_NUM>\n",
      "<TWENTY_THREE_RIDE_NUM>8153</TWENTY_THREE_RIDE_NUM>\n",
      "<TWENTY_THREE_ALIGHT_NUM>1675</TWENTY_THREE_ALIGHT_NUM>\n",
      "<MIDNIGHT_RIDE_NUM>21</MIDNIGHT_RIDE_NUM>\n",
      "<MIDNIGHT_ALIGHT_NUM>135</MIDNIGHT_ALIGHT_NUM>\n",
      "<ONE_RIDE_NUM>0</ONE_RIDE_NUM>\n",
      "<ONE_ALIGHT_NUM>0</ONE_ALIGHT_NUM>\n",
      "<TWO_RIDE_NUM>0</TWO_RIDE_NUM>\n",
      "<TWO_ALIGHT_NUM>0</TWO_ALIGHT_NUM>\n",
      "<THREE_RIDE_NUM>0</THREE_RIDE_NUM>\n",
      "<THREE_ALIGHT_NUM>0</THREE_ALIGHT_NUM>\n",
      "<WORK_DT>20210703</WORK_DT>\n",
      "</row>\n",
      "<row>\n",
      "<USE_MON>202106</USE_MON>\n",
      "<LINE_NUM>1호선</LINE_NUM>\n",
      "<SUB_STA_NM>종로3가</SUB_STA_NM>\n",
      "<FOUR_RIDE_NUM>191</FOUR_RIDE_NUM>\n",
      "<FOUR_ALIGHT_NUM>24</FOUR_ALIGHT_NUM>\n",
      "<FIVE_RIDE_NUM>3227</FIVE_RIDE_NUM>\n",
      "<FIVE_ALIGHT_NUM>3388</FIVE_ALIGHT_NUM>\n",
      "<SIX_RIDE_NUM>3069</SIX_RIDE_NUM>\n",
      "<SIX_ALIGHT_NUM>13080</SIX_ALIGHT_NUM>\n",
      "<SEVEN_RIDE_NUM>5108</SEVEN_RIDE_NUM>\n",
      "<SEVEN_ALIGHT_NUM>25462</SEVEN_ALIGHT_NUM>\n",
      "<EIGHT_RIDE_NUM>7412</EIGHT_RIDE_NUM>\n",
      "<EIGHT_ALIGHT_NUM>70639</EIGHT_ALIGHT_NUM>\n",
      "<NINE_RIDE_NUM>11673</NINE_RIDE_NUM>\n",
      "<NINE_ALIGHT_NUM>73336</NINE_ALIGHT_NUM>\n",
      "<TEN_RIDE_NUM>18502</TEN_RIDE_NUM>\n",
      "<TEN_ALIGHT_NUM>57312</TEN_ALIGHT_NUM>\n",
      "<ELEVEN_RIDE_NUM>29882</ELEVEN_RIDE_NUM>\n",
      "<ELEVEN_ALIGHT_NUM>55725</ELEVEN_ALIGHT_NUM>\n",
      "<TWELVE_RIDE_NUM>37009</TWELVE_RIDE_NUM>\n",
      "<TWELVE_ALIGHT_NUM>53678</TWELVE_ALIGHT_NUM>\n",
      "<THIRTEEN_RIDE_NUM>44050</THIRTEEN_RIDE_NUM>\n",
      "<THIRTEEN_ALIGHT_NUM>51189</THIRTEEN_ALIGHT_NUM>\n",
      "<FOURTEEN_RIDE_NUM>47626</FOURTEEN_RIDE_NUM>\n",
      "<FOURTEEN_ALIGHT_NUM>46621</FOURTEEN_ALIGHT_NUM>\n",
      "<FIFTEEN_RIDE_NUM>53071</FIFTEEN_RIDE_NUM>\n",
      "<FIFTEEN_ALIGHT_NUM>40250</FIFTEEN_ALIGHT_NUM>\n",
      "<SIXTEEN_RIDE_NUM>56955</SIXTEEN_RIDE_NUM>\n",
      "<SIXTEEN_ALIGHT_NUM>34679</SIXTEEN_ALIGHT_NUM>\n",
      "<SEVENTEEN_RIDE_NUM>68711</SEVENTEEN_RIDE_NUM>\n",
      "<SEVENTEEN_ALIGHT_NUM>31234</SEVENTEEN_ALIGHT_NUM>\n",
      "<EIGHTEEN_RIDE_NUM>94683</EIGHTEEN_RIDE_NUM>\n",
      "<EIGHTEEN_ALIGHT_NUM>33315</EIGHTEEN_ALIGHT_NUM>\n",
      "<NINETEEN_RIDE_NUM>55993</NINETEEN_RIDE_NUM>\n",
      "<NINETEEN_ALIGHT_NUM>16571</NINETEEN_ALIGHT_NUM>\n",
      "<TWENTY_RIDE_NUM>41534</TWENTY_RIDE_NUM>\n",
      "<TWENTY_ALIGHT_NUM>6332</TWENTY_ALIGHT_NUM>\n",
      "<TWENTY_ONE_RIDE_NUM>51588</TWENTY_ONE_RIDE_NUM>\n",
      "<TWENTY_ONE_ALIGHT_NUM>4938</TWENTY_ONE_ALIGHT_NUM>\n",
      "<TWENTY_TWO_RIDE_NUM>47756</TWENTY_TWO_RIDE_NUM>\n",
      "<TWENTY_TWO_ALIGHT_NUM>4591</TWENTY_TWO_ALIGHT_NUM>\n",
      "<TWENTY_THREE_RIDE_NUM>6768</TWENTY_THREE_RIDE_NUM>\n",
      "<TWENTY_THREE_ALIGHT_NUM>2318</TWENTY_THREE_ALIGHT_NUM>\n",
      "<MIDNIGHT_RIDE_NUM>25</MIDNIGHT_RIDE_NUM>\n",
      "<MIDNIGHT_ALIGHT_NUM>413</MIDNIGHT_ALIGHT_NUM>\n",
      "<ONE_RIDE_NUM>0</ONE_RIDE_NUM>\n",
      "<ONE_ALIGHT_NUM>0</ONE_ALIGHT_NUM>\n",
      "<TWO_RIDE_NUM>0</TWO_RIDE_NUM>\n",
      "<TWO_ALIGHT_NUM>0</TWO_ALIGHT_NUM>\n",
      "<THREE_RIDE_NUM>0</THREE_RIDE_NUM>\n",
      "<THREE_ALIGHT_NUM>0</THREE_ALIGHT_NUM>\n",
      "<WORK_DT>20210703</WORK_DT>\n",
      "</row>\n",
      "</CardSubwayTime>\n",
      "\n",
      "<?xml version=\"1.0\" encoding=\"UTF-8\"?>\n",
      "<CardSubwayTime>\n",
      "<list_total_count>608</list_total_count>\n",
      "<RESULT>\n",
      "<CODE>INFO-000</CODE>\n",
      "<MESSAGE>정상 처리되었습니다</MESSAGE>\n",
      "</RESULT>\n",
      "<row>\n",
      "<USE_MON>202106</USE_MON>\n",
      "<LINE_NUM>1호선</LINE_NUM>\n",
      "<SUB_STA_NM>종로5가</SUB_STA_NM>\n",
      "<FOUR_RIDE_NUM>71</FOUR_RIDE_NUM>\n",
      "<FOUR_ALIGHT_NUM>0</FOUR_ALIGHT_NUM>\n",
      "<FIVE_RIDE_NUM>1526</FIVE_RIDE_NUM>\n",
      "<FIVE_ALIGHT_NUM>3779</FIVE_ALIGHT_NUM>\n",
      "<SIX_RIDE_NUM>2574</SIX_RIDE_NUM>\n",
      "<SIX_ALIGHT_NUM>16992</SIX_ALIGHT_NUM>\n",
      "<SEVEN_RIDE_NUM>4781</SEVEN_RIDE_NUM>\n",
      "<SEVEN_ALIGHT_NUM>39423</SEVEN_ALIGHT_NUM>\n",
      "<EIGHT_RIDE_NUM>7414</EIGHT_RIDE_NUM>\n",
      "<EIGHT_ALIGHT_NUM>103060</EIGHT_ALIGHT_NUM>\n",
      "<NINE_RIDE_NUM>11525</NINE_RIDE_NUM>\n",
      "<NINE_ALIGHT_NUM>62717</NINE_ALIGHT_NUM>\n",
      "<TEN_RIDE_NUM>18431</TEN_RIDE_NUM>\n",
      "<TEN_ALIGHT_NUM>50987</TEN_ALIGHT_NUM>\n",
      "<ELEVEN_RIDE_NUM>27735</ELEVEN_RIDE_NUM>\n",
      "<ELEVEN_ALIGHT_NUM>48857</ELEVEN_ALIGHT_NUM>\n",
      "<TWELVE_RIDE_NUM>34387</TWELVE_RIDE_NUM>\n",
      "<TWELVE_ALIGHT_NUM>47295</TWELVE_ALIGHT_NUM>\n",
      "<THIRTEEN_RIDE_NUM>40094</THIRTEEN_RIDE_NUM>\n",
      "<THIRTEEN_ALIGHT_NUM>42416</THIRTEEN_ALIGHT_NUM>\n",
      "<FOURTEEN_RIDE_NUM>46633</FOURTEEN_RIDE_NUM>\n",
      "<FOURTEEN_ALIGHT_NUM>39899</FOURTEEN_ALIGHT_NUM>\n",
      "<FIFTEEN_RIDE_NUM>50981</FIFTEEN_RIDE_NUM>\n",
      "<FIFTEEN_ALIGHT_NUM>35861</FIFTEEN_ALIGHT_NUM>\n",
      "<SIXTEEN_RIDE_NUM>55982</SIXTEEN_RIDE_NUM>\n",
      "<SIXTEEN_ALIGHT_NUM>29188</SIXTEEN_ALIGHT_NUM>\n",
      "<SEVENTEEN_RIDE_NUM>71386</SEVENTEEN_RIDE_NUM>\n",
      "<SEVENTEEN_ALIGHT_NUM>26232</SEVENTEEN_ALIGHT_NUM>\n",
      "<EIGHTEEN_RIDE_NUM>96880</EIGHTEEN_RIDE_NUM>\n",
      "<EIGHTEEN_ALIGHT_NUM>22727</EIGHTEEN_ALIGHT_NUM>\n",
      "<NINETEEN_RIDE_NUM>45846</NINETEEN_RIDE_NUM>\n",
      "<NINETEEN_ALIGHT_NUM>12621</NINETEEN_ALIGHT_NUM>\n",
      "<TWENTY_RIDE_NUM>29493</TWENTY_RIDE_NUM>\n",
      "<TWENTY_ALIGHT_NUM>5474</TWENTY_ALIGHT_NUM>\n",
      "<TWENTY_ONE_RIDE_NUM>29266</TWENTY_ONE_RIDE_NUM>\n",
      "<TWENTY_ONE_ALIGHT_NUM>4184</TWENTY_ONE_ALIGHT_NUM>\n",
      "<TWENTY_TWO_RIDE_NUM>20319</TWENTY_TWO_RIDE_NUM>\n",
      "<TWENTY_TWO_ALIGHT_NUM>3607</TWENTY_TWO_ALIGHT_NUM>\n",
      "<TWENTY_THREE_RIDE_NUM>2740</TWENTY_THREE_RIDE_NUM>\n",
      "<TWENTY_THREE_ALIGHT_NUM>1681</TWENTY_THREE_ALIGHT_NUM>\n",
      "<MIDNIGHT_RIDE_NUM>4</MIDNIGHT_RIDE_NUM>\n",
      "<MIDNIGHT_ALIGHT_NUM>268</MIDNIGHT_ALIGHT_NUM>\n",
      "<ONE_RIDE_NUM>1</ONE_RIDE_NUM>\n",
      "<ONE_ALIGHT_NUM>1</ONE_ALIGHT_NUM>\n",
      "<TWO_RIDE_NUM>0</TWO_RIDE_NUM>\n",
      "<TWO_ALIGHT_NUM>0</TWO_ALIGHT_NUM>\n",
      "<THREE_RIDE_NUM>0</THREE_RIDE_NUM>\n",
      "<THREE_ALIGHT_NUM>0</THREE_ALIGHT_NUM>\n",
      "<WORK_DT>20210703</WORK_DT>\n",
      "</row>\n",
      "<row>\n",
      "<USE_MON>202106</USE_MON>\n",
      "<LINE_NUM>1호선</LINE_NUM>\n",
      "<SUB_STA_NM>동대문</SUB_STA_NM>\n",
      "<FOUR_RIDE_NUM>715</FOUR_RIDE_NUM>\n",
      "<FOUR_ALIGHT_NUM>14</FOUR_ALIGHT_NUM>\n",
      "<FIVE_RIDE_NUM>13235</FIVE_RIDE_NUM>\n",
      "<FIVE_ALIGHT_NUM>2131</FIVE_ALIGHT_NUM>\n",
      "<SIX_RIDE_NUM>8936</SIX_RIDE_NUM>\n",
      "<SIX_ALIGHT_NUM>6979</SIX_ALIGHT_NUM>\n",
      "<SEVEN_RIDE_NUM>14776</SEVEN_RIDE_NUM>\n",
      "<SEVEN_ALIGHT_NUM>12395</SEVEN_ALIGHT_NUM>\n",
      "<EIGHT_RIDE_NUM>18660</EIGHT_RIDE_NUM>\n",
      "<EIGHT_ALIGHT_NUM>24732</EIGHT_ALIGHT_NUM>\n",
      "<NINE_RIDE_NUM>16788</NINE_RIDE_NUM>\n",
      "<NINE_ALIGHT_NUM>22866</NINE_ALIGHT_NUM>\n",
      "<TEN_RIDE_NUM>15988</TEN_RIDE_NUM>\n",
      "<TEN_ALIGHT_NUM>21388</TEN_ALIGHT_NUM>\n",
      "<ELEVEN_RIDE_NUM>17257</ELEVEN_RIDE_NUM>\n",
      "<ELEVEN_ALIGHT_NUM>22109</ELEVEN_ALIGHT_NUM>\n",
      "<TWELVE_RIDE_NUM>20561</TWELVE_RIDE_NUM>\n",
      "<TWELVE_ALIGHT_NUM>21732</TWELVE_ALIGHT_NUM>\n",
      "<THIRTEEN_RIDE_NUM>21099</THIRTEEN_RIDE_NUM>\n",
      "<THIRTEEN_ALIGHT_NUM>20786</THIRTEEN_ALIGHT_NUM>\n",
      "<FOURTEEN_RIDE_NUM>22318</FOURTEEN_RIDE_NUM>\n",
      "<FOURTEEN_ALIGHT_NUM>19616</FOURTEEN_ALIGHT_NUM>\n",
      "<FIFTEEN_RIDE_NUM>23370</FIFTEEN_RIDE_NUM>\n",
      "<FIFTEEN_ALIGHT_NUM>18703</FIFTEEN_ALIGHT_NUM>\n",
      "<SIXTEEN_RIDE_NUM>24338</SIXTEEN_RIDE_NUM>\n",
      "<SIXTEEN_ALIGHT_NUM>17325</SIXTEEN_ALIGHT_NUM>\n",
      "<SEVENTEEN_RIDE_NUM>23923</SEVENTEEN_RIDE_NUM>\n",
      "<SEVENTEEN_ALIGHT_NUM>17672</SEVENTEEN_ALIGHT_NUM>\n",
      "<EIGHTEEN_RIDE_NUM>22895</EIGHTEEN_RIDE_NUM>\n",
      "<EIGHTEEN_ALIGHT_NUM>18354</EIGHTEEN_ALIGHT_NUM>\n",
      "<NINETEEN_RIDE_NUM>15871</NINETEEN_RIDE_NUM>\n",
      "<NINETEEN_ALIGHT_NUM>19089</NINETEEN_ALIGHT_NUM>\n",
      "<TWENTY_RIDE_NUM>12693</TWENTY_RIDE_NUM>\n",
      "<TWENTY_ALIGHT_NUM>12789</TWENTY_ALIGHT_NUM>\n",
      "<TWENTY_ONE_RIDE_NUM>13040</TWENTY_ONE_RIDE_NUM>\n",
      "<TWENTY_ONE_ALIGHT_NUM>10134</TWENTY_ONE_ALIGHT_NUM>\n",
      "<TWENTY_TWO_RIDE_NUM>11167</TWENTY_TWO_RIDE_NUM>\n",
      "<TWENTY_TWO_ALIGHT_NUM>10601</TWENTY_TWO_ALIGHT_NUM>\n",
      "<TWENTY_THREE_RIDE_NUM>2811</TWENTY_THREE_RIDE_NUM>\n",
      "<TWENTY_THREE_ALIGHT_NUM>8211</TWENTY_THREE_ALIGHT_NUM>\n",
      "<MIDNIGHT_RIDE_NUM>16</MIDNIGHT_RIDE_NUM>\n",
      "<MIDNIGHT_ALIGHT_NUM>1434</MIDNIGHT_ALIGHT_NUM>\n",
      "<ONE_RIDE_NUM>1</ONE_RIDE_NUM>\n",
      "<ONE_ALIGHT_NUM>1</ONE_ALIGHT_NUM>\n",
      "<TWO_RIDE_NUM>0</TWO_RIDE_NUM>\n",
      "<TWO_ALIGHT_NUM>0</TWO_ALIGHT_NUM>\n",
      "<THREE_RIDE_NUM>0</THREE_RIDE_NUM>\n",
      "<THREE_ALIGHT_NUM>0</THREE_ALIGHT_NUM>\n",
      "<WORK_DT>20210703</WORK_DT>\n",
      "</row>\n",
      "<row>\n",
      "<USE_MON>202106</USE_MON>\n",
      "<LINE_NUM>1호선</LINE_NUM>\n",
      "<SUB_STA_NM>신설동</SUB_STA_NM>\n",
      "<FOUR_RIDE_NUM>343</FOUR_RIDE_NUM>\n",
      "<FOUR_ALIGHT_NUM>3</FOUR_ALIGHT_NUM>\n",
      "<FIVE_RIDE_NUM>8150</FIVE_RIDE_NUM>\n",
      "<FIVE_ALIGHT_NUM>3192</FIVE_ALIGHT_NUM>\n",
      "<SIX_RIDE_NUM>8131</SIX_RIDE_NUM>\n",
      "<SIX_ALIGHT_NUM>10929</SIX_ALIGHT_NUM>\n",
      "<SEVEN_RIDE_NUM>17021</SEVEN_RIDE_NUM>\n",
      "<SEVEN_ALIGHT_NUM>25745</SEVEN_ALIGHT_NUM>\n",
      "<EIGHT_RIDE_NUM>24583</EIGHT_RIDE_NUM>\n",
      "<EIGHT_ALIGHT_NUM>62999</EIGHT_ALIGHT_NUM>\n",
      "<NINE_RIDE_NUM>16472</NINE_RIDE_NUM>\n",
      "<NINE_ALIGHT_NUM>33400</NINE_ALIGHT_NUM>\n",
      "<TEN_RIDE_NUM>14689</TEN_RIDE_NUM>\n",
      "<TEN_ALIGHT_NUM>20639</TEN_ALIGHT_NUM>\n",
      "<ELEVEN_RIDE_NUM>16427</ELEVEN_RIDE_NUM>\n",
      "<ELEVEN_ALIGHT_NUM>17238</ELEVEN_ALIGHT_NUM>\n",
      "<TWELVE_RIDE_NUM>17625</TWELVE_RIDE_NUM>\n",
      "<TWELVE_ALIGHT_NUM>16913</TWELVE_ALIGHT_NUM>\n",
      "<THIRTEEN_RIDE_NUM>19712</THIRTEEN_RIDE_NUM>\n",
      "<THIRTEEN_ALIGHT_NUM>17440</THIRTEEN_ALIGHT_NUM>\n",
      "<FOURTEEN_RIDE_NUM>19363</FOURTEEN_RIDE_NUM>\n",
      "<FOURTEEN_ALIGHT_NUM>16063</FOURTEEN_ALIGHT_NUM>\n",
      "<FIFTEEN_RIDE_NUM>20684</FIFTEEN_RIDE_NUM>\n",
      "<FIFTEEN_ALIGHT_NUM>16772</FIFTEEN_ALIGHT_NUM>\n",
      "<SIXTEEN_RIDE_NUM>28784</SIXTEEN_RIDE_NUM>\n",
      "<SIXTEEN_ALIGHT_NUM>17481</SIXTEEN_ALIGHT_NUM>\n",
      "<SEVENTEEN_RIDE_NUM>39357</SEVENTEEN_RIDE_NUM>\n",
      "<SEVENTEEN_ALIGHT_NUM>20038</SEVENTEEN_ALIGHT_NUM>\n",
      "<EIGHTEEN_RIDE_NUM>57642</EIGHTEEN_RIDE_NUM>\n",
      "<EIGHTEEN_ALIGHT_NUM>25012</EIGHTEEN_ALIGHT_NUM>\n",
      "<NINETEEN_RIDE_NUM>20823</NINETEEN_RIDE_NUM>\n",
      "<NINETEEN_ALIGHT_NUM>17529</NINETEEN_ALIGHT_NUM>\n",
      "<TWENTY_RIDE_NUM>13880</TWENTY_RIDE_NUM>\n",
      "<TWENTY_ALIGHT_NUM>10932</TWENTY_ALIGHT_NUM>\n",
      "<TWENTY_ONE_RIDE_NUM>13378</TWENTY_ONE_RIDE_NUM>\n",
      "<TWENTY_ONE_ALIGHT_NUM>10102</TWENTY_ONE_ALIGHT_NUM>\n",
      "<TWENTY_TWO_RIDE_NUM>10189</TWENTY_TWO_RIDE_NUM>\n",
      "<TWENTY_TWO_ALIGHT_NUM>11809</TWENTY_TWO_ALIGHT_NUM>\n",
      "<TWENTY_THREE_RIDE_NUM>1952</TWENTY_THREE_RIDE_NUM>\n",
      "<TWENTY_THREE_ALIGHT_NUM>5451</TWENTY_THREE_ALIGHT_NUM>\n",
      "<MIDNIGHT_RIDE_NUM>10</MIDNIGHT_RIDE_NUM>\n",
      "<MIDNIGHT_ALIGHT_NUM>449</MIDNIGHT_ALIGHT_NUM>\n",
      "<ONE_RIDE_NUM>0</ONE_RIDE_NUM>\n",
      "<ONE_ALIGHT_NUM>0</ONE_ALIGHT_NUM>\n",
      "<TWO_RIDE_NUM>0</TWO_RIDE_NUM>\n",
      "<TWO_ALIGHT_NUM>0</TWO_ALIGHT_NUM>\n",
      "<THREE_RIDE_NUM>0</THREE_RIDE_NUM>\n",
      "<THREE_ALIGHT_NUM>0</THREE_ALIGHT_NUM>\n",
      "<WORK_DT>20210703</WORK_DT>\n",
      "</row>\n",
      "<row>\n",
      "<USE_MON>202106</USE_MON>\n",
      "<LINE_NUM>1호선</LINE_NUM>\n",
      "<SUB_STA_NM>제기동</SUB_STA_NM>\n",
      "<FOUR_RIDE_NUM>360</FOUR_RIDE_NUM>\n",
      "<FOUR_ALIGHT_NUM>3</FOUR_ALIGHT_NUM>\n",
      "<FIVE_RIDE_NUM>5020</FIVE_RIDE_NUM>\n",
      "<FIVE_ALIGHT_NUM>2150</FIVE_ALIGHT_NUM>\n",
      "<SIX_RIDE_NUM>8625</SIX_RIDE_NUM>\n",
      "<SIX_ALIGHT_NUM>9488</SIX_ALIGHT_NUM>\n",
      "<SEVEN_RIDE_NUM>21818</SEVEN_RIDE_NUM>\n",
      "<SEVEN_ALIGHT_NUM>18800</SEVEN_ALIGHT_NUM>\n",
      "<EIGHT_RIDE_NUM>31428</EIGHT_RIDE_NUM>\n",
      "<EIGHT_ALIGHT_NUM>42110</EIGHT_ALIGHT_NUM>\n",
      "<NINE_RIDE_NUM>22254</NINE_RIDE_NUM>\n",
      "<NINE_ALIGHT_NUM>37145</NINE_ALIGHT_NUM>\n",
      "<TEN_RIDE_NUM>25534</TEN_RIDE_NUM>\n",
      "<TEN_ALIGHT_NUM>39572</TEN_ALIGHT_NUM>\n",
      "<ELEVEN_RIDE_NUM>33701</ELEVEN_RIDE_NUM>\n",
      "<ELEVEN_ALIGHT_NUM>40192</ELEVEN_ALIGHT_NUM>\n",
      "<TWELVE_RIDE_NUM>37380</TWELVE_RIDE_NUM>\n",
      "<TWELVE_ALIGHT_NUM>36944</TWELVE_ALIGHT_NUM>\n",
      "<THIRTEEN_RIDE_NUM>37913</THIRTEEN_RIDE_NUM>\n",
      "<THIRTEEN_ALIGHT_NUM>36302</THIRTEEN_ALIGHT_NUM>\n",
      "<FOURTEEN_RIDE_NUM>38816</FOURTEEN_RIDE_NUM>\n",
      "<FOURTEEN_ALIGHT_NUM>38060</FOURTEEN_ALIGHT_NUM>\n",
      "<FIFTEEN_RIDE_NUM>39042</FIFTEEN_RIDE_NUM>\n",
      "<FIFTEEN_ALIGHT_NUM>34744</FIFTEEN_ALIGHT_NUM>\n",
      "<SIXTEEN_RIDE_NUM>36805</SIXTEEN_RIDE_NUM>\n",
      "<SIXTEEN_ALIGHT_NUM>29316</SIXTEEN_ALIGHT_NUM>\n",
      "<SEVENTEEN_RIDE_NUM>38480</SEVENTEEN_RIDE_NUM>\n",
      "<SEVENTEEN_ALIGHT_NUM>23319</SEVENTEEN_ALIGHT_NUM>\n",
      "<EIGHTEEN_RIDE_NUM>37172</EIGHTEEN_RIDE_NUM>\n",
      "<EIGHTEEN_ALIGHT_NUM>26182</EIGHTEEN_ALIGHT_NUM>\n",
      "<NINETEEN_RIDE_NUM>16542</NINETEEN_RIDE_NUM>\n",
      "<NINETEEN_ALIGHT_NUM>17773</NINETEEN_ALIGHT_NUM>\n",
      "<TWENTY_RIDE_NUM>10447</TWENTY_RIDE_NUM>\n",
      "<TWENTY_ALIGHT_NUM>11211</TWENTY_ALIGHT_NUM>\n",
      "<TWENTY_ONE_RIDE_NUM>8822</TWENTY_ONE_RIDE_NUM>\n",
      "<TWENTY_ONE_ALIGHT_NUM>10198</TWENTY_ONE_ALIGHT_NUM>\n",
      "<TWENTY_TWO_RIDE_NUM>7253</TWENTY_TWO_RIDE_NUM>\n",
      "<TWENTY_TWO_ALIGHT_NUM>11830</TWENTY_TWO_ALIGHT_NUM>\n",
      "<TWENTY_THREE_RIDE_NUM>2042</TWENTY_THREE_RIDE_NUM>\n",
      "<TWENTY_THREE_ALIGHT_NUM>4844</TWENTY_THREE_ALIGHT_NUM>\n",
      "<MIDNIGHT_RIDE_NUM>8</MIDNIGHT_RIDE_NUM>\n",
      "<MIDNIGHT_ALIGHT_NUM>408</MIDNIGHT_ALIGHT_NUM>\n",
      "<ONE_RIDE_NUM>0</ONE_RIDE_NUM>\n",
      "<ONE_ALIGHT_NUM>0</ONE_ALIGHT_NUM>\n",
      "<TWO_RIDE_NUM>1</TWO_RIDE_NUM>\n",
      "<TWO_ALIGHT_NUM>0</TWO_ALIGHT_NUM>\n",
      "<THREE_RIDE_NUM>0</THREE_RIDE_NUM>\n",
      "<THREE_ALIGHT_NUM>0</THREE_ALIGHT_NUM>\n",
      "<WORK_DT>20210703</WORK_DT>\n",
      "</row>\n",
      "<row>\n",
      "<USE_MON>202106</USE_MON>\n",
      "<LINE_NUM>1호선</LINE_NUM>\n",
      "<SUB_STA_NM>청량리(서울시립대입구)</SUB_STA_NM>\n",
      "<FOUR_RIDE_NUM>1114</FOUR_RIDE_NUM>\n",
      "<FOUR_ALIGHT_NUM>17</FOUR_ALIGHT_NUM>\n",
      "<FIVE_RIDE_NUM>10556</FIVE_RIDE_NUM>\n",
      "<FIVE_ALIGHT_NUM>4752</FIVE_ALIGHT_NUM>\n",
      "<SIX_RIDE_NUM>14555</SIX_RIDE_NUM>\n",
      "<SIX_ALIGHT_NUM>20601</SIX_ALIGHT_NUM>\n",
      "<SEVEN_RIDE_NUM>36398</SEVEN_RIDE_NUM>\n",
      "<SEVEN_ALIGHT_NUM>18127</SEVEN_ALIGHT_NUM>\n",
      "<EIGHT_RIDE_NUM>44314</EIGHT_RIDE_NUM>\n",
      "<EIGHT_ALIGHT_NUM>36112</EIGHT_ALIGHT_NUM>\n",
      "<NINE_RIDE_NUM>30993</NINE_RIDE_NUM>\n",
      "<NINE_ALIGHT_NUM>33651</NINE_ALIGHT_NUM>\n",
      "<TEN_RIDE_NUM>30325</TEN_RIDE_NUM>\n",
      "<TEN_ALIGHT_NUM>34593</TEN_ALIGHT_NUM>\n",
      "<ELEVEN_RIDE_NUM>32895</ELEVEN_RIDE_NUM>\n",
      "<ELEVEN_ALIGHT_NUM>36922</ELEVEN_ALIGHT_NUM>\n",
      "<TWELVE_RIDE_NUM>36644</TWELVE_RIDE_NUM>\n",
      "<TWELVE_ALIGHT_NUM>38152</TWELVE_ALIGHT_NUM>\n",
      "<THIRTEEN_RIDE_NUM>37957</THIRTEEN_RIDE_NUM>\n",
      "<THIRTEEN_ALIGHT_NUM>37161</THIRTEEN_ALIGHT_NUM>\n",
      "<FOURTEEN_RIDE_NUM>38453</FOURTEEN_RIDE_NUM>\n",
      "<FOURTEEN_ALIGHT_NUM>41488</FOURTEEN_ALIGHT_NUM>\n",
      "<FIFTEEN_RIDE_NUM>41308</FIFTEEN_RIDE_NUM>\n",
      "<FIFTEEN_ALIGHT_NUM>40046</FIFTEEN_ALIGHT_NUM>\n",
      "<SIXTEEN_RIDE_NUM>48019</SIXTEEN_RIDE_NUM>\n",
      "<SIXTEEN_ALIGHT_NUM>37625</SIXTEEN_ALIGHT_NUM>\n",
      "<SEVENTEEN_RIDE_NUM>45267</SEVENTEEN_RIDE_NUM>\n",
      "<SEVENTEEN_ALIGHT_NUM>37535</SEVENTEEN_ALIGHT_NUM>\n",
      "<EIGHTEEN_RIDE_NUM>41132</EIGHTEEN_RIDE_NUM>\n",
      "<EIGHTEEN_ALIGHT_NUM>46814</EIGHTEEN_ALIGHT_NUM>\n",
      "<NINETEEN_RIDE_NUM>22408</NINETEEN_RIDE_NUM>\n",
      "<NINETEEN_ALIGHT_NUM>31284</NINETEEN_ALIGHT_NUM>\n",
      "<TWENTY_RIDE_NUM>16802</TWENTY_RIDE_NUM>\n",
      "<TWENTY_ALIGHT_NUM>17867</TWENTY_ALIGHT_NUM>\n",
      "<TWENTY_ONE_RIDE_NUM>13163</TWENTY_ONE_RIDE_NUM>\n",
      "<TWENTY_ONE_ALIGHT_NUM>16739</TWENTY_ONE_ALIGHT_NUM>\n",
      "<TWENTY_TWO_RIDE_NUM>9007</TWENTY_TWO_RIDE_NUM>\n",
      "<TWENTY_TWO_ALIGHT_NUM>17875</TWENTY_TWO_ALIGHT_NUM>\n",
      "<TWENTY_THREE_RIDE_NUM>2199</TWENTY_THREE_RIDE_NUM>\n",
      "<TWENTY_THREE_ALIGHT_NUM>7010</TWENTY_THREE_ALIGHT_NUM>\n",
      "<MIDNIGHT_RIDE_NUM>15</MIDNIGHT_RIDE_NUM>\n",
      "<MIDNIGHT_ALIGHT_NUM>784</MIDNIGHT_ALIGHT_NUM>\n",
      "<ONE_RIDE_NUM>1</ONE_RIDE_NUM>\n",
      "<ONE_ALIGHT_NUM>0</ONE_ALIGHT_NUM>\n",
      "<TWO_RIDE_NUM>0</TWO_RIDE_NUM>\n",
      "<TWO_ALIGHT_NUM>0</TWO_ALIGHT_NUM>\n",
      "<THREE_RIDE_NUM>0</THREE_RIDE_NUM>\n",
      "<THREE_ALIGHT_NUM>0</THREE_ALIGHT_NUM>\n",
      "<WORK_DT>20210703</WORK_DT>\n",
      "</row>\n",
      "</CardSubwayTime>\n",
      "\n"
     ]
    }
   ],
   "source": [
    "import requests\n",
    "# 초기 iteration은 0부터 시작한다.\n",
    "# _maxiter만큼 반복한다. 1하면 1회 2하면 2회 \n",
    "\n",
    "\n",
    "_maxIter=2\n",
    "_iter=0\n",
    "\n",
    "while _iter<_maxIter:\n",
    "    _api=\"/\".join([_url,_key,_type,_service,str(_start_index),str(_end_index),_use_mon])\n",
    "    #print _api\n",
    "    response = requests.get(_api).text\n",
    "    print(response)\n",
    "    _start_index+=5\n",
    "    _end_index+=5\n",
    "    _iter+=1"
   ]
  },
  {
   "cell_type": "markdown",
   "id": "8fc82e5e",
   "metadata": {},
   "source": [
    "### 위 예제의 json 반환\n",
    "\n",
    "이번에는 json으로 반환해보자."
   ]
  },
  {
   "cell_type": "code",
   "execution_count": 98,
   "id": "2eeb64b9",
   "metadata": {},
   "outputs": [],
   "source": [
    "_type='json'"
   ]
  },
  {
   "cell_type": "code",
   "execution_count": 99,
   "id": "c0231ad5",
   "metadata": {},
   "outputs": [],
   "source": [
    "_api=\"/\".join([_url,_key,_type,_service,str(_start_index),str(_end_index),_use_mon])"
   ]
  },
  {
   "cell_type": "code",
   "execution_count": 100,
   "id": "8fa1106c",
   "metadata": {},
   "outputs": [
    {
     "name": "stdout",
     "output_type": "stream",
     "text": [
      "{\"CardSubwayTime\":{\"list_total_count\":608,\"RESULT\":{\"CODE\":\"INFO-000\",\"MESSAGE\":\"정상 처리되었습니다\"},\"row\":[{\"USE_MON\":\"202106\",\"LINE_NUM\":\"2호선\",\"SUB_STA_NM\":\"신답\",\"FOUR_RIDE_NUM\":4.0,\"FOUR_ALIGHT_NUM\":1.0,\"FIVE_RIDE_NUM\":1052.0,\"FIVE_ALIGHT_NUM\":100.0,\"SIX_RIDE_NUM\":1755.0,\"SIX_ALIGHT_NUM\":487.0,\"SEVEN_RIDE_NUM\":6550.0,\"SEVEN_ALIGHT_NUM\":890.0,\"EIGHT_RIDE_NUM\":9858.0,\"EIGHT_ALIGHT_NUM\":1699.0,\"NINE_RIDE_NUM\":4205.0,\"NINE_ALIGHT_NUM\":1080.0,\"TEN_RIDE_NUM\":2180.0,\"TEN_ALIGHT_NUM\":1003.0,\"ELEVEN_RIDE_NUM\":1950.0,\"ELEVEN_ALIGHT_NUM\":1173.0,\"TWELVE_RIDE_NUM\":1808.0,\"TWELVE_ALIGHT_NUM\":1344.0,\"THIRTEEN_RIDE_NUM\":1767.0,\"THIRTEEN_ALIGHT_NUM\":1436.0,\"FOURTEEN_RIDE_NUM\":1594.0,\"FOURTEEN_ALIGHT_NUM\":1647.0,\"FIFTEEN_RIDE_NUM\":1488.0,\"FIFTEEN_ALIGHT_NUM\":2382.0,\"SIXTEEN_RIDE_NUM\":1682.0,\"SIXTEEN_ALIGHT_NUM\":3189.0,\"SEVENTEEN_RIDE_NUM\":1769.0,\"SEVENTEEN_ALIGHT_NUM\":4230.0,\"EIGHTEEN_RIDE_NUM\":2233.0,\"EIGHTEEN_ALIGHT_NUM\":9703.0,\"NINETEEN_RIDE_NUM\":976.0,\"NINETEEN_ALIGHT_NUM\":6552.0,\"TWENTY_RIDE_NUM\":589.0,\"TWENTY_ALIGHT_NUM\":3222.0,\"TWENTY_ONE_RIDE_NUM\":546.0,\"TWENTY_ONE_ALIGHT_NUM\":3377.0,\"TWENTY_TWO_RIDE_NUM\":534.0,\"TWENTY_TWO_ALIGHT_NUM\":3394.0,\"TWENTY_THREE_RIDE_NUM\":87.0,\"TWENTY_THREE_ALIGHT_NUM\":1709.0,\"MIDNIGHT_RIDE_NUM\":0.0,\"MIDNIGHT_ALIGHT_NUM\":9.0,\"ONE_RIDE_NUM\":0.0,\"ONE_ALIGHT_NUM\":0.0,\"TWO_RIDE_NUM\":0.0,\"TWO_ALIGHT_NUM\":0.0,\"THREE_RIDE_NUM\":0.0,\"THREE_ALIGHT_NUM\":0.0,\"WORK_DT\":\"20210703\"},{\"USE_MON\":\"202106\",\"LINE_NUM\":\"2호선\",\"SUB_STA_NM\":\"신설동\",\"FOUR_RIDE_NUM\":35.0,\"FOUR_ALIGHT_NUM\":0.0,\"FIVE_RIDE_NUM\":1067.0,\"FIVE_ALIGHT_NUM\":383.0,\"SIX_RIDE_NUM\":1310.0,\"SIX_ALIGHT_NUM\":2273.0,\"SEVEN_RIDE_NUM\":3601.0,\"SEVEN_ALIGHT_NUM\":5566.0,\"EIGHT_RIDE_NUM\":6334.0,\"EIGHT_ALIGHT_NUM\":13082.0,\"NINE_RIDE_NUM\":4054.0,\"NINE_ALIGHT_NUM\":8209.0,\"TEN_RIDE_NUM\":3804.0,\"TEN_ALIGHT_NUM\":5939.0,\"ELEVEN_RIDE_NUM\":4649.0,\"ELEVEN_ALIGHT_NUM\":6264.0,\"TWELVE_RIDE_NUM\":5669.0,\"TWELVE_ALIGHT_NUM\":6076.0,\"THIRTEEN_RIDE_NUM\":6277.0,\"THIRTEEN_ALIGHT_NUM\":6188.0,\"FOURTEEN_RIDE_NUM\":6827.0,\"FOURTEEN_ALIGHT_NUM\":5461.0,\"FIFTEEN_RIDE_NUM\":7516.0,\"FIFTEEN_ALIGHT_NUM\":5089.0,\"SIXTEEN_RIDE_NUM\":7728.0,\"SIXTEEN_ALIGHT_NUM\":4245.0,\"SEVENTEEN_RIDE_NUM\":10802.0,\"SEVENTEEN_ALIGHT_NUM\":4796.0,\"EIGHTEEN_RIDE_NUM\":10839.0,\"EIGHTEEN_ALIGHT_NUM\":5544.0,\"NINETEEN_RIDE_NUM\":4287.0,\"NINETEEN_ALIGHT_NUM\":3970.0,\"TWENTY_RIDE_NUM\":2653.0,\"TWENTY_ALIGHT_NUM\":2287.0,\"TWENTY_ONE_RIDE_NUM\":2313.0,\"TWENTY_ONE_ALIGHT_NUM\":2061.0,\"TWENTY_TWO_RIDE_NUM\":1738.0,\"TWENTY_TWO_ALIGHT_NUM\":2598.0,\"TWENTY_THREE_RIDE_NUM\":397.0,\"TWENTY_THREE_ALIGHT_NUM\":1208.0,\"MIDNIGHT_RIDE_NUM\":0.0,\"MIDNIGHT_ALIGHT_NUM\":239.0,\"ONE_RIDE_NUM\":0.0,\"ONE_ALIGHT_NUM\":1.0,\"TWO_RIDE_NUM\":0.0,\"TWO_ALIGHT_NUM\":0.0,\"THREE_RIDE_NUM\":0.0,\"THREE_ALIGHT_NUM\":0.0,\"WORK_DT\":\"20210703\"},{\"USE_MON\":\"202106\",\"LINE_NUM\":\"2호선\",\"SUB_STA_NM\":\"도림천\",\"FOUR_RIDE_NUM\":0.0,\"FOUR_ALIGHT_NUM\":0.0,\"FIVE_RIDE_NUM\":263.0,\"FIVE_ALIGHT_NUM\":320.0,\"SIX_RIDE_NUM\":1272.0,\"SIX_ALIGHT_NUM\":833.0,\"SEVEN_RIDE_NUM\":3182.0,\"SEVEN_ALIGHT_NUM\":4678.0,\"EIGHT_RIDE_NUM\":3286.0,\"EIGHT_ALIGHT_NUM\":6326.0,\"NINE_RIDE_NUM\":2138.0,\"NINE_ALIGHT_NUM\":2308.0,\"TEN_RIDE_NUM\":1836.0,\"TEN_ALIGHT_NUM\":1521.0,\"ELEVEN_RIDE_NUM\":1620.0,\"ELEVEN_ALIGHT_NUM\":1305.0,\"TWELVE_RIDE_NUM\":2489.0,\"TWELVE_ALIGHT_NUM\":1941.0,\"THIRTEEN_RIDE_NUM\":1670.0,\"THIRTEEN_ALIGHT_NUM\":1452.0,\"FOURTEEN_RIDE_NUM\":2297.0,\"FOURTEEN_ALIGHT_NUM\":1815.0,\"FIFTEEN_RIDE_NUM\":2844.0,\"FIFTEEN_ALIGHT_NUM\":1503.0,\"SIXTEEN_RIDE_NUM\":3086.0,\"SIXTEEN_ALIGHT_NUM\":1761.0,\"SEVENTEEN_RIDE_NUM\":2962.0,\"SEVENTEEN_ALIGHT_NUM\":2276.0,\"EIGHTEEN_RIDE_NUM\":4158.0,\"EIGHTEEN_ALIGHT_NUM\":2852.0,\"NINETEEN_RIDE_NUM\":1918.0,\"NINETEEN_ALIGHT_NUM\":2584.0,\"TWENTY_RIDE_NUM\":950.0,\"TWENTY_ALIGHT_NUM\":1506.0,\"TWENTY_ONE_RIDE_NUM\":879.0,\"TWENTY_ONE_ALIGHT_NUM\":1366.0,\"TWENTY_TWO_RIDE_NUM\":489.0,\"TWENTY_TWO_ALIGHT_NUM\":1445.0,\"TWENTY_THREE_RIDE_NUM\":151.0,\"TWENTY_THREE_ALIGHT_NUM\":669.0,\"MIDNIGHT_RIDE_NUM\":3.0,\"MIDNIGHT_ALIGHT_NUM\":50.0,\"ONE_RIDE_NUM\":0.0,\"ONE_ALIGHT_NUM\":0.0,\"TWO_RIDE_NUM\":0.0,\"TWO_ALIGHT_NUM\":0.0,\"THREE_RIDE_NUM\":0.0,\"THREE_ALIGHT_NUM\":0.0,\"WORK_DT\":\"20210703\"},{\"USE_MON\":\"202106\",\"LINE_NUM\":\"2호선\",\"SUB_STA_NM\":\"양천구청\",\"FOUR_RIDE_NUM\":11.0,\"FOUR_ALIGHT_NUM\":0.0,\"FIVE_RIDE_NUM\":4885.0,\"FIVE_ALIGHT_NUM\":828.0,\"SIX_RIDE_NUM\":11068.0,\"SIX_ALIGHT_NUM\":2304.0,\"SEVEN_RIDE_NUM\":32319.0,\"SEVEN_ALIGHT_NUM\":5670.0,\"EIGHT_RIDE_NUM\":29838.0,\"EIGHT_ALIGHT_NUM\":9747.0,\"NINE_RIDE_NUM\":15185.0,\"NINE_ALIGHT_NUM\":4846.0,\"TEN_RIDE_NUM\":10062.0,\"TEN_ALIGHT_NUM\":4689.0,\"ELEVEN_RIDE_NUM\":8736.0,\"ELEVEN_ALIGHT_NUM\":4717.0,\"TWELVE_RIDE_NUM\":9050.0,\"TWELVE_ALIGHT_NUM\":6295.0,\"THIRTEEN_RIDE_NUM\":9136.0,\"THIRTEEN_ALIGHT_NUM\":7085.0,\"FOURTEEN_RIDE_NUM\":7809.0,\"FOURTEEN_ALIGHT_NUM\":7472.0,\"FIFTEEN_RIDE_NUM\":7143.0,\"FIFTEEN_ALIGHT_NUM\":9104.0,\"SIXTEEN_RIDE_NUM\":8069.0,\"SIXTEEN_ALIGHT_NUM\":11370.0,\"SEVENTEEN_RIDE_NUM\":8561.0,\"SEVENTEEN_ALIGHT_NUM\":17023.0,\"EIGHTEEN_RIDE_NUM\":8840.0,\"EIGHTEEN_ALIGHT_NUM\":27562.0,\"NINETEEN_RIDE_NUM\":3625.0,\"NINETEEN_ALIGHT_NUM\":24901.0,\"TWENTY_RIDE_NUM\":2539.0,\"TWENTY_ALIGHT_NUM\":12956.0,\"TWENTY_ONE_RIDE_NUM\":2096.0,\"TWENTY_ONE_ALIGHT_NUM\":12620.0,\"TWENTY_TWO_RIDE_NUM\":2234.0,\"TWENTY_TWO_ALIGHT_NUM\":13535.0,\"TWENTY_THREE_RIDE_NUM\":625.0,\"TWENTY_THREE_ALIGHT_NUM\":7028.0,\"MIDNIGHT_RIDE_NUM\":3.0,\"MIDNIGHT_ALIGHT_NUM\":505.0,\"ONE_RIDE_NUM\":0.0,\"ONE_ALIGHT_NUM\":0.0,\"TWO_RIDE_NUM\":0.0,\"TWO_ALIGHT_NUM\":0.0,\"THREE_RIDE_NUM\":0.0,\"THREE_ALIGHT_NUM\":0.0,\"WORK_DT\":\"20210703\"},{\"USE_MON\":\"202106\",\"LINE_NUM\":\"2호선\",\"SUB_STA_NM\":\"신정네거리\",\"FOUR_RIDE_NUM\":39.0,\"FOUR_ALIGHT_NUM\":0.0,\"FIVE_RIDE_NUM\":8271.0,\"FIVE_ALIGHT_NUM\":942.0,\"SIX_RIDE_NUM\":16971.0,\"SIX_ALIGHT_NUM\":3727.0,\"SEVEN_RIDE_NUM\":49959.0,\"SEVEN_ALIGHT_NUM\":5256.0,\"EIGHT_RIDE_NUM\":44209.0,\"EIGHT_ALIGHT_NUM\":11829.0,\"NINE_RIDE_NUM\":23093.0,\"NINE_ALIGHT_NUM\":7607.0,\"TEN_RIDE_NUM\":15248.0,\"TEN_ALIGHT_NUM\":7309.0,\"ELEVEN_RIDE_NUM\":13415.0,\"ELEVEN_ALIGHT_NUM\":8764.0,\"TWELVE_RIDE_NUM\":13330.0,\"TWELVE_ALIGHT_NUM\":9404.0,\"THIRTEEN_RIDE_NUM\":12394.0,\"THIRTEEN_ALIGHT_NUM\":10937.0,\"FOURTEEN_RIDE_NUM\":10835.0,\"FOURTEEN_ALIGHT_NUM\":11262.0,\"FIFTEEN_RIDE_NUM\":10818.0,\"FIFTEEN_ALIGHT_NUM\":14386.0,\"SIXTEEN_RIDE_NUM\":12326.0,\"SIXTEEN_ALIGHT_NUM\":18315.0,\"SEVENTEEN_RIDE_NUM\":12545.0,\"SEVENTEEN_ALIGHT_NUM\":26563.0,\"EIGHTEEN_RIDE_NUM\":11512.0,\"EIGHTEEN_ALIGHT_NUM\":45804.0,\"NINETEEN_RIDE_NUM\":6827.0,\"NINETEEN_ALIGHT_NUM\":35779.0,\"TWENTY_RIDE_NUM\":5052.0,\"TWENTY_ALIGHT_NUM\":19006.0,\"TWENTY_ONE_RIDE_NUM\":4296.0,\"TWENTY_ONE_ALIGHT_NUM\":16793.0,\"TWENTY_TWO_RIDE_NUM\":4010.0,\"TWENTY_TWO_ALIGHT_NUM\":19204.0,\"TWENTY_THREE_RIDE_NUM\":816.0,\"TWENTY_THREE_ALIGHT_NUM\":9131.0,\"MIDNIGHT_RIDE_NUM\":4.0,\"MIDNIGHT_ALIGHT_NUM\":477.0,\"ONE_RIDE_NUM\":1.0,\"ONE_ALIGHT_NUM\":0.0,\"TWO_RIDE_NUM\":0.0,\"TWO_ALIGHT_NUM\":0.0,\"THREE_RIDE_NUM\":0.0,\"THREE_ALIGHT_NUM\":0.0,\"WORK_DT\":\"20210703\"}]}}\n"
     ]
    }
   ],
   "source": [
    "data=requests.get(_api).text\n",
    "print(data)"
   ]
  },
  {
   "cell_type": "markdown",
   "id": "b38c94fb",
   "metadata": {},
   "source": [
    "## json 파싱\n",
    "\n",
    "json.loads() 함수는 문자열을 json으로 변환해준다."
   ]
  },
  {
   "cell_type": "code",
   "execution_count": 39,
   "id": "42d147d2",
   "metadata": {},
   "outputs": [
    {
     "ename": "NameError",
     "evalue": "name 'data' is not defined",
     "output_type": "error",
     "traceback": [
      "\u001b[0;31m---------------------------------------------------------------------------\u001b[0m",
      "\u001b[0;31mNameError\u001b[0m                                 Traceback (most recent call last)",
      "\u001b[0;32m<ipython-input-39-0bd522a26dfb>\u001b[0m in \u001b[0;36m<module>\u001b[0;34m\u001b[0m\n\u001b[1;32m      1\u001b[0m \u001b[0;32mimport\u001b[0m \u001b[0mjson\u001b[0m\u001b[0;34m\u001b[0m\u001b[0;34m\u001b[0m\u001b[0m\n\u001b[0;32m----> 2\u001b[0;31m \u001b[0mjsubwayTime\u001b[0m \u001b[0;34m=\u001b[0m \u001b[0mjson\u001b[0m\u001b[0;34m.\u001b[0m\u001b[0mloads\u001b[0m\u001b[0;34m(\u001b[0m\u001b[0mdata\u001b[0m\u001b[0;34m)\u001b[0m\u001b[0;34m\u001b[0m\u001b[0;34m\u001b[0m\u001b[0m\n\u001b[0m",
      "\u001b[0;31mNameError\u001b[0m: name 'data' is not defined"
     ]
    }
   ],
   "source": [
    "import json\n",
    "jsubwayTime = json.loads(data)"
   ]
  },
  {
   "cell_type": "code",
   "execution_count": 104,
   "id": "7e343f88",
   "metadata": {},
   "outputs": [],
   "source": [
    "j0=jsubwayTime['CardSubwayTime']['row'][0]\n"
   ]
  },
  {
   "cell_type": "markdown",
   "id": "0b6df82b",
   "metadata": {},
   "source": [
    "키값을 읽어라 "
   ]
  },
  {
   "cell_type": "code",
   "execution_count": 105,
   "id": "db8a42a6",
   "metadata": {},
   "outputs": [
    {
     "data": {
      "text/plain": [
       "dict_keys(['USE_MON', 'LINE_NUM', 'SUB_STA_NM', 'FOUR_RIDE_NUM', 'FOUR_ALIGHT_NUM', 'FIVE_RIDE_NUM', 'FIVE_ALIGHT_NUM', 'SIX_RIDE_NUM', 'SIX_ALIGHT_NUM', 'SEVEN_RIDE_NUM', 'SEVEN_ALIGHT_NUM', 'EIGHT_RIDE_NUM', 'EIGHT_ALIGHT_NUM', 'NINE_RIDE_NUM', 'NINE_ALIGHT_NUM', 'TEN_RIDE_NUM', 'TEN_ALIGHT_NUM', 'ELEVEN_RIDE_NUM', 'ELEVEN_ALIGHT_NUM', 'TWELVE_RIDE_NUM', 'TWELVE_ALIGHT_NUM', 'THIRTEEN_RIDE_NUM', 'THIRTEEN_ALIGHT_NUM', 'FOURTEEN_RIDE_NUM', 'FOURTEEN_ALIGHT_NUM', 'FIFTEEN_RIDE_NUM', 'FIFTEEN_ALIGHT_NUM', 'SIXTEEN_RIDE_NUM', 'SIXTEEN_ALIGHT_NUM', 'SEVENTEEN_RIDE_NUM', 'SEVENTEEN_ALIGHT_NUM', 'EIGHTEEN_RIDE_NUM', 'EIGHTEEN_ALIGHT_NUM', 'NINETEEN_RIDE_NUM', 'NINETEEN_ALIGHT_NUM', 'TWENTY_RIDE_NUM', 'TWENTY_ALIGHT_NUM', 'TWENTY_ONE_RIDE_NUM', 'TWENTY_ONE_ALIGHT_NUM', 'TWENTY_TWO_RIDE_NUM', 'TWENTY_TWO_ALIGHT_NUM', 'TWENTY_THREE_RIDE_NUM', 'TWENTY_THREE_ALIGHT_NUM', 'MIDNIGHT_RIDE_NUM', 'MIDNIGHT_ALIGHT_NUM', 'ONE_RIDE_NUM', 'ONE_ALIGHT_NUM', 'TWO_RIDE_NUM', 'TWO_ALIGHT_NUM', 'THREE_RIDE_NUM', 'THREE_ALIGHT_NUM', 'WORK_DT'])"
      ]
     },
     "execution_count": 105,
     "metadata": {},
     "output_type": "execute_result"
    }
   ],
   "source": [
    "j0.keys()"
   ]
  },
  {
   "cell_type": "markdown",
   "id": "5960f867",
   "metadata": {},
   "source": [
    "sub_sta_nm을 읽어라"
   ]
  },
  {
   "cell_type": "code",
   "execution_count": 107,
   "id": "61ca7f17",
   "metadata": {},
   "outputs": [
    {
     "data": {
      "text/plain": [
       "'신답'"
      ]
     },
     "execution_count": 107,
     "metadata": {},
     "output_type": "execute_result"
    }
   ],
   "source": [
    "j0.get('SUB_STA_NM')"
   ]
  },
  {
   "cell_type": "code",
   "execution_count": 108,
   "id": "03777726",
   "metadata": {},
   "outputs": [
    {
     "name": "stdout",
     "output_type": "stream",
     "text": [
      "dict_values(['202106', '2호선', '신답', 4.0, 1.0, 1052.0, 100.0, 1755.0, 487.0, 6550.0, 890.0, 9858.0, 1699.0, 4205.0, 1080.0, 2180.0, 1003.0, 1950.0, 1173.0, 1808.0, 1344.0, 1767.0, 1436.0, 1594.0, 1647.0, 1488.0, 2382.0, 1682.0, 3189.0, 1769.0, 4230.0, 2233.0, 9703.0, 976.0, 6552.0, 589.0, 3222.0, 546.0, 3377.0, 534.0, 3394.0, 87.0, 1709.0, 0.0, 9.0, 0.0, 0.0, 0.0, 0.0, 0.0, 0.0, '20210703'])\n",
      "dict_values(['202106', '2호선', '신설동', 35.0, 0.0, 1067.0, 383.0, 1310.0, 2273.0, 3601.0, 5566.0, 6334.0, 13082.0, 4054.0, 8209.0, 3804.0, 5939.0, 4649.0, 6264.0, 5669.0, 6076.0, 6277.0, 6188.0, 6827.0, 5461.0, 7516.0, 5089.0, 7728.0, 4245.0, 10802.0, 4796.0, 10839.0, 5544.0, 4287.0, 3970.0, 2653.0, 2287.0, 2313.0, 2061.0, 1738.0, 2598.0, 397.0, 1208.0, 0.0, 239.0, 0.0, 1.0, 0.0, 0.0, 0.0, 0.0, '20210703'])\n",
      "dict_values(['202106', '2호선', '도림천', 0.0, 0.0, 263.0, 320.0, 1272.0, 833.0, 3182.0, 4678.0, 3286.0, 6326.0, 2138.0, 2308.0, 1836.0, 1521.0, 1620.0, 1305.0, 2489.0, 1941.0, 1670.0, 1452.0, 2297.0, 1815.0, 2844.0, 1503.0, 3086.0, 1761.0, 2962.0, 2276.0, 4158.0, 2852.0, 1918.0, 2584.0, 950.0, 1506.0, 879.0, 1366.0, 489.0, 1445.0, 151.0, 669.0, 3.0, 50.0, 0.0, 0.0, 0.0, 0.0, 0.0, 0.0, '20210703'])\n",
      "dict_values(['202106', '2호선', '양천구청', 11.0, 0.0, 4885.0, 828.0, 11068.0, 2304.0, 32319.0, 5670.0, 29838.0, 9747.0, 15185.0, 4846.0, 10062.0, 4689.0, 8736.0, 4717.0, 9050.0, 6295.0, 9136.0, 7085.0, 7809.0, 7472.0, 7143.0, 9104.0, 8069.0, 11370.0, 8561.0, 17023.0, 8840.0, 27562.0, 3625.0, 24901.0, 2539.0, 12956.0, 2096.0, 12620.0, 2234.0, 13535.0, 625.0, 7028.0, 3.0, 505.0, 0.0, 0.0, 0.0, 0.0, 0.0, 0.0, '20210703'])\n",
      "dict_values(['202106', '2호선', '신정네거리', 39.0, 0.0, 8271.0, 942.0, 16971.0, 3727.0, 49959.0, 5256.0, 44209.0, 11829.0, 23093.0, 7607.0, 15248.0, 7309.0, 13415.0, 8764.0, 13330.0, 9404.0, 12394.0, 10937.0, 10835.0, 11262.0, 10818.0, 14386.0, 12326.0, 18315.0, 12545.0, 26563.0, 11512.0, 45804.0, 6827.0, 35779.0, 5052.0, 19006.0, 4296.0, 16793.0, 4010.0, 19204.0, 816.0, 9131.0, 4.0, 477.0, 1.0, 0.0, 0.0, 0.0, 0.0, 0.0, '20210703'])\n"
     ]
    }
   ],
   "source": [
    "for item in jsubwayTime['CardSubwayTime']['row']:\n",
    "    print(item.values())"
   ]
  },
  {
   "cell_type": "markdown",
   "id": "a3ad41d6",
   "metadata": {},
   "source": [
    "## 하나의 프로그램으로"
   ]
  },
  {
   "cell_type": "markdown",
   "id": "efdbfb01",
   "metadata": {},
   "source": [
    "## 틀림 다시해라 "
   ]
  },
  {
   "cell_type": "code",
   "execution_count": 109,
   "id": "8dade33e",
   "metadata": {},
   "outputs": [
    {
     "name": "stdout",
     "output_type": "stream",
     "text": [
      "{\"CardSubwayTime\":{\"list_total_count\":608,\"RESULT\":{\"CODE\":\"INFO-000\",\"MESSAGE\":\"정상 처리되었습니다\"},\"row\":[{\"USE_MON\":\"202106\",\"LINE_NUM\":\"1호선\",\"SUB_STA_NM\":\"서울역\",\"FOUR_RIDE_NUM\":654.0,\"FOUR_ALIGHT_NUM\":17.0,\"FIVE_RIDE_NUM\":9008.0,\"FIVE_ALIGHT_NUM\":6400.0,\"SIX_RIDE_NUM\":12474.0,\"SIX_ALIGHT_NUM\":37203.0,\"SEVEN_RIDE_NUM\":37253.0,\"SEVEN_ALIGHT_NUM\":91875.0,\"EIGHT_RIDE_NUM\":59876.0,\"EIGHT_ALIGHT_NUM\":187805.0,\"NINE_RIDE_NUM\":44619.0,\"NINE_ALIGHT_NUM\":118679.0,\"TEN_RIDE_NUM\":42611.0,\"TEN_ALIGHT_NUM\":57710.0,\"ELEVEN_RIDE_NUM\":49533.0,\"ELEVEN_ALIGHT_NUM\":50003.0,\"TWELVE_RIDE_NUM\":59357.0,\"TWELVE_ALIGHT_NUM\":53317.0,\"THIRTEEN_RIDE_NUM\":61171.0,\"THIRTEEN_ALIGHT_NUM\":53687.0,\"FOURTEEN_RIDE_NUM\":53310.0,\"FOURTEEN_ALIGHT_NUM\":49094.0,\"FIFTEEN_RIDE_NUM\":65767.0,\"FIFTEEN_ALIGHT_NUM\":52788.0,\"SIXTEEN_RIDE_NUM\":76249.0,\"SIXTEEN_ALIGHT_NUM\":53969.0,\"SEVENTEEN_RIDE_NUM\":122928.0,\"SEVENTEEN_ALIGHT_NUM\":64693.0,\"EIGHTEEN_RIDE_NUM\":184907.0,\"EIGHTEEN_ALIGHT_NUM\":73978.0,\"NINETEEN_RIDE_NUM\":87575.0,\"NINETEEN_ALIGHT_NUM\":46769.0,\"TWENTY_RIDE_NUM\":59961.0,\"TWENTY_ALIGHT_NUM\":30743.0,\"TWENTY_ONE_RIDE_NUM\":65078.0,\"TWENTY_ONE_ALIGHT_NUM\":27435.0,\"TWENTY_TWO_RIDE_NUM\":44921.0,\"TWENTY_TWO_ALIGHT_NUM\":22829.0,\"TWENTY_THREE_RIDE_NUM\":11581.0,\"TWENTY_THREE_ALIGHT_NUM\":8024.0,\"MIDNIGHT_RIDE_NUM\":30.0,\"MIDNIGHT_ALIGHT_NUM\":637.0,\"ONE_RIDE_NUM\":0.0,\"ONE_ALIGHT_NUM\":1.0,\"TWO_RIDE_NUM\":0.0,\"TWO_ALIGHT_NUM\":0.0,\"THREE_RIDE_NUM\":0.0,\"THREE_ALIGHT_NUM\":0.0,\"WORK_DT\":\"20210703\"},{\"USE_MON\":\"202106\",\"LINE_NUM\":\"1호선\",\"SUB_STA_NM\":\"동묘앞\",\"FOUR_RIDE_NUM\":51.0,\"FOUR_ALIGHT_NUM\":1.0,\"FIVE_RIDE_NUM\":3218.0,\"FIVE_ALIGHT_NUM\":1100.0,\"SIX_RIDE_NUM\":3422.0,\"SIX_ALIGHT_NUM\":4802.0,\"SEVEN_RIDE_NUM\":5896.0,\"SEVEN_ALIGHT_NUM\":9703.0,\"EIGHT_RIDE_NUM\":9194.0,\"EIGHT_ALIGHT_NUM\":24921.0,\"NINE_RIDE_NUM\":8022.0,\"NINE_ALIGHT_NUM\":17333.0,\"TEN_RIDE_NUM\":9687.0,\"TEN_ALIGHT_NUM\":19292.0,\"ELEVEN_RIDE_NUM\":14091.0,\"ELEVEN_ALIGHT_NUM\":24305.0,\"TWELVE_RIDE_NUM\":20089.0,\"TWELVE_ALIGHT_NUM\":26186.0,\"THIRTEEN_RIDE_NUM\":24776.0,\"THIRTEEN_ALIGHT_NUM\":28141.0,\"FOURTEEN_RIDE_NUM\":27144.0,\"FOURTEEN_ALIGHT_NUM\":26643.0,\"FIFTEEN_RIDE_NUM\":28360.0,\"FIFTEEN_ALIGHT_NUM\":23213.0,\"SIXTEEN_RIDE_NUM\":31119.0,\"SIXTEEN_ALIGHT_NUM\":17744.0,\"SEVENTEEN_RIDE_NUM\":27036.0,\"SEVENTEEN_ALIGHT_NUM\":13759.0,\"EIGHTEEN_RIDE_NUM\":23606.0,\"EIGHTEEN_ALIGHT_NUM\":10098.0,\"NINETEEN_RIDE_NUM\":11006.0,\"NINETEEN_ALIGHT_NUM\":6510.0,\"TWENTY_RIDE_NUM\":6119.0,\"TWENTY_ALIGHT_NUM\":4409.0,\"TWENTY_ONE_RIDE_NUM\":5485.0,\"TWENTY_ONE_ALIGHT_NUM\":4265.0,\"TWENTY_TWO_RIDE_NUM\":3405.0,\"TWENTY_TWO_ALIGHT_NUM\":5689.0,\"TWENTY_THREE_RIDE_NUM\":1035.0,\"TWENTY_THREE_ALIGHT_NUM\":2589.0,\"MIDNIGHT_RIDE_NUM\":4.0,\"MIDNIGHT_ALIGHT_NUM\":1348.0,\"ONE_RIDE_NUM\":0.0,\"ONE_ALIGHT_NUM\":0.0,\"TWO_RIDE_NUM\":0.0,\"TWO_ALIGHT_NUM\":0.0,\"THREE_RIDE_NUM\":0.0,\"THREE_ALIGHT_NUM\":0.0,\"WORK_DT\":\"20210703\"},{\"USE_MON\":\"202106\",\"LINE_NUM\":\"1호선\",\"SUB_STA_NM\":\"시청\",\"FOUR_RIDE_NUM\":37.0,\"FOUR_ALIGHT_NUM\":0.0,\"FIVE_RIDE_NUM\":1881.0,\"FIVE_ALIGHT_NUM\":4340.0,\"SIX_RIDE_NUM\":2948.0,\"SIX_ALIGHT_NUM\":21443.0,\"SEVEN_RIDE_NUM\":6280.0,\"SEVEN_ALIGHT_NUM\":62346.0,\"EIGHT_RIDE_NUM\":7740.0,\"EIGHT_ALIGHT_NUM\":167991.0,\"NINE_RIDE_NUM\":8117.0,\"NINE_ALIGHT_NUM\":72853.0,\"TEN_RIDE_NUM\":9284.0,\"TEN_ALIGHT_NUM\":29250.0,\"ELEVEN_RIDE_NUM\":14030.0,\"ELEVEN_ALIGHT_NUM\":27989.0,\"TWELVE_RIDE_NUM\":15295.0,\"TWELVE_ALIGHT_NUM\":25037.0,\"THIRTEEN_RIDE_NUM\":18849.0,\"THIRTEEN_ALIGHT_NUM\":24492.0,\"FOURTEEN_RIDE_NUM\":23331.0,\"FOURTEEN_ALIGHT_NUM\":20032.0,\"FIFTEEN_RIDE_NUM\":30469.0,\"FIFTEEN_ALIGHT_NUM\":17869.0,\"SIXTEEN_RIDE_NUM\":36116.0,\"SIXTEEN_ALIGHT_NUM\":15593.0,\"SEVENTEEN_RIDE_NUM\":66595.0,\"SEVENTEEN_ALIGHT_NUM\":16611.0,\"EIGHTEEN_RIDE_NUM\":135842.0,\"EIGHTEEN_ALIGHT_NUM\":17805.0,\"NINETEEN_RIDE_NUM\":46850.0,\"NINETEEN_ALIGHT_NUM\":8139.0,\"TWENTY_RIDE_NUM\":38173.0,\"TWENTY_ALIGHT_NUM\":4455.0,\"TWENTY_ONE_RIDE_NUM\":39048.0,\"TWENTY_ONE_ALIGHT_NUM\":4234.0,\"TWENTY_TWO_RIDE_NUM\":28501.0,\"TWENTY_TWO_ALIGHT_NUM\":3686.0,\"TWENTY_THREE_RIDE_NUM\":4390.0,\"TWENTY_THREE_ALIGHT_NUM\":1485.0,\"MIDNIGHT_RIDE_NUM\":3.0,\"MIDNIGHT_ALIGHT_NUM\":92.0,\"ONE_RIDE_NUM\":0.0,\"ONE_ALIGHT_NUM\":0.0,\"TWO_RIDE_NUM\":0.0,\"TWO_ALIGHT_NUM\":0.0,\"THREE_RIDE_NUM\":0.0,\"THREE_ALIGHT_NUM\":0.0,\"WORK_DT\":\"20210703\"},{\"USE_MON\":\"202106\",\"LINE_NUM\":\"1호선\",\"SUB_STA_NM\":\"종각\",\"FOUR_RIDE_NUM\":127.0,\"FOUR_ALIGHT_NUM\":1.0,\"FIVE_RIDE_NUM\":2314.0,\"FIVE_ALIGHT_NUM\":4354.0,\"SIX_RIDE_NUM\":2868.0,\"SIX_ALIGHT_NUM\":23755.0,\"SEVEN_RIDE_NUM\":5479.0,\"SEVEN_ALIGHT_NUM\":96712.0,\"EIGHT_RIDE_NUM\":8419.0,\"EIGHT_ALIGHT_NUM\":223459.0,\"NINE_RIDE_NUM\":10625.0,\"NINE_ALIGHT_NUM\":131420.0,\"TEN_RIDE_NUM\":14727.0,\"TEN_ALIGHT_NUM\":50878.0,\"ELEVEN_RIDE_NUM\":23057.0,\"ELEVEN_ALIGHT_NUM\":44506.0,\"TWELVE_RIDE_NUM\":27707.0,\"TWELVE_ALIGHT_NUM\":39830.0,\"THIRTEEN_RIDE_NUM\":34538.0,\"THIRTEEN_ALIGHT_NUM\":40864.0,\"FOURTEEN_RIDE_NUM\":40378.0,\"FOURTEEN_ALIGHT_NUM\":33173.0,\"FIFTEEN_RIDE_NUM\":49745.0,\"FIFTEEN_ALIGHT_NUM\":29610.0,\"SIXTEEN_RIDE_NUM\":58664.0,\"SIXTEEN_ALIGHT_NUM\":29692.0,\"SEVENTEEN_RIDE_NUM\":114985.0,\"SEVENTEEN_ALIGHT_NUM\":33365.0,\"EIGHTEEN_RIDE_NUM\":192552.0,\"EIGHTEEN_ALIGHT_NUM\":39621.0,\"NINETEEN_RIDE_NUM\":78735.0,\"NINETEEN_ALIGHT_NUM\":19163.0,\"TWENTY_RIDE_NUM\":64989.0,\"TWENTY_ALIGHT_NUM\":7386.0,\"TWENTY_ONE_RIDE_NUM\":81179.0,\"TWENTY_ONE_ALIGHT_NUM\":4790.0,\"TWENTY_TWO_RIDE_NUM\":63653.0,\"TWENTY_TWO_ALIGHT_NUM\":3763.0,\"TWENTY_THREE_RIDE_NUM\":8153.0,\"TWENTY_THREE_ALIGHT_NUM\":1675.0,\"MIDNIGHT_RIDE_NUM\":21.0,\"MIDNIGHT_ALIGHT_NUM\":135.0,\"ONE_RIDE_NUM\":0.0,\"ONE_ALIGHT_NUM\":0.0,\"TWO_RIDE_NUM\":0.0,\"TWO_ALIGHT_NUM\":0.0,\"THREE_RIDE_NUM\":0.0,\"THREE_ALIGHT_NUM\":0.0,\"WORK_DT\":\"20210703\"},{\"USE_MON\":\"202106\",\"LINE_NUM\":\"1호선\",\"SUB_STA_NM\":\"종로3가\",\"FOUR_RIDE_NUM\":191.0,\"FOUR_ALIGHT_NUM\":24.0,\"FIVE_RIDE_NUM\":3227.0,\"FIVE_ALIGHT_NUM\":3388.0,\"SIX_RIDE_NUM\":3069.0,\"SIX_ALIGHT_NUM\":13080.0,\"SEVEN_RIDE_NUM\":5108.0,\"SEVEN_ALIGHT_NUM\":25462.0,\"EIGHT_RIDE_NUM\":7412.0,\"EIGHT_ALIGHT_NUM\":70639.0,\"NINE_RIDE_NUM\":11673.0,\"NINE_ALIGHT_NUM\":73336.0,\"TEN_RIDE_NUM\":18502.0,\"TEN_ALIGHT_NUM\":57312.0,\"ELEVEN_RIDE_NUM\":29882.0,\"ELEVEN_ALIGHT_NUM\":55725.0,\"TWELVE_RIDE_NUM\":37009.0,\"TWELVE_ALIGHT_NUM\":53678.0,\"THIRTEEN_RIDE_NUM\":44050.0,\"THIRTEEN_ALIGHT_NUM\":51189.0,\"FOURTEEN_RIDE_NUM\":47626.0,\"FOURTEEN_ALIGHT_NUM\":46621.0,\"FIFTEEN_RIDE_NUM\":53071.0,\"FIFTEEN_ALIGHT_NUM\":40250.0,\"SIXTEEN_RIDE_NUM\":56955.0,\"SIXTEEN_ALIGHT_NUM\":34679.0,\"SEVENTEEN_RIDE_NUM\":68711.0,\"SEVENTEEN_ALIGHT_NUM\":31234.0,\"EIGHTEEN_RIDE_NUM\":94683.0,\"EIGHTEEN_ALIGHT_NUM\":33315.0,\"NINETEEN_RIDE_NUM\":55993.0,\"NINETEEN_ALIGHT_NUM\":16571.0,\"TWENTY_RIDE_NUM\":41534.0,\"TWENTY_ALIGHT_NUM\":6332.0,\"TWENTY_ONE_RIDE_NUM\":51588.0,\"TWENTY_ONE_ALIGHT_NUM\":4938.0,\"TWENTY_TWO_RIDE_NUM\":47756.0,\"TWENTY_TWO_ALIGHT_NUM\":4591.0,\"TWENTY_THREE_RIDE_NUM\":6768.0,\"TWENTY_THREE_ALIGHT_NUM\":2318.0,\"MIDNIGHT_RIDE_NUM\":25.0,\"MIDNIGHT_ALIGHT_NUM\":413.0,\"ONE_RIDE_NUM\":0.0,\"ONE_ALIGHT_NUM\":0.0,\"TWO_RIDE_NUM\":0.0,\"TWO_ALIGHT_NUM\":0.0,\"THREE_RIDE_NUM\":0.0,\"THREE_ALIGHT_NUM\":0.0,\"WORK_DT\":\"20210703\"}]}}\n",
      "{\"CardSubwayTime\":{\"list_total_count\":608,\"RESULT\":{\"CODE\":\"INFO-000\",\"MESSAGE\":\"정상 처리되었습니다\"},\"row\":[{\"USE_MON\":\"202106\",\"LINE_NUM\":\"1호선\",\"SUB_STA_NM\":\"종로5가\",\"FOUR_RIDE_NUM\":71.0,\"FOUR_ALIGHT_NUM\":0.0,\"FIVE_RIDE_NUM\":1526.0,\"FIVE_ALIGHT_NUM\":3779.0,\"SIX_RIDE_NUM\":2574.0,\"SIX_ALIGHT_NUM\":16992.0,\"SEVEN_RIDE_NUM\":4781.0,\"SEVEN_ALIGHT_NUM\":39423.0,\"EIGHT_RIDE_NUM\":7414.0,\"EIGHT_ALIGHT_NUM\":103060.0,\"NINE_RIDE_NUM\":11525.0,\"NINE_ALIGHT_NUM\":62717.0,\"TEN_RIDE_NUM\":18431.0,\"TEN_ALIGHT_NUM\":50987.0,\"ELEVEN_RIDE_NUM\":27735.0,\"ELEVEN_ALIGHT_NUM\":48857.0,\"TWELVE_RIDE_NUM\":34387.0,\"TWELVE_ALIGHT_NUM\":47295.0,\"THIRTEEN_RIDE_NUM\":40094.0,\"THIRTEEN_ALIGHT_NUM\":42416.0,\"FOURTEEN_RIDE_NUM\":46633.0,\"FOURTEEN_ALIGHT_NUM\":39899.0,\"FIFTEEN_RIDE_NUM\":50981.0,\"FIFTEEN_ALIGHT_NUM\":35861.0,\"SIXTEEN_RIDE_NUM\":55982.0,\"SIXTEEN_ALIGHT_NUM\":29188.0,\"SEVENTEEN_RIDE_NUM\":71386.0,\"SEVENTEEN_ALIGHT_NUM\":26232.0,\"EIGHTEEN_RIDE_NUM\":96880.0,\"EIGHTEEN_ALIGHT_NUM\":22727.0,\"NINETEEN_RIDE_NUM\":45846.0,\"NINETEEN_ALIGHT_NUM\":12621.0,\"TWENTY_RIDE_NUM\":29493.0,\"TWENTY_ALIGHT_NUM\":5474.0,\"TWENTY_ONE_RIDE_NUM\":29266.0,\"TWENTY_ONE_ALIGHT_NUM\":4184.0,\"TWENTY_TWO_RIDE_NUM\":20319.0,\"TWENTY_TWO_ALIGHT_NUM\":3607.0,\"TWENTY_THREE_RIDE_NUM\":2740.0,\"TWENTY_THREE_ALIGHT_NUM\":1681.0,\"MIDNIGHT_RIDE_NUM\":4.0,\"MIDNIGHT_ALIGHT_NUM\":268.0,\"ONE_RIDE_NUM\":1.0,\"ONE_ALIGHT_NUM\":1.0,\"TWO_RIDE_NUM\":0.0,\"TWO_ALIGHT_NUM\":0.0,\"THREE_RIDE_NUM\":0.0,\"THREE_ALIGHT_NUM\":0.0,\"WORK_DT\":\"20210703\"},{\"USE_MON\":\"202106\",\"LINE_NUM\":\"1호선\",\"SUB_STA_NM\":\"동대문\",\"FOUR_RIDE_NUM\":715.0,\"FOUR_ALIGHT_NUM\":14.0,\"FIVE_RIDE_NUM\":13235.0,\"FIVE_ALIGHT_NUM\":2131.0,\"SIX_RIDE_NUM\":8936.0,\"SIX_ALIGHT_NUM\":6979.0,\"SEVEN_RIDE_NUM\":14776.0,\"SEVEN_ALIGHT_NUM\":12395.0,\"EIGHT_RIDE_NUM\":18660.0,\"EIGHT_ALIGHT_NUM\":24732.0,\"NINE_RIDE_NUM\":16788.0,\"NINE_ALIGHT_NUM\":22866.0,\"TEN_RIDE_NUM\":15988.0,\"TEN_ALIGHT_NUM\":21388.0,\"ELEVEN_RIDE_NUM\":17257.0,\"ELEVEN_ALIGHT_NUM\":22109.0,\"TWELVE_RIDE_NUM\":20561.0,\"TWELVE_ALIGHT_NUM\":21732.0,\"THIRTEEN_RIDE_NUM\":21099.0,\"THIRTEEN_ALIGHT_NUM\":20786.0,\"FOURTEEN_RIDE_NUM\":22318.0,\"FOURTEEN_ALIGHT_NUM\":19616.0,\"FIFTEEN_RIDE_NUM\":23370.0,\"FIFTEEN_ALIGHT_NUM\":18703.0,\"SIXTEEN_RIDE_NUM\":24338.0,\"SIXTEEN_ALIGHT_NUM\":17325.0,\"SEVENTEEN_RIDE_NUM\":23923.0,\"SEVENTEEN_ALIGHT_NUM\":17672.0,\"EIGHTEEN_RIDE_NUM\":22895.0,\"EIGHTEEN_ALIGHT_NUM\":18354.0,\"NINETEEN_RIDE_NUM\":15871.0,\"NINETEEN_ALIGHT_NUM\":19089.0,\"TWENTY_RIDE_NUM\":12693.0,\"TWENTY_ALIGHT_NUM\":12789.0,\"TWENTY_ONE_RIDE_NUM\":13040.0,\"TWENTY_ONE_ALIGHT_NUM\":10134.0,\"TWENTY_TWO_RIDE_NUM\":11167.0,\"TWENTY_TWO_ALIGHT_NUM\":10601.0,\"TWENTY_THREE_RIDE_NUM\":2811.0,\"TWENTY_THREE_ALIGHT_NUM\":8211.0,\"MIDNIGHT_RIDE_NUM\":16.0,\"MIDNIGHT_ALIGHT_NUM\":1434.0,\"ONE_RIDE_NUM\":1.0,\"ONE_ALIGHT_NUM\":1.0,\"TWO_RIDE_NUM\":0.0,\"TWO_ALIGHT_NUM\":0.0,\"THREE_RIDE_NUM\":0.0,\"THREE_ALIGHT_NUM\":0.0,\"WORK_DT\":\"20210703\"},{\"USE_MON\":\"202106\",\"LINE_NUM\":\"1호선\",\"SUB_STA_NM\":\"신설동\",\"FOUR_RIDE_NUM\":343.0,\"FOUR_ALIGHT_NUM\":3.0,\"FIVE_RIDE_NUM\":8150.0,\"FIVE_ALIGHT_NUM\":3192.0,\"SIX_RIDE_NUM\":8131.0,\"SIX_ALIGHT_NUM\":10929.0,\"SEVEN_RIDE_NUM\":17021.0,\"SEVEN_ALIGHT_NUM\":25745.0,\"EIGHT_RIDE_NUM\":24583.0,\"EIGHT_ALIGHT_NUM\":62999.0,\"NINE_RIDE_NUM\":16472.0,\"NINE_ALIGHT_NUM\":33400.0,\"TEN_RIDE_NUM\":14689.0,\"TEN_ALIGHT_NUM\":20639.0,\"ELEVEN_RIDE_NUM\":16427.0,\"ELEVEN_ALIGHT_NUM\":17238.0,\"TWELVE_RIDE_NUM\":17625.0,\"TWELVE_ALIGHT_NUM\":16913.0,\"THIRTEEN_RIDE_NUM\":19712.0,\"THIRTEEN_ALIGHT_NUM\":17440.0,\"FOURTEEN_RIDE_NUM\":19363.0,\"FOURTEEN_ALIGHT_NUM\":16063.0,\"FIFTEEN_RIDE_NUM\":20684.0,\"FIFTEEN_ALIGHT_NUM\":16772.0,\"SIXTEEN_RIDE_NUM\":28784.0,\"SIXTEEN_ALIGHT_NUM\":17481.0,\"SEVENTEEN_RIDE_NUM\":39357.0,\"SEVENTEEN_ALIGHT_NUM\":20038.0,\"EIGHTEEN_RIDE_NUM\":57642.0,\"EIGHTEEN_ALIGHT_NUM\":25012.0,\"NINETEEN_RIDE_NUM\":20823.0,\"NINETEEN_ALIGHT_NUM\":17529.0,\"TWENTY_RIDE_NUM\":13880.0,\"TWENTY_ALIGHT_NUM\":10932.0,\"TWENTY_ONE_RIDE_NUM\":13378.0,\"TWENTY_ONE_ALIGHT_NUM\":10102.0,\"TWENTY_TWO_RIDE_NUM\":10189.0,\"TWENTY_TWO_ALIGHT_NUM\":11809.0,\"TWENTY_THREE_RIDE_NUM\":1952.0,\"TWENTY_THREE_ALIGHT_NUM\":5451.0,\"MIDNIGHT_RIDE_NUM\":10.0,\"MIDNIGHT_ALIGHT_NUM\":449.0,\"ONE_RIDE_NUM\":0.0,\"ONE_ALIGHT_NUM\":0.0,\"TWO_RIDE_NUM\":0.0,\"TWO_ALIGHT_NUM\":0.0,\"THREE_RIDE_NUM\":0.0,\"THREE_ALIGHT_NUM\":0.0,\"WORK_DT\":\"20210703\"},{\"USE_MON\":\"202106\",\"LINE_NUM\":\"1호선\",\"SUB_STA_NM\":\"제기동\",\"FOUR_RIDE_NUM\":360.0,\"FOUR_ALIGHT_NUM\":3.0,\"FIVE_RIDE_NUM\":5020.0,\"FIVE_ALIGHT_NUM\":2150.0,\"SIX_RIDE_NUM\":8625.0,\"SIX_ALIGHT_NUM\":9488.0,\"SEVEN_RIDE_NUM\":21818.0,\"SEVEN_ALIGHT_NUM\":18800.0,\"EIGHT_RIDE_NUM\":31428.0,\"EIGHT_ALIGHT_NUM\":42110.0,\"NINE_RIDE_NUM\":22254.0,\"NINE_ALIGHT_NUM\":37145.0,\"TEN_RIDE_NUM\":25534.0,\"TEN_ALIGHT_NUM\":39572.0,\"ELEVEN_RIDE_NUM\":33701.0,\"ELEVEN_ALIGHT_NUM\":40192.0,\"TWELVE_RIDE_NUM\":37380.0,\"TWELVE_ALIGHT_NUM\":36944.0,\"THIRTEEN_RIDE_NUM\":37913.0,\"THIRTEEN_ALIGHT_NUM\":36302.0,\"FOURTEEN_RIDE_NUM\":38816.0,\"FOURTEEN_ALIGHT_NUM\":38060.0,\"FIFTEEN_RIDE_NUM\":39042.0,\"FIFTEEN_ALIGHT_NUM\":34744.0,\"SIXTEEN_RIDE_NUM\":36805.0,\"SIXTEEN_ALIGHT_NUM\":29316.0,\"SEVENTEEN_RIDE_NUM\":38480.0,\"SEVENTEEN_ALIGHT_NUM\":23319.0,\"EIGHTEEN_RIDE_NUM\":37172.0,\"EIGHTEEN_ALIGHT_NUM\":26182.0,\"NINETEEN_RIDE_NUM\":16542.0,\"NINETEEN_ALIGHT_NUM\":17773.0,\"TWENTY_RIDE_NUM\":10447.0,\"TWENTY_ALIGHT_NUM\":11211.0,\"TWENTY_ONE_RIDE_NUM\":8822.0,\"TWENTY_ONE_ALIGHT_NUM\":10198.0,\"TWENTY_TWO_RIDE_NUM\":7253.0,\"TWENTY_TWO_ALIGHT_NUM\":11830.0,\"TWENTY_THREE_RIDE_NUM\":2042.0,\"TWENTY_THREE_ALIGHT_NUM\":4844.0,\"MIDNIGHT_RIDE_NUM\":8.0,\"MIDNIGHT_ALIGHT_NUM\":408.0,\"ONE_RIDE_NUM\":0.0,\"ONE_ALIGHT_NUM\":0.0,\"TWO_RIDE_NUM\":1.0,\"TWO_ALIGHT_NUM\":0.0,\"THREE_RIDE_NUM\":0.0,\"THREE_ALIGHT_NUM\":0.0,\"WORK_DT\":\"20210703\"},{\"USE_MON\":\"202106\",\"LINE_NUM\":\"1호선\",\"SUB_STA_NM\":\"청량리(서울시립대입구)\",\"FOUR_RIDE_NUM\":1114.0,\"FOUR_ALIGHT_NUM\":17.0,\"FIVE_RIDE_NUM\":10556.0,\"FIVE_ALIGHT_NUM\":4752.0,\"SIX_RIDE_NUM\":14555.0,\"SIX_ALIGHT_NUM\":20601.0,\"SEVEN_RIDE_NUM\":36398.0,\"SEVEN_ALIGHT_NUM\":18127.0,\"EIGHT_RIDE_NUM\":44314.0,\"EIGHT_ALIGHT_NUM\":36112.0,\"NINE_RIDE_NUM\":30993.0,\"NINE_ALIGHT_NUM\":33651.0,\"TEN_RIDE_NUM\":30325.0,\"TEN_ALIGHT_NUM\":34593.0,\"ELEVEN_RIDE_NUM\":32895.0,\"ELEVEN_ALIGHT_NUM\":36922.0,\"TWELVE_RIDE_NUM\":36644.0,\"TWELVE_ALIGHT_NUM\":38152.0,\"THIRTEEN_RIDE_NUM\":37957.0,\"THIRTEEN_ALIGHT_NUM\":37161.0,\"FOURTEEN_RIDE_NUM\":38453.0,\"FOURTEEN_ALIGHT_NUM\":41488.0,\"FIFTEEN_RIDE_NUM\":41308.0,\"FIFTEEN_ALIGHT_NUM\":40046.0,\"SIXTEEN_RIDE_NUM\":48019.0,\"SIXTEEN_ALIGHT_NUM\":37625.0,\"SEVENTEEN_RIDE_NUM\":45267.0,\"SEVENTEEN_ALIGHT_NUM\":37535.0,\"EIGHTEEN_RIDE_NUM\":41132.0,\"EIGHTEEN_ALIGHT_NUM\":46814.0,\"NINETEEN_RIDE_NUM\":22408.0,\"NINETEEN_ALIGHT_NUM\":31284.0,\"TWENTY_RIDE_NUM\":16802.0,\"TWENTY_ALIGHT_NUM\":17867.0,\"TWENTY_ONE_RIDE_NUM\":13163.0,\"TWENTY_ONE_ALIGHT_NUM\":16739.0,\"TWENTY_TWO_RIDE_NUM\":9007.0,\"TWENTY_TWO_ALIGHT_NUM\":17875.0,\"TWENTY_THREE_RIDE_NUM\":2199.0,\"TWENTY_THREE_ALIGHT_NUM\":7010.0,\"MIDNIGHT_RIDE_NUM\":15.0,\"MIDNIGHT_ALIGHT_NUM\":784.0,\"ONE_RIDE_NUM\":1.0,\"ONE_ALIGHT_NUM\":0.0,\"TWO_RIDE_NUM\":0.0,\"TWO_ALIGHT_NUM\":0.0,\"THREE_RIDE_NUM\":0.0,\"THREE_ALIGHT_NUM\":0.0,\"WORK_DT\":\"20210703\"}]}}\n"
     ]
    }
   ],
   "source": [
    "import os\n",
    "from src import mylib\n",
    "import requests\n",
    "\n",
    "keyPath=os.path.join(os.getcwd(), 'src', 'key.properties')\n",
    "key=mylib.getKey(keyPath)\n",
    "\n",
    "_url='http://openAPI.seoul.go.kr:8088'\n",
    "_key=str(key['dataseoul'])\n",
    "_type='json'\n",
    "_service='CardSubwayTime'\n",
    "_start_index=1\n",
    "_end_index=5\n",
    "_use_mon='202106'\n",
    "\n",
    "_maxIter=1\n",
    "_iter=0\n",
    "while _iter<_maxIter:\n",
    "    _api=\"/\".join([_url,_key,_type,_service,str(_start_index),str(_end_index),_use_mon])\n",
    "    #print _api\n",
    "    subwayTime = requests.get(_api).text\n",
    "    print(subwayTime)\n",
    "    _start_index+=5\n",
    "    _end_index+=5\n",
    "    _iter+=1"
   ]
  }
 ],
 "metadata": {
  "kernelspec": {
   "display_name": "Python 3",
   "language": "python",
   "name": "python3"
  },
  "language_info": {
   "codemirror_mode": {
    "name": "ipython",
    "version": 3
   },
   "file_extension": ".py",
   "mimetype": "text/x-python",
   "name": "python",
   "nbconvert_exporter": "python",
   "pygments_lexer": "ipython3",
   "version": "3.8.8"
  }
 },
 "nbformat": 4,
 "nbformat_minor": 5
}
