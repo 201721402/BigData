{
 "cells": [
  {
   "cell_type": "markdown",
   "id": "edc895da",
   "metadata": {},
   "source": [
    "### 무작위 데이터(python, numpy)"
   ]
  },
  {
   "cell_type": "code",
   "execution_count": 8,
   "id": "817bd309",
   "metadata": {},
   "outputs": [
    {
     "name": "stdout",
     "output_type": "stream",
     "text": [
      "1st random number on the basis of the seed 0.23796462709189137\n",
      "2nd random number on the basis of the seed 0.5442292252959519\n"
     ]
    }
   ],
   "source": [
    "import random\n",
    "random.seed(3)\n",
    "print(\"1st random number on the basis of the seed {}\".format(random.random()))\n",
    "print(\"2nd random number on the basis of the seed {}\".format(random.random()))"
   ]
  },
  {
   "cell_type": "code",
   "execution_count": 9,
   "id": "dd37ab89",
   "metadata": {},
   "outputs": [
    {
     "name": "stdout",
     "output_type": "stream",
     "text": [
      "[[0.37868156 0.53208542]\n",
      " [0.73832253 0.68722046]\n",
      " [0.05492026 0.8746464 ]]\n"
     ]
    }
   ],
   "source": [
    "import numpy as np\n",
    "print (np.random.random((3,2)))"
   ]
  },
  {
   "cell_type": "markdown",
   "id": "e522a3f9",
   "metadata": {},
   "source": [
    "### 분포에서 무작위 수\n",
    "\n",
    "분포를 가정하고, 무작위 표본 Sample을 추출할 수 있다.\n",
    "* numpy.random.rand는 **균등분포**\n",
    "* numpy.random.randn은 **표준정규분포** (평균 $\\mu=0$, 표준편차 $\\sigma=1$)에서 샘플을 추출한다."
   ]
  },
  {
   "cell_type": "code",
   "execution_count": 57,
   "id": "340d0877",
   "metadata": {},
   "outputs": [
    {
     "data": {
      "text/plain": [
       "1.154175223142146"
      ]
     },
     "execution_count": 57,
     "metadata": {},
     "output_type": "execute_result"
    }
   ],
   "source": [
    "#표준 정규 분포\n",
    "np.random.randn()"
   ]
  },
  {
   "cell_type": "markdown",
   "id": "c73064ac",
   "metadata": {},
   "source": [
    "np.random.random_sample, random.sample 모두 **균등분포**에서 표본을 추출한다."
   ]
  },
  {
   "cell_type": "code",
   "execution_count": 55,
   "id": "3f61c4e5",
   "metadata": {},
   "outputs": [
    {
     "name": "stdout",
     "output_type": "stream",
     "text": [
      "[[0.54622928 0.23726023]\n",
      " [0.07606718 0.78346059]\n",
      " [0.04131723 0.56303612]]\n"
     ]
    }
   ],
   "source": [
    "# 균등분포 \n",
    "print (np.random.random_sample( (3,2) ))"
   ]
  },
  {
   "cell_type": "markdown",
   "id": "08d12216",
   "metadata": {},
   "source": [
    "### 범위 안에서 무작위"
   ]
  },
  {
   "cell_type": "code",
   "execution_count": 11,
   "id": "212b4933",
   "metadata": {},
   "outputs": [
    {
     "name": "stdout",
     "output_type": "stream",
     "text": [
      "[3, 4]\n",
      "[6, 1, 3]\n"
     ]
    }
   ],
   "source": [
    "import random\n",
    "print (random.sample([1,2,3,4,6], 2))\n",
    "print (random.sample([1,2,3,4,6], 3))"
   ]
  },
  {
   "cell_type": "markdown",
   "id": "caf7d84b",
   "metadata": {},
   "source": [
    "## S.4 균등 분포"
   ]
  },
  {
   "cell_type": "code",
   "execution_count": 69,
   "id": "1925137c",
   "metadata": {},
   "outputs": [
    {
     "name": "stdout",
     "output_type": "stream",
     "text": [
      "Dice 1: 20회\n",
      "Dice 2: 20회\n",
      "Dice 3: 15회\n",
      "Dice 4: 20회\n",
      "Dice 5: 12회\n",
      "Dice 6: 13회\n"
     ]
    },
    {
     "data": {
      "image/png": "[encoded data removed]",
      "text/plain": [
       "<Figure size 432x288 with 1 Axes>"
      ]
     },
     "metadata": {
      "needs_background": "light"
     },
     "output_type": "display_data"
    }
   ],
   "source": [
    "# randmo sampling\n",
    "#샘플링 \n",
    "dice=[]\n",
    "for i in range(100):\n",
    "   dice.append(random.randrange(1,6+1))\n",
    "\n",
    "for i in range(1,7):\n",
    "   print(\"Dice {}: {}회\".format(i, dice.count(i)))\n",
    "\n",
    "%matplotlib inline\n",
    "import matplotlib.pyplot as plt\n",
    "plt.hist(dice)\n",
    "plt.show()"
   ]
  },
  {
   "cell_type": "code",
   "execution_count": 156,
   "id": "62a3c734",
   "metadata": {},
   "outputs": [
    {
     "data": {
      "image/png": "[encoded data removed]",
      "text/plain": [
       "<Figure size 432x288 with 1 Axes>"
      ]
     },
     "metadata": {
      "needs_background": "light"
     },
     "output_type": "display_data"
    }
   ],
   "source": [
    "dice = []\n",
    "for i in range(100):\n",
    "    dice.append(random.randrange(1,6+1))\n",
    "\n",
    "import numpy as np\n",
    "#x축 숫자 그래프 가운대로 옮기고 싶으면 0.5를 배치해\n",
    "plt.hist(dice, bins = np.arange(0.5,7))\n",
    "plt.show()"
   ]
  },
  {
   "cell_type": "markdown",
   "id": "8664255a",
   "metadata": {},
   "source": [
    "## pandas로 그리기"
   ]
  },
  {
   "cell_type": "code",
   "execution_count": 23,
   "id": "38b9d5f1",
   "metadata": {},
   "outputs": [
    {
     "data": {
      "text/plain": [
       "<AxesSubplot:>"
      ]
     },
     "execution_count": 23,
     "metadata": {},
     "output_type": "execute_result"
    },
    {
     "data": {
      "image/png": "[encoded data removed]",
      "text/plain": [
       "<Figure size 432x288 with 1 Axes>"
      ]
     },
     "metadata": {
      "needs_background": "light"
     },
     "output_type": "display_data"
    }
   ],
   "source": [
    "import pandas as pd\n",
    "pd.Series(dice).hist(bins = np.arange(0.5, 7))"
   ]
  },
  {
   "cell_type": "markdown",
   "id": "5d988b19",
   "metadata": {},
   "source": [
    "### describe (**기술통계량) -> 평균, 최소값, 최대값, 표준편차, 건수"
   ]
  },
  {
   "cell_type": "code",
   "execution_count": 24,
   "id": "ed3b6a2b",
   "metadata": {},
   "outputs": [
    {
     "name": "stdout",
     "output_type": "stream",
     "text": [
      "count    100.000000\n",
      "mean       3.710000\n",
      "std        1.683521\n",
      "min        1.000000\n",
      "25%        2.000000\n",
      "50%        4.000000\n",
      "75%        5.000000\n",
      "max        6.000000\n",
      "dtype: float64\n"
     ]
    }
   ],
   "source": [
    "import pandas as pd\n",
    "\n",
    "s=pd.Series(dice)\n",
    "print (s.describe())"
   ]
  },
  {
   "cell_type": "markdown",
   "id": "3b2bb215",
   "metadata": {},
   "source": [
    "## S.5 정규분포"
   ]
  },
  {
   "cell_type": "markdown",
   "id": "f8dd9b7a",
   "metadata": {},
   "source": [
    "평균 0, 표준편차 1을 가지는 정규분포에서 200개 샘플을 추출해보자."
   ]
  },
  {
   "cell_type": "code",
   "execution_count": 28,
   "id": "2dd02129",
   "metadata": {},
   "outputs": [
    {
     "data": {
      "text/plain": [
       "(array([ 3.,  7.,  8., 13., 14., 24., 12., 11.,  4.,  4.]),\n",
       " array([-2.62840992, -2.10767546, -1.58694101, -1.06620656, -0.54547211,\n",
       "        -0.02473766,  0.49599679,  1.01673124,  1.53746569,  2.05820014,\n",
       "         2.57893459]),\n",
       " <BarContainer object of 10 artists>)"
      ]
     },
     "execution_count": 28,
     "metadata": {},
     "output_type": "execute_result"
    },
    {
     "data": {
      "image/png": "[encoded data removed]",
      "text/plain": [
       "<Figure size 432x288 with 1 Axes>"
      ]
     },
     "metadata": {
      "needs_background": "light"
     },
     "output_type": "display_data"
    }
   ],
   "source": [
    "%matplotlib inline\n",
    "import numpy as np\n",
    "import matplotlib.pyplot as plt\n",
    "comp1=np.random.normal(0, 1, size=200)\n",
    "comp2=np.random.normal(10, 2, size=200)\n",
    "\n",
    "x=np.random.randn(100)\n",
    "count, binends = np.histogram(x)\n",
    "\n",
    "plt.hist(x)"
   ]
  },
  {
   "cell_type": "markdown",
   "id": "4bdf22c3",
   "metadata": {},
   "source": [
    "### pandas로 그리기"
   ]
  },
  {
   "cell_type": "code",
   "execution_count": 29,
   "id": "5a36202e",
   "metadata": {},
   "outputs": [
    {
     "data": {
      "text/plain": [
       "<AxesSubplot:>"
      ]
     },
     "execution_count": 29,
     "metadata": {},
     "output_type": "execute_result"
    },
    {
     "data": {
      "image/png": "[encoded data removed]",
      "text/plain": [
       "<Figure size 432x288 with 1 Axes>"
      ]
     },
     "metadata": {
      "needs_background": "light"
     },
     "output_type": "display_data"
    }
   ],
   "source": [
    "import pandas as pd\n",
    "\n",
    "values=pd.Series(np.concatenate( [comp1,comp2]))\n",
    "values.hist()"
   ]
  },
  {
   "cell_type": "code",
   "execution_count": 30,
   "id": "39e34d41",
   "metadata": {},
   "outputs": [
    {
     "data": {
      "image/png": "[encoded data removed]",
      "text/plain": [
       "<Figure size 432x288 with 1 Axes>"
      ]
     },
     "metadata": {
      "needs_background": "light"
     },
     "output_type": "display_data"
    }
   ],
   "source": [
    "values.plot()\n",
    "plt.show()"
   ]
  },
  {
   "cell_type": "markdown",
   "id": "e9bd369f",
   "metadata": {},
   "source": [
    "## S.6 중심극한정리"
   ]
  },
  {
   "cell_type": "code",
   "execution_count": 160,
   "id": "49c05fd0",
   "metadata": {},
   "outputs": [],
   "source": [
    "import numpy as np\n",
    "x=np.random.randn(100)"
   ]
  },
  {
   "cell_type": "markdown",
   "id": "2e4ff46a",
   "metadata": {},
   "source": [
    "정규분포는 평균, 모드, 최빈값이 같아야 한다.\n",
    "아래는 평균은 0에 가깝고, 최빈값과 다소 차이가 있다.\n",
    "정규분포의 솟거나, 퍼진 모양이 다르기 때문이다."
   ]
  },
  {
   "cell_type": "code",
   "execution_count": 161,
   "id": "dbb76f71",
   "metadata": {},
   "outputs": [
    {
     "name": "stdout",
     "output_type": "stream",
     "text": [
      "mean\t: 0.15114378802423348\n",
      "median\t: 0.21980946671616386\n"
     ]
    }
   ],
   "source": [
    "print (\"mean\\t: {}\".format(np.mean(x)))\n",
    "print (\"median\\t: {}\".format(np.median(x)))"
   ]
  },
  {
   "cell_type": "markdown",
   "id": "87479b1b",
   "metadata": {},
   "source": [
    "### skewness (분포의 대칭성)\n",
    "\n",
    "분포의 대칭성을 설명하는 지표로 skewness를 계산한다.\n",
    "* ```= 0``` : 정규분포\n",
    "* ```> 0``` : 왼쪽 꼬리가 두툼, 왼쪽으로 비스듬\n",
    "* ```< 0``` : 오른쪽 꼬리가 두툼, 왼쪽으로 비스듬"
   ]
  },
  {
   "cell_type": "code",
   "execution_count": 162,
   "id": "6980ade3",
   "metadata": {},
   "outputs": [
    {
     "name": "stdout",
     "output_type": "stream",
     "text": [
      "skewness\t: -0.19029375309212265\n"
     ]
    }
   ],
   "source": [
    "from scipy.stats import skew\n",
    "\n",
    "print (\"skewness\\t: {}\".format(skew(x)))"
   ]
  },
  {
   "cell_type": "markdown",
   "id": "8b1b38c3",
   "metadata": {},
   "source": [
    "### kurtosis (분포의 뾰족한 정도)\n",
    "\n",
    "kurtosis는 분포의 뾰족한 정도를 설명한다.\n",
    "* ```= 0``` : 정규분포\n",
    "* ```> 0``` : 뾰족하고, 꼬리가 두툼\n",
    "* ```< 0``` : 편평하고, 꼬리가 얇음"
   ]
  },
  {
   "cell_type": "code",
   "execution_count": 163,
   "id": "a69cb3ea",
   "metadata": {},
   "outputs": [
    {
     "name": "stdout",
     "output_type": "stream",
     "text": [
      "kurtosis\t: -0.2822453391494424\n"
     ]
    }
   ],
   "source": [
    "from scipy.stats import kurtosis\n",
    "\n",
    "print (\"kurtosis\\t: {}\".format(kurtosis(x)))"
   ]
  },
  {
   "cell_type": "markdown",
   "id": "65c086d0",
   "metadata": {},
   "source": [
    "## S.7 분산\n"
   ]
  },
  {
   "cell_type": "code",
   "execution_count": 36,
   "id": "728efaa7",
   "metadata": {},
   "outputs": [
    {
     "name": "stdout",
     "output_type": "stream",
     "text": [
      "simple mean of x = 0.040\n"
     ]
    }
   ],
   "source": [
    "#평균 -> 라이브러리로 쉽게 합계 구함\n",
    "X=x\n",
    "print (\"simple mean of x = {:.3f}\".format(float(sum(X))/len(X)))"
   ]
  },
  {
   "cell_type": "markdown",
   "id": "187f06c8",
   "metadata": {},
   "source": [
    "### numpy 평균"
   ]
  },
  {
   "cell_type": "code",
   "execution_count": 38,
   "id": "3546039d",
   "metadata": {},
   "outputs": [
    {
     "name": "stdout",
     "output_type": "stream",
     "text": [
      "numpy mean of X = 0.040\n"
     ]
    }
   ],
   "source": [
    "import numpy as np\n",
    "\n",
    "xbar=np.mean(X)\n",
    "#ybar=np.mean(Y)\n",
    "print (\"numpy mean of X = {:.3f}\".format(xbar))\n"
   ]
  },
  {
   "cell_type": "markdown",
   "id": "bbd1c263",
   "metadata": {},
   "source": [
    "### 분산 계산식"
   ]
  },
  {
   "cell_type": "code",
   "execution_count": 39,
   "id": "42cf1b9d",
   "metadata": {},
   "outputs": [
    {
     "name": "stdout",
     "output_type": "stream",
     "text": [
      "0.9272361498847824\n"
     ]
    }
   ],
   "source": [
    "#x에서 xbar(평균 ) 뺀다\n",
    "#자유도는 0\n",
    "print(np.sqrt(sum( [ (x-xbar)**2 for x in X ] )/len(X))) # ddof=0"
   ]
  },
  {
   "cell_type": "code",
   "execution_count": 40,
   "id": "8bd2c6eb",
   "metadata": {},
   "outputs": [
    {
     "name": "stdout",
     "output_type": "stream",
     "text": [
      "0.931907394309565\n"
     ]
    }
   ],
   "source": [
    "#자유도는 1\n",
    "print(np.sqrt(sum( [ (x-xbar)**2 for x in X ] )/(len(X)-1))) # ddof=1"
   ]
  },
  {
   "cell_type": "markdown",
   "id": "194a0f52",
   "metadata": {},
   "source": [
    "### numpy 분산 계산"
   ]
  },
  {
   "cell_type": "code",
   "execution_count": 42,
   "id": "dff5f128",
   "metadata": {},
   "outputs": [
    {
     "name": "stdout",
     "output_type": "stream",
     "text": [
      "0.9272361498847823\n",
      "0.9319073943095649\n"
     ]
    }
   ],
   "source": [
    "sx=np.sqrt(np.var(X,ddof=1))\n",
    "#자유도 0, 1\n",
    "print(np.std(X)) # ddof=0\n",
    "print(np.std(X, ddof=1))"
   ]
  },
  {
   "cell_type": "code",
   "execution_count": 43,
   "id": "8cc489a1",
   "metadata": {},
   "outputs": [
    {
     "name": "stdout",
     "output_type": "stream",
     "text": [
      "3.0\n"
     ]
    }
   ],
   "source": [
    "#percentile은 배열에서50% 즉 5개의 배열의 중간 인덱스의 값을 리턴\n",
    "a = np.array([1,2,3,4,5])\n",
    "p = np.percentile(a, 50) # return 50th percentile, e.g median.\n",
    "print (p) # 3\n"
   ]
  },
  {
   "cell_type": "markdown",
   "id": "25445e19",
   "metadata": {},
   "source": [
    "### boxplot"
   ]
  },
  {
   "cell_type": "code",
   "execution_count": 44,
   "id": "8aa991e5",
   "metadata": {},
   "outputs": [
    {
     "data": {
      "image/png": "[encoded data removed]",
      "text/plain": [
       "<Figure size 432x288 with 1 Axes>"
      ]
     },
     "metadata": {
      "needs_background": "light"
     },
     "output_type": "display_data"
    }
   ],
   "source": [
    "import matplotlib.pyplot as plt\n",
    "\n",
    "x1 = np.random.normal(0,1,50) # mu=0, sigma=1, n=50\n",
    "x2 = np.random.normal(1,1,50)\n",
    "x3 = np.random.normal(2,1,50)\n",
    "plt.boxplot([x1,x2,x3])\n",
    "plt.show()"
   ]
  },
  {
   "cell_type": "markdown",
   "id": "efbb4f73",
   "metadata": {},
   "source": [
    "## S.8 zscore, tscore\n",
    "zscore -> 평균에서 표준편차의 몇배가 떨어져 있는지? 각 값 - 평균 / 표준편차\n",
    "\n",
    "tscore -> "
   ]
  },
  {
   "cell_type": "code",
   "execution_count": 164,
   "id": "a55c619a",
   "metadata": {},
   "outputs": [
    {
     "name": "stdout",
     "output_type": "stream",
     "text": [
      "-0.6410300618768864 -1.5286101475525755 -0.04931000475976033 -0.04931000475976033 -0.9368900904354495 1.1341301094744918 -0.04931000475976033 1.725850166591618 -1.2327501189940124 -0.04931000475976033 0.5424100523573657 1.1341301094744918 "
     ]
    }
   ],
   "source": [
    "X=[10, 7, 12, 12, 9, 16, 12, 18, 8, 12, 14, 16]\n",
    "\n",
    "#zscore계산식 \n",
    "import numpy as np\n",
    "#x의 평균 구해 \n",
    "xbar=np.mean(X)\n",
    "#np함수 통해 시그마를 구한다(분산)\n",
    "sigmax=np.std(X) #ddof=0\n",
    "#np함수 통해 자유도가 1인 시그마를 구한다. \n",
    "sx=np.std(X,ddof=1)\n",
    "\n",
    "# 평균에서 점수를 빼고난뒤 표준편차로 나눈 모슴 \n",
    "for x in X:\n",
    "   zscore=(x-xbar)/sx\n",
    "   print (zscore, end= ' ')"
   ]
  },
  {
   "cell_type": "markdown",
   "id": "dfd253f3",
   "metadata": {},
   "source": [
    "### 라이브러리 이용한 zscore 쉽게 구하기"
   ]
  },
  {
   "cell_type": "code",
   "execution_count": 46,
   "id": "9ebd3595",
   "metadata": {},
   "outputs": [
    {
     "data": {
      "text/plain": [
       "array([-0.66953406, -1.59658123, -0.05150262, -0.05150262, -0.97854978,\n",
       "        1.18456027, -0.05150262,  1.80259171, -1.28756551, -0.05150262,\n",
       "        0.56652882,  1.18456027])"
      ]
     },
     "execution_count": 46,
     "metadata": {},
     "output_type": "execute_result"
    }
   ],
   "source": [
    "from scipy import stats\n",
    "stats.zscore(X)"
   ]
  },
  {
   "cell_type": "markdown",
   "id": "47f74b27",
   "metadata": {},
   "source": [
    "### cdf (누적확률)\n",
    "**평균과 표준편차는 0,1을 기본 값** 으로 함\n",
    "\n",
    "Ex) cdf(0)은 '0'또는 그 이하의 값을 누적한 확률 "
   ]
  },
  {
   "cell_type": "code",
   "execution_count": 47,
   "id": "24d89e9f",
   "metadata": {},
   "outputs": [
    {
     "data": {
      "text/plain": [
       "0.5"
      ]
     },
     "execution_count": 47,
     "metadata": {},
     "output_type": "execute_result"
    }
   ],
   "source": [
    "from scipy.stats import norm\n",
    "#loc는 평균 scale은 표준편차\n",
    "norm.cdf(0, loc=0, scale=1)"
   ]
  },
  {
   "cell_type": "markdown",
   "id": "ee7ea6d6",
   "metadata": {},
   "source": [
    "1일 경우는 84.13, 2일 경우에는 97.72이다.\n",
    "* $\\mu \\pm 1\\sigma$ 모집단 68.27%\n",
    "* $\\mu \\pm 2\\sigma$ 모집단 95.45%\n",
    "* $\\mu \\pm 3\\sigma$ 모집단 99.73%"
   ]
  },
  {
   "cell_type": "code",
   "execution_count": 48,
   "id": "05d7f07d",
   "metadata": {},
   "outputs": [
    {
     "data": {
      "text/plain": [
       "0.6826894921370859"
      ]
     },
     "execution_count": 48,
     "metadata": {},
     "output_type": "execute_result"
    }
   ],
   "source": [
    "norm.cdf(1) - norm.cdf(-1)"
   ]
  },
  {
   "cell_type": "code",
   "execution_count": 49,
   "id": "1d28e7cd",
   "metadata": {},
   "outputs": [
    {
     "data": {
      "text/plain": [
       "0.9544997361036416"
      ]
     },
     "execution_count": 49,
     "metadata": {},
     "output_type": "execute_result"
    }
   ],
   "source": [
    "norm.cdf(2) - norm.cdf(-2)"
   ]
  },
  {
   "cell_type": "markdown",
   "id": "7bd8f718",
   "metadata": {},
   "source": [
    "### n이 작을때 cdf구하기 위해서는 t분포를 사용해야한다. "
   ]
  },
  {
   "cell_type": "code",
   "execution_count": 50,
   "id": "0e848872",
   "metadata": {},
   "outputs": [
    {
     "data": {
      "text/plain": [
       "0.7500000000000002"
      ]
     },
     "execution_count": 50,
     "metadata": {},
     "output_type": "execute_result"
    }
   ],
   "source": [
    "from scipy.stats import t\n",
    "\n",
    "t.cdf(1, 1) # dof 1"
   ]
  },
  {
   "cell_type": "code",
   "execution_count": 51,
   "id": "f0ea9d8a",
   "metadata": {},
   "outputs": [
    {
     "data": {
      "text/plain": [
       "0.7500000000000002"
      ]
     },
     "execution_count": 51,
     "metadata": {},
     "output_type": "execute_result"
    }
   ],
   "source": [
    "t.cdf(1, 1, loc=0, scale=1)"
   ]
  },
  {
   "cell_type": "markdown",
   "id": "0074bca8",
   "metadata": {},
   "source": [
    "## S.9 outliers 중요!!\n",
    "이상값이 있는지 판단하기\n",
    "\n",
    "3시그마를 벗어낫을때 이산값"
   ]
  },
  {
   "cell_type": "code",
   "execution_count": 52,
   "id": "1b148218",
   "metadata": {},
   "outputs": [
    {
     "name": "stdout",
     "output_type": "stream",
     "text": [
      "[2, 4, 5, 1, 6, 5]\n"
     ]
    }
   ],
   "source": [
    "import numpy as np\n",
    "\n",
    "def reject_outliers(data):\n",
    "    m = np.mean(data)\n",
    "    s = np.std(data)\n",
    "    #여기서는 outlier을 2를넘을때이다. 보통 \n",
    "    filtered = [d for d in data if (m - 2 * s < d < m + 2 * s)]\n",
    "    return filtered\n",
    "\n",
    "d = [2,4,5,1,6,5,40]\n",
    "filtered_d = reject_outliers(d)\n",
    "print (filtered_d)"
   ]
  }
 ],
 "metadata": {
  "kernelspec": {
   "display_name": "Python 3",
   "language": "python",
   "name": "python3"
  },
  "language_info": {
   "codemirror_mode": {
    "name": "ipython",
    "version": 3
   },
   "file_extension": ".py",
   "mimetype": "text/x-python",
   "name": "python",
   "nbconvert_exporter": "python",
   "pygments_lexer": "ipython3",
   "version": "3.8.8"
  }
 },
 "nbformat": 4,
 "nbformat_minor": 5
}
