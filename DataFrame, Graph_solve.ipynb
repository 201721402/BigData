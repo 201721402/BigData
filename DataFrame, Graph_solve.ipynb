{
 "cells": [
  {
   "cell_type": "markdown",
   "id": "5523c102",
   "metadata": {},
   "source": [
    "## csv를 읽어서 공공 자전거 일별 대여건수 계산 "
   ]
  },
  {
   "cell_type": "markdown",
   "id": "eb514dde",
   "metadata": {},
   "source": [
    "파일은 웹 검색을 하고 다운로드해서 사용하면 된다.\n",
    "\n",
    "데이터는 일자별로, 대여건수이이고, 몇 줄만 출력해보면 다음과 같다.\n",
    "\n",
    "| date| count|\n",
    "\n",
    "|----------|------|\n",
    "\n",
    "|2018-01-01| 4950|\n",
    "\n",
    "|2018-01-02| 7136|\n",
    "\n",
    "|2018-01-03| 7156|\n",
    "\n",
    "|2018-01-04| 7102|\n",
    "\n",
    "|2018-01-05| 7705|"
   ]
  },
  {
   "cell_type": "code",
   "execution_count": 1,
   "id": "3a2661a1",
   "metadata": {},
   "outputs": [],
   "source": [
    "import pyspark\n",
    "import sys\n",
    "import os\n",
    "\n",
    "os.environ[\"PYSPARK_PYTHON\"]=sys.executable\n",
    "os.environ[\"PYSPARK_DRIVER_PYTHON\"]=sys.executable\n",
    "\n",
    "myConf=pyspark.SparkConf()\n",
    "spark = pyspark.sql.SparkSession.builder\\\n",
    "        .master(\"local\")\\\n",
    "        .appName(\"myApp\")\\\n",
    "        .config(conf=myConf)\\\n",
    "        .getOrCreate()\n",
    "\n",
    "myDf = spark\\\n",
    "        .read.format('com.databricks.spark.csv')\\\n",
    "        .options(header='true', inferschema='true')\\\n",
    "        .load(os.path.join('data','서울특별시_공공자전거 일별 대여건수_(2018_2019.03).csv'))"
   ]
  },
  {
   "cell_type": "code",
   "execution_count": 3,
   "id": "616c342b",
   "metadata": {},
   "outputs": [
    {
     "name": "stdout",
     "output_type": "stream",
     "text": [
      "+----------+-----+----+-----+\n",
      "|      date|count|year|month|\n",
      "+----------+-----+----+-----+\n",
      "|2018-01-01| 4950|2018|    1|\n",
      "|2018-01-02| 7136|2018|    1|\n",
      "|2018-01-03| 7156|2018|    1|\n",
      "|2018-01-04| 7102|2018|    1|\n",
      "|2018-01-05| 7705|2018|    1|\n",
      "|2018-01-06| 5681|2018|    1|\n",
      "|2018-01-07| 5220|2018|    1|\n",
      "|2018-01-08| 6309|2018|    1|\n",
      "|2018-01-09| 5988|2018|    1|\n",
      "|2018-01-10| 4476|2018|    1|\n",
      "|2018-01-11| 4337|2018|    1|\n",
      "|2018-01-12| 4401|2018|    1|\n",
      "|2018-01-13| 3756|2018|    1|\n",
      "|2018-01-14| 4675|2018|    1|\n",
      "|2018-01-15| 6993|2018|    1|\n",
      "|2018-01-16| 7421|2018|    1|\n",
      "|2018-01-17| 6990|2018|    1|\n",
      "|2018-01-18| 7054|2018|    1|\n",
      "|2018-01-19| 8329|2018|    1|\n",
      "|2018-01-20| 6148|2018|    1|\n",
      "+----------+-----+----+-----+\n",
      "only showing top 20 rows\n",
      "\n"
     ]
    }
   ],
   "source": [
    "myDf.show()\n",
    "\n",
    "from pyspark.sql import functions as F\n",
    "\n",
    "\n",
    "myDf =myDf.withColumn('year',F.year('date')).withColumn('month',F.month('date'))\n"
   ]
  },
  {
   "cell_type": "markdown",
   "id": "70420c90",
   "metadata": {},
   "source": [
    "### 문제 1-1: 년도별 대여건수 합계\n",
    "\n",
    "데이터는 2018, 2019년 15개월 간의 대여건수이다. 년도별로 대여건수의 합계를 계산해서 출력하자.\n",
    "\n",
    "|year|sum(count)|\n",
    "\n",
    "|----|----------|\n",
    "\n",
    "|2018|  10124874|\n",
    "\n",
    "|2019|   1871935|"
   ]
  },
  {
   "cell_type": "code",
   "execution_count": 3,
   "id": "b5ab22fb",
   "metadata": {},
   "outputs": [
    {
     "name": "stdout",
     "output_type": "stream",
     "text": [
      "+----+----------+\n",
      "|year|sum(count)|\n",
      "+----+----------+\n",
      "|2018|  10124874|\n",
      "|2019|   1871935|\n",
      "+----+----------+\n",
      "\n"
     ]
    }
   ],
   "source": [
    "myDf.groupBy('year').agg({'count':'sum'}).show()"
   ]
  },
  {
   "cell_type": "markdown",
   "id": "8d900805",
   "metadata": {},
   "source": [
    "### 문제 1-2: 년도별, 월별 대여건수 합계\n",
    "\n",
    "년별, 월별로 대여건수를 계산하여 합계를 계산하여 출력한다.\n"
   ]
  },
  {
   "cell_type": "code",
   "execution_count": 4,
   "id": "fd0fa4d3",
   "metadata": {},
   "outputs": [
    {
     "name": "stdout",
     "output_type": "stream",
     "text": [
      "+----+------+------+------+------+------+-------+-------+-------+-------+-------+------+------+\n",
      "|year|     1|     2|     3|     4|     5|      6|      7|      8|      9|     10|    11|    12|\n",
      "+----+------+------+------+------+------+-------+-------+-------+-------+-------+------+------+\n",
      "|2018|164367|168741|462661|687885|965609|1207123|1100015|1037505|1447993|1420621|961532|500822|\n",
      "|2019|495573|471543|904819|  null|  null|   null|   null|   null|   null|   null|  null|  null|\n",
      "+----+------+------+------+------+------+-------+-------+-------+-------+-------+------+------+\n",
      "\n"
     ]
    }
   ],
   "source": [
    "myDf.groupBy('year').pivot('month').agg({'count':'sum'}).show()"
   ]
  },
  {
   "cell_type": "markdown",
   "id": "0d6ed336",
   "metadata": {},
   "source": [
    "### 문제1-3: 분기별 합계\n"
   ]
  },
  {
   "cell_type": "code",
   "execution_count": 6,
   "id": "466c76b5",
   "metadata": {},
   "outputs": [],
   "source": [
    "from pyspark.sql.functions import udf\n",
    "from pyspark.sql.types import StringType\n",
    "\n",
    "def a(s):\n",
    "    if(1<=s and s<=3):\n",
    "        s = \"Q1\"\n",
    "    elif(4<=s and s<=6):\n",
    "        s = \"Q2\"\n",
    "    elif(7<=s and s<=9):\n",
    "        s = \"Q3\"\n",
    "    elif(10<=s and s<=12):\n",
    "        s = \"Q4\"\n",
    "    else:\n",
    "        s=\"no\"\n",
    "    return s\n",
    "\n",
    "quarter_f = udf(a,StringType())\n",
    "myDf = myDf.withColumn('quarter',quarter_f(myDf.month))"
   ]
  },
  {
   "cell_type": "code",
   "execution_count": 7,
   "id": "be0e9df4",
   "metadata": {},
   "outputs": [
    {
     "name": "stdout",
     "output_type": "stream",
     "text": [
      "+-------+----------+\n",
      "|quarter|sum(count)|\n",
      "+-------+----------+\n",
      "|     Q2|   2860617|\n",
      "|     Q1|   2667704|\n",
      "|     Q3|   3585513|\n",
      "|     Q4|   2882975|\n",
      "+-------+----------+\n",
      "\n"
     ]
    }
   ],
   "source": [
    "myDf.groupBy('quarter').agg({'count':'sum'}).show()"
   ]
  },
  {
   "cell_type": "markdown",
   "id": "00bf799f",
   "metadata": {},
   "source": [
    "### 문제1-4: 분기별 평균"
   ]
  },
  {
   "cell_type": "code",
   "execution_count": 10,
   "id": "46b803e1",
   "metadata": {},
   "outputs": [
    {
     "name": "stdout",
     "output_type": "stream",
     "text": [
      "+-------+------------------+\n",
      "|quarter|        avg(count)|\n",
      "+-------+------------------+\n",
      "|     Q2|31435.351648351647|\n",
      "|     Q1|14820.577777777778|\n",
      "|     Q3|38972.967391304344|\n",
      "|     Q4|31336.684782608696|\n",
      "+-------+------------------+\n",
      "\n"
     ]
    }
   ],
   "source": [
    "myDf.groupBy('quarter').agg({'count':'avg'}).show()"
   ]
  },
  {
   "cell_type": "markdown",
   "id": "551956e1",
   "metadata": {},
   "source": [
    "# Pandas로 풀기 \n"
   ]
  },
  {
   "cell_type": "code",
   "execution_count": 11,
   "id": "db148d27",
   "metadata": {},
   "outputs": [
    {
     "data": {
      "text/html": [
       "<div>\n",
       "<style scoped>\n",
       "    .dataframe tbody tr th:only-of-type {\n",
       "        vertical-align: middle;\n",
       "    }\n",
       "\n",
       "    .dataframe tbody tr th {\n",
       "        vertical-align: top;\n",
       "    }\n",
       "\n",
       "    .dataframe thead th {\n",
       "        text-align: right;\n",
       "    }\n",
       "</style>\n",
       "<table border=\"1\" class=\"dataframe\">\n",
       "  <thead>\n",
       "    <tr style=\"text-align: right;\">\n",
       "      <th></th>\n",
       "      <th>date</th>\n",
       "      <th>count</th>\n",
       "      <th>year</th>\n",
       "      <th>month</th>\n",
       "      <th>quarter</th>\n",
       "    </tr>\n",
       "  </thead>\n",
       "  <tbody>\n",
       "    <tr>\n",
       "      <th>0</th>\n",
       "      <td>2018-01-01</td>\n",
       "      <td>4950</td>\n",
       "      <td>2018</td>\n",
       "      <td>1</td>\n",
       "      <td>Q1</td>\n",
       "    </tr>\n",
       "    <tr>\n",
       "      <th>1</th>\n",
       "      <td>2018-01-02</td>\n",
       "      <td>7136</td>\n",
       "      <td>2018</td>\n",
       "      <td>1</td>\n",
       "      <td>Q1</td>\n",
       "    </tr>\n",
       "    <tr>\n",
       "      <th>2</th>\n",
       "      <td>2018-01-03</td>\n",
       "      <td>7156</td>\n",
       "      <td>2018</td>\n",
       "      <td>1</td>\n",
       "      <td>Q1</td>\n",
       "    </tr>\n",
       "    <tr>\n",
       "      <th>3</th>\n",
       "      <td>2018-01-04</td>\n",
       "      <td>7102</td>\n",
       "      <td>2018</td>\n",
       "      <td>1</td>\n",
       "      <td>Q1</td>\n",
       "    </tr>\n",
       "    <tr>\n",
       "      <th>4</th>\n",
       "      <td>2018-01-05</td>\n",
       "      <td>7705</td>\n",
       "      <td>2018</td>\n",
       "      <td>1</td>\n",
       "      <td>Q1</td>\n",
       "    </tr>\n",
       "  </tbody>\n",
       "</table>\n",
       "</div>"
      ],
      "text/plain": [
       "         date  count  year  month quarter\n",
       "0  2018-01-01   4950  2018      1      Q1\n",
       "1  2018-01-02   7136  2018      1      Q1\n",
       "2  2018-01-03   7156  2018      1      Q1\n",
       "3  2018-01-04   7102  2018      1      Q1\n",
       "4  2018-01-05   7705  2018      1      Q1"
      ]
     },
     "execution_count": 11,
     "metadata": {},
     "output_type": "execute_result"
    }
   ],
   "source": [
    "import pandas as pd\n",
    "mypd = myDf.toPandas()\n",
    "mypd.head()"
   ]
  },
  {
   "cell_type": "markdown",
   "id": "d4079e7d",
   "metadata": {},
   "source": [
    "### 문제 pandas 1: 년도별, 월별 대여건수 합계"
   ]
  },
  {
   "cell_type": "code",
   "execution_count": 12,
   "id": "cc284edb",
   "metadata": {},
   "outputs": [
    {
     "data": {
      "text/html": [
       "<div>\n",
       "<style scoped>\n",
       "    .dataframe tbody tr th:only-of-type {\n",
       "        vertical-align: middle;\n",
       "    }\n",
       "\n",
       "    .dataframe tbody tr th {\n",
       "        vertical-align: top;\n",
       "    }\n",
       "\n",
       "    .dataframe thead th {\n",
       "        text-align: right;\n",
       "    }\n",
       "</style>\n",
       "<table border=\"1\" class=\"dataframe\">\n",
       "  <thead>\n",
       "    <tr style=\"text-align: right;\">\n",
       "      <th></th>\n",
       "      <th>count</th>\n",
       "    </tr>\n",
       "    <tr>\n",
       "      <th>year</th>\n",
       "      <th></th>\n",
       "    </tr>\n",
       "  </thead>\n",
       "  <tbody>\n",
       "    <tr>\n",
       "      <th>2018</th>\n",
       "      <td>10124874</td>\n",
       "    </tr>\n",
       "    <tr>\n",
       "      <th>2019</th>\n",
       "      <td>1871935</td>\n",
       "    </tr>\n",
       "  </tbody>\n",
       "</table>\n",
       "</div>"
      ],
      "text/plain": [
       "         count\n",
       "year          \n",
       "2018  10124874\n",
       "2019   1871935"
      ]
     },
     "execution_count": 12,
     "metadata": {},
     "output_type": "execute_result"
    }
   ],
   "source": [
    "mypd.groupby('year').aggregate({'count':'sum'})"
   ]
  },
  {
   "cell_type": "markdown",
   "id": "808cf753",
   "metadata": {},
   "source": [
    "### 문제 pandas 2:  년도별 x 월별 대여건수 그래프"
   ]
  },
  {
   "cell_type": "code",
   "execution_count": 13,
   "id": "75880e39",
   "metadata": {},
   "outputs": [
    {
     "data": {
      "text/html": [
       "<div>\n",
       "<style scoped>\n",
       "    .dataframe tbody tr th:only-of-type {\n",
       "        vertical-align: middle;\n",
       "    }\n",
       "\n",
       "    .dataframe tbody tr th {\n",
       "        vertical-align: top;\n",
       "    }\n",
       "\n",
       "    .dataframe thead th {\n",
       "        text-align: right;\n",
       "    }\n",
       "</style>\n",
       "<table border=\"1\" class=\"dataframe\">\n",
       "  <thead>\n",
       "    <tr style=\"text-align: right;\">\n",
       "      <th>month</th>\n",
       "      <th>1</th>\n",
       "      <th>2</th>\n",
       "      <th>3</th>\n",
       "      <th>4</th>\n",
       "      <th>5</th>\n",
       "      <th>6</th>\n",
       "      <th>7</th>\n",
       "      <th>8</th>\n",
       "      <th>9</th>\n",
       "      <th>10</th>\n",
       "      <th>11</th>\n",
       "      <th>12</th>\n",
       "    </tr>\n",
       "    <tr>\n",
       "      <th>year</th>\n",
       "      <th></th>\n",
       "      <th></th>\n",
       "      <th></th>\n",
       "      <th></th>\n",
       "      <th></th>\n",
       "      <th></th>\n",
       "      <th></th>\n",
       "      <th></th>\n",
       "      <th></th>\n",
       "      <th></th>\n",
       "      <th></th>\n",
       "      <th></th>\n",
       "    </tr>\n",
       "  </thead>\n",
       "  <tbody>\n",
       "    <tr>\n",
       "      <th>2018</th>\n",
       "      <td>164367.0</td>\n",
       "      <td>168741.0</td>\n",
       "      <td>462661.0</td>\n",
       "      <td>687885.0</td>\n",
       "      <td>965609.0</td>\n",
       "      <td>1207123.0</td>\n",
       "      <td>1100015.0</td>\n",
       "      <td>1037505.0</td>\n",
       "      <td>1447993.0</td>\n",
       "      <td>1420621.0</td>\n",
       "      <td>961532.0</td>\n",
       "      <td>500822.0</td>\n",
       "    </tr>\n",
       "    <tr>\n",
       "      <th>2019</th>\n",
       "      <td>495573.0</td>\n",
       "      <td>471543.0</td>\n",
       "      <td>904819.0</td>\n",
       "      <td>NaN</td>\n",
       "      <td>NaN</td>\n",
       "      <td>NaN</td>\n",
       "      <td>NaN</td>\n",
       "      <td>NaN</td>\n",
       "      <td>NaN</td>\n",
       "      <td>NaN</td>\n",
       "      <td>NaN</td>\n",
       "      <td>NaN</td>\n",
       "    </tr>\n",
       "  </tbody>\n",
       "</table>\n",
       "</div>"
      ],
      "text/plain": [
       "month        1         2         3         4         5          6          7   \\\n",
       "year                                                                            \n",
       "2018   164367.0  168741.0  462661.0  687885.0  965609.0  1207123.0  1100015.0   \n",
       "2019   495573.0  471543.0  904819.0       NaN       NaN        NaN        NaN   \n",
       "\n",
       "month         8          9          10        11        12  \n",
       "year                                                        \n",
       "2018   1037505.0  1447993.0  1420621.0  961532.0  500822.0  \n",
       "2019         NaN        NaN        NaN       NaN       NaN  "
      ]
     },
     "execution_count": 13,
     "metadata": {},
     "output_type": "execute_result"
    }
   ],
   "source": [
    "pd.pivot_table(mypd, values = 'count', index = ['year'], columns= ['month'], aggfunc = 'sum')"
   ]
  },
  {
   "cell_type": "markdown",
   "id": "8ed70d2b",
   "metadata": {},
   "source": [
    "### 문제 pandas 3:  2018년만 선택해서 년도별 x 분기별 대여건수를 출력해보자."
   ]
  },
  {
   "cell_type": "code",
   "execution_count": 15,
   "id": "26152c2c",
   "metadata": {},
   "outputs": [
    {
     "data": {
      "text/html": [
       "<div>\n",
       "<style scoped>\n",
       "    .dataframe tbody tr th:only-of-type {\n",
       "        vertical-align: middle;\n",
       "    }\n",
       "\n",
       "    .dataframe tbody tr th {\n",
       "        vertical-align: top;\n",
       "    }\n",
       "\n",
       "    .dataframe thead th {\n",
       "        text-align: right;\n",
       "    }\n",
       "</style>\n",
       "<table border=\"1\" class=\"dataframe\">\n",
       "  <thead>\n",
       "    <tr style=\"text-align: right;\">\n",
       "      <th>quarter</th>\n",
       "      <th>Q1</th>\n",
       "      <th>Q2</th>\n",
       "      <th>Q3</th>\n",
       "      <th>Q4</th>\n",
       "    </tr>\n",
       "    <tr>\n",
       "      <th>year</th>\n",
       "      <th></th>\n",
       "      <th></th>\n",
       "      <th></th>\n",
       "      <th></th>\n",
       "    </tr>\n",
       "  </thead>\n",
       "  <tbody>\n",
       "    <tr>\n",
       "      <th>2018</th>\n",
       "      <td>795769</td>\n",
       "      <td>2860617</td>\n",
       "      <td>3585513</td>\n",
       "      <td>2882975</td>\n",
       "    </tr>\n",
       "  </tbody>\n",
       "</table>\n",
       "</div>"
      ],
      "text/plain": [
       "quarter      Q1       Q2       Q3       Q4\n",
       "year                                      \n",
       "2018     795769  2860617  3585513  2882975"
      ]
     },
     "execution_count": 15,
     "metadata": {},
     "output_type": "execute_result"
    }
   ],
   "source": [
    "mypd20 = mypd[mypd['year']==2018]\n",
    "pd.pivot_table(mypd20, values = 'count', index = ['year'], columns = ['quarter'], aggfunc = 'sum')"
   ]
  },
  {
   "cell_type": "markdown",
   "id": "d0fb3dca",
   "metadata": {},
   "source": [
    "### 문제 1-5: 년도별, 월별 대여건수 그래프\n",
    "\n",
    "문제 1-2의 출력을 선 그래프로 그려보자.\n"
   ]
  },
  {
   "cell_type": "code",
   "execution_count": 25,
   "id": "60aca861",
   "metadata": {},
   "outputs": [
    {
     "data": {
      "text/plain": [
       "<AxesSubplot:>"
      ]
     },
     "execution_count": 25,
     "metadata": {},
     "output_type": "execute_result"
    },
    {
     "data": {
      "image/png": "[encoded data removed]",
      "text/plain": [
       "<Figure size 432x288 with 1 Axes>"
      ]
     },
     "metadata": {
      "needs_background": "light"
     },
     "output_type": "display_data"
    }
   ],
   "source": [
    "import matplotlib.pyplot as plt\n",
    "import pandas as pd\n",
    "\n",
    "ndf = myDf.groupBy('year').pivot('month').agg({'count':'sum'})\n",
    "pdf = ndf.toPandas()\n",
    "pdf = pdf.drop('year',1).transpose()\n",
    "\n",
    "pdf.plot(kind='line')"
   ]
  },
  {
   "cell_type": "markdown",
   "id": "4b2cb053",
   "metadata": {},
   "source": [
    "# graph"
   ]
  },
  {
   "cell_type": "code",
   "execution_count": 26,
   "id": "440043e1",
   "metadata": {},
   "outputs": [],
   "source": [
    "marks=[\n",
    "\n",
    "    \"김하나, English, 100\",\n",
    "\n",
    "    \"김하나, Math, 80\",\n",
    "\n",
    "    \"임하나, English, 70\",\n",
    "\n",
    "    \"임하나, Math, 100\",\n",
    "\n",
    "    \"김갑돌, English, 82.3\",\n",
    "\n",
    "    \"김갑돌, Math, 98.5\"\n",
    "\n",
    "]"
   ]
  },
  {
   "cell_type": "code",
   "execution_count": 27,
   "id": "467e6a3e",
   "metadata": {},
   "outputs": [],
   "source": [
    "import pyspark\n",
    "import sys\n",
    "import os\n",
    "\n",
    "os.environ[\"PYSPARK_PYTHON\"]=sys.executable\n",
    "os.environ[\"PYSPARK_DRIVER_PYTHON\"]=sys.executable\n",
    "\n",
    "myConf=pyspark.SparkConf()\n",
    "spark = pyspark.sql.SparkSession.builder\\\n",
    "        .master(\"local\")\\\n",
    "        .appName(\"myApp\")\\\n",
    "        .config(conf=myConf)\\\n",
    "        .getOrCreate()"
   ]
  },
  {
   "cell_type": "markdown",
   "id": "d0003458",
   "metadata": {},
   "source": [
    "### 1-1 성적데이터로 DataFrame을 생성.\n",
    "\n"
   ]
  },
  {
   "cell_type": "code",
   "execution_count": 29,
   "id": "4d8ebcbc",
   "metadata": {},
   "outputs": [
    {
     "name": "stdout",
     "output_type": "stream",
     "text": [
      "+------+--------+-----+\n",
      "|  name| subject|score|\n",
      "+------+--------+-----+\n",
      "|김하나| English|  100|\n",
      "|김하나|    Math|   80|\n",
      "|임하나| English|   70|\n",
      "|임하나|    Math|  100|\n",
      "|김갑돌| English| 82.3|\n",
      "|김갑돌|    Math| 98.5|\n",
      "+------+--------+-----+\n",
      "\n"
     ]
    }
   ],
   "source": [
    "rdd = spark.sparkContext.parallelize(marks)\n",
    "rdd  = rdd.map(lambda x : x.split(','))\n",
    "df = spark.createDataFrame(rdd, ['name','subject','score'])\n",
    "df.show()\n"
   ]
  },
  {
   "cell_type": "markdown",
   "id": "452e4999",
   "metadata": {},
   "source": [
    "### 1-2 zscore 컬럼을 생성."
   ]
  },
  {
   "cell_type": "code",
   "execution_count": 30,
   "id": "007fbe29",
   "metadata": {},
   "outputs": [
    {
     "name": "stdout",
     "output_type": "stream",
     "text": [
      "+------+--------+-----+-----------+\n",
      "|  name| subject|score|     zscore|\n",
      "+------+--------+-----+-----------+\n",
      "|김하나| English|100.0| 0.90201485|\n",
      "|김하나|    Math| 80.0|-0.66217273|\n",
      "|임하나| English| 70.0| -1.4442666|\n",
      "|임하나|    Math|100.0| 0.90201485|\n",
      "|김갑돌| English| 82.3|-0.48229116|\n",
      "|김갑돌|    Math| 98.5| 0.78470075|\n",
      "+------+--------+-----+-----------+\n",
      "\n"
     ]
    }
   ],
   "source": [
    "from pyspark.sql.functions import udf\n",
    "from pyspark.sql import functions as F\n",
    "from pyspark.sql.types import FloatType\n",
    "\n",
    "changetoFloat = udf(lambda x : float(x))\n",
    "df = df.withColumn('score',changetoFloat(df.score))\n",
    "\n",
    "calc = df.select(F.mean('score').alias('min'), F.stddev('score').alias('dev')).collect()\n",
    "mn = calc[0]['min']\n",
    "dev = calc[0]['dev']\n",
    "\n",
    "createzscore = udf(lambda x : (x - mn) / dev, FloatType())\n",
    "df = df.withColumn('zscore', createzscore(df.score))\n",
    "df.show()"
   ]
  },
  {
   "cell_type": "markdown",
   "id": "389f5fb4",
   "metadata": {},
   "source": [
    "### 1-3 cdf 컬럼을 생성."
   ]
  },
  {
   "cell_type": "code",
   "execution_count": 31,
   "id": "eb3e04a2",
   "metadata": {},
   "outputs": [
    {
     "name": "stdout",
     "output_type": "stream",
     "text": [
      "+------+--------+-----+-----------+---+\n",
      "|  name| subject|score|     zscore|udf|\n",
      "+------+--------+-----+-----------+---+\n",
      "|김하나| English|100.0| 0.90201485|1.0|\n",
      "|김하나|    Math| 80.0|-0.66217273|1.0|\n",
      "|임하나| English| 70.0| -1.4442666|1.0|\n",
      "|임하나|    Math|100.0| 0.90201485|1.0|\n",
      "|김갑돌| English| 82.3|-0.48229116|1.0|\n",
      "|김갑돌|    Math| 98.5| 0.78470075|1.0|\n",
      "+------+--------+-----+-----------+---+\n",
      "\n"
     ]
    }
   ],
   "source": [
    "from scipy.stats import norm\n",
    "\n",
    "createcdf = udf(lambda x : float(norm.cdf(x)), FloatType())\n",
    "df = df.withColumn('udf',createcdf(df['score']))\n",
    "df.show()"
   ]
  },
  {
   "cell_type": "code",
   "execution_count": null,
   "id": "194a1231",
   "metadata": {},
   "outputs": [],
   "source": []
  }
 ],
 "metadata": {
  "kernelspec": {
   "display_name": "Python 3",
   "language": "python",
   "name": "python3"
  },
  "language_info": {
   "codemirror_mode": {
    "name": "ipython",
    "version": 3
   },
   "file_extension": ".py",
   "mimetype": "text/x-python",
   "name": "python",
   "nbconvert_exporter": "python",
   "pygments_lexer": "ipython3",
   "version": "3.8.8"
  }
 },
 "nbformat": 4,
 "nbformat_minor": 5
}
