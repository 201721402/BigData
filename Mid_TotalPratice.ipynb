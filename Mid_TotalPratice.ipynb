{
 "cells": [
  {
   "cell_type": "markdown",
   "id": "9f33f250",
   "metadata": {},
   "source": [
    "# 201721402 나동현"
   ]
  },
  {
   "cell_type": "markdown",
   "id": "61d6807b",
   "metadata": {},
   "source": [
    "## 문제 1: 열린데이터 수집"
   ]
  },
  {
   "cell_type": "markdown",
   "id": "280d912c",
   "metadata": {},
   "source": [
    "1) 프로그램으로 url을 만들어 출력. 그 url을 클릭하면 데이터가 출력 되어야 한다."
   ]
  },
  {
   "cell_type": "code",
   "execution_count": 227,
   "id": "d8a3f1c5",
   "metadata": {},
   "outputs": [
    {
     "name": "stdout",
     "output_type": "stream",
     "text": [
      "http://openapi.seoul.go.kr:8088/634b534863736b653633756f5a6650/json/InfoTrdarAptQq/1/100\n"
     ]
    }
   ],
   "source": [
    "#문제1-1의 답\n",
    "import os\n",
    "import urllib\n",
    "import requests\n",
    "import src.mylib\n",
    "import json\n",
    "\n",
    "KEY = \"634b534863736b653633756f5a6650\"\n",
    "TYPE = 'json'\n",
    "SERVICE = \"InfoTrdarAptQq\"\n",
    "START_INDEX = str(1)\n",
    "END_INDEX = str(100)\n",
    "\n",
    "_url = \"http://openapi.seoul.go.kr:8088\" \n",
    "params = \"/\".join([KEY, TYPE, SERVICE, START_INDEX, END_INDEX])\n",
    "url = \"/\".join([_url,params])\n",
    "print(url)"
   ]
  },
  {
   "cell_type": "markdown",
   "id": "caa62f0c",
   "metadata": {},
   "source": [
    "2) 전체 데이터 중 1건만 출력."
   ]
  },
  {
   "cell_type": "code",
   "execution_count": 215,
   "id": "308a212d",
   "metadata": {},
   "outputs": [
    {
     "name": "stdout",
     "output_type": "stream",
     "text": [
      "{'STDR_YY_CD': '2021', 'TRDAR_SE_CD': 'D', 'TRDAR_SE_CD_NM': '발달상권', 'APT_HSMP_CO': 3.0, 'AE_66_SQMT_BELO_HSHLD_CO': 157.0, 'AE_66_SQMT_HSHLD_CO': 0.0, 'AE_99_SQMT_HSHLD_CO': 0.0, 'AE_132_SQMT_HSHLD_CO': 0.0, 'AE_165_SQMT_HSHLD_CO': 0.0, 'PC_1_HDMIL_BELO_HSHLD_CO': 0.0, 'PC_1_HDMIL_HSHLD_CO': 157.0, 'PC_2_HDMIL_HSHLD_CO': 0.0, 'PC_3_HDMIL_HSHLD_CO': 0.0, 'PC_4_HDMIL_HSHLD_CO': 0.0, 'PC_5_HDMIL_HSHLD_CO': 0.0, 'PC_6_HDMIL_ABOVE_HSHLD_CO': 0.0, 'AVRG_AE': 31.0, 'AVRG_MKTC': 161157476.0, 'STDR_QU_CD': '1', 'TRDAR_CD': '1001158', 'TRDAR_CD_NM': '당산역_2'}\n"
     ]
    }
   ],
   "source": [
    "#문제1-2의 답\n",
    "import os\n",
    "import urllib\n",
    "import requests\n",
    "import src.mylib\n",
    "import json\n",
    "\n",
    "KEY = \"634b534863736b653633756f5a6650\"\n",
    "TYPE = 'json'\n",
    "SERVICE = \"InfoTrdarAptQq\"\n",
    "START_INDEX = str(1)\n",
    "END_INDEX = str(1)\n",
    "\n",
    "_url = \"http://openapi.seoul.go.kr:8088\" \n",
    "params = \"/\".join([KEY, TYPE, SERVICE, START_INDEX, END_INDEX])\n",
    "url = \"/\".join([_url,params])\n",
    "\n",
    "r = requests.get(url)\n",
    "data = r.json()\n",
    "for i in data[\"InfoTrdarAptQq\"][\"row\"]:\n",
    "    print(i)\n",
    "\n",
    "\n",
    "#print(i['STDR_YY_CD'],i['TRDAR_SE_CD'],i['TRDAR_SE_CD_NM'],i['APT_HSMP_CO'],i['AE_66_SQMT_BELO_HSHLD_CO'],i['AE_66_SQMT_HSHLD_CO'],i['AE_99_SQMT_HSHLD_CO'],i['AE_132_SQMT_HSHLD_CO'],i['AE_165_SQMT_HSHLD_CO'],i['PC_1_HDMIL_BELO_HSHLD_CO'],i['PC_1_HDMIL_HSHLD_CO'],i[''],i[''],i[''])\n",
    "        "
   ]
  },
  {
   "cell_type": "markdown",
   "id": "ff96e7f0",
   "metadata": {},
   "source": [
    "3) 다음 항목을 100개 정렬해서 출력."
   ]
  },
  {
   "cell_type": "code",
   "execution_count": 246,
   "id": "171131e1",
   "metadata": {},
   "outputs": [
    {
     "name": "stdout",
     "output_type": "stream",
     "text": [
      "발달상권\t3.0\t0.0\t161157476.0\t당산역_2\n",
      "골목상권\t5.0\t0.0\t150247619.0\t동남로82길\n",
      "관광특구\t8.0\t0.0\t114850602.0\t종로·청계 관광특구\n",
      "관광특구\t11.0\t291.0\t245511812.0\t동대문패션타운 관광특구\n",
      "관광특구\t70.0\t105.0\t428764829.0\t이태원 관광특구\n",
      "전통시장\t39.0\t1.0\t191078841.0\t길동복조리시장\n",
      "전통시장\t8.0\t0.0\t197751693.0\t둔촌역전통시장\n",
      "전통시장\t11.0\t0.0\t152871984.0\t성내골목시장\n",
      "전통시장\t1.0\t0.0\t176000000.0\t동서울시장\n",
      "전통시장\t2.0\t0.0\t156144643.0\t고분다리골목시장\n",
      "전통시장\t17.0\t0.0\t187541526.0\t양지골목시장\n",
      "전통시장\t15.0\t0.0\t130506269.0\t암사종합시장\n",
      "전통시장\t1.0\t0.0\t177666667.0\t고덕전통시장\n",
      "전통시장\t5.0\t0.0\t238201494.0\t명일골목시장\n",
      "전통시장\t47.0\t0.0\t215808647.0\t새마을시장\n",
      "전통시장\t14.0\t60.0\t242990364.0\t석촌시장\n",
      "전통시장\t178.0\t19.0\t214028232.0\t방이시장\n",
      "전통시장\t6.0\t0.0\t204376515.0\t마천시장\n",
      "전통시장\t19.0\t0.0\t160941704.0\t풍납시장\n",
      "전통시장\t2.0\t76.0\t759927632.0\t도곡시장\n",
      "전통시장\t1.0\t48.0\t2708416667.0\t청담삼익시장\n",
      "전통시장\t3.0\t9.0\t537022727.0\t논현종합시장\n",
      "전통시장\t19.0\t2.0\t234485808.0\t영동전통시장\n",
      "전통시장\t1.0\t7.0\t400638298.0\t강남시장_강남\n",
      "전통시장\t2.0\t0.0\t193867857.0\t양재시장\n",
      "전통시장\t4.0\t0.0\t313638333.0\t남부종합시장\n",
      "전통시장\t1.0\t0.0\t195500000.0\t우림시장\n",
      "전통시장\t3.0\t0.0\t179474603.0\t미성동도깨비시장\n",
      "전통시장\t2.0\t0.0\t87266538.0\t신림중앙시장\n",
      "전통시장\t5.0\t0.0\t145358889.0\t강남골목시장\n",
      "전통시장\t25.0\t0.0\t174434431.0\t관악신사시장\n",
      "전통시장\t5.0\t0.0\t161796254.0\t신원시장\n",
      "전통시장\t10.0\t0.0\t158411721.0\t인헌시장\n",
      "전통시장\t4.0\t0.0\t185202778.0\t봉천중앙시장\n",
      "전통시장\t2.0\t0.0\t172714286.0\t봉천제일종합시장\n",
      "전통시장\t7.0\t0.0\t129756456.0\t낙성대시장\n",
      "전통시장\t4.0\t0.0\t194378968.0\t중부시장\n",
      "전통시장\t4.0\t0.0\t182971131.0\t남성역골목시장\n",
      "전통시장\t1.0\t0.0\t154500000.0\t남성사계시장\n",
      "전통시장\t2.0\t129.0\t508793608.0\t흑석시장\n",
      "전통시장\t17.0\t0.0\t157191293.0\t상도4동도깨비골목시장\n",
      "전통시장\t2.0\t0.0\t160357143.0\t성대시장\n",
      "전통시장\t18.0\t0.0\t181923742.0\t상도전통시장\n",
      "전통시장\t1.0\t0.0\t71665714.0\t강남시장_동작\n",
      "전통시장\t1.0\t1.0\t525000000.0\t본동인정시장\n",
      "전통시장\t1.0\t1.0\t304714286.0\t노량진중앙시장\n",
      "전통시장\t3.0\t0.0\t125633333.0\t대림중앙시장\n",
      "전통시장\t1.0\t0.0\t120435185.0\t영진시장A동\n",
      "전통시장\t1.0\t0.0\t183821256.0\t대신시장\n",
      "전통시장\t4.0\t0.0\t304715439.0\t영일시장\n",
      "전통시장\t3.0\t0.0\t188222222.0\t영등포청과시장\n",
      "전통시장\t4.0\t0.0\t172724762.0\t영등포전통시장\n",
      "전통시장\t9.0\t0.0\t149697619.0\t은행나무시장\n",
      "전통시장\t3.0\t0.0\t151285331.0\t박미시장\n",
      "전통시장\t18.0\t0.0\t134629828.0\t현대시장\n",
      "전통시장\t1.0\t0.0\t181631579.0\t푸른터시장\n",
      "전통시장\t24.0\t0.0\t140803141.0\t남문시장\n",
      "전통시장\t1.0\t0.0\t193000000.0\t오류시장\n",
      "전통시장\t14.0\t0.0\t134009446.0\t개봉중앙시장\n",
      "전통시장\t3.0\t0.0\t148611215.0\t고척근린시장\n",
      "전통시장\t2.0\t3.0\t822500000.0\t가리봉시장\n",
      "전통시장\t11.0\t0.0\t95136364.0\t남구로시장\n",
      "전통시장\t1.0\t0.0\t113555556.0\t구로시장\n",
      "전통시장\t3.0\t0.0\t248855933.0\t방신전통시장\n",
      "전통시장\t12.0\t0.0\t164668133.0\t송화골목시장\n",
      "전통시장\t29.0\t0.0\t134684112.0\t까치산시장\n",
      "전통시장\t12.0\t0.0\t127827730.0\t화곡본동시장\n",
      "전통시장\t28.0\t0.0\t145030335.0\t남부골목시장\n",
      "전통시장\t28.0\t0.0\t117968645.0\t화곡중앙골목시장\n",
      "전통시장\t4.0\t0.0\t215829182.0\t신정2동골목시장\n",
      "전통시장\t2.0\t0.0\t182482143.0\t신정제일시장\n",
      "전통시장\t3.0\t0.0\t132812000.0\t신월7동골목시장\n",
      "전통시장\t1.0\t0.0\t404363636.0\t신곡종합시장\n",
      "전통시장\t1.0\t0.0\t62400000.0\t신월3동골목시장\n",
      "전통시장\t5.0\t0.0\t156241638.0\t경창시장\n",
      "전통시장\t25.0\t0.0\t111544970.0\t월정로시장\n",
      "전통시장\t13.0\t0.0\t117170795.0\t신영시장\n",
      "전통시장\t24.0\t0.0\t173909785.0\t목4동시장\n",
      "전통시장\t14.0\t0.0\t202606189.0\t목3동시장\n",
      "전통시장\t22.0\t0.0\t172296533.0\t목2동시장\n",
      "전통시장\t25.0\t18.0\t209884598.0\t망원월드컵시장\n",
      "전통시장\t50.0\t0.0\t201968607.0\t망원시장\n",
      "전통시장\t1.0\t0.0\t312025000.0\t합정시장\n",
      "전통시장\t3.0\t0.0\t232835417.0\t영진시장\n",
      "전통시장\t2.0\t0.0\t200464286.0\t신수시장\n",
      "전통시장\t5.0\t0.0\t232211111.0\t아현시장\n",
      "전통시장\t1.0\t0.0\t172468750.0\t백련시장\n",
      "전통시장\t10.0\t0.0\t285003175.0\t모래내시장\n",
      "전통시장\t7.0\t0.0\t115738435.0\t포방터시장\n",
      "전통시장\t1.0\t0.0\t183325000.0\t인왕시장\n",
      "전통시장\t3.0\t0.0\t114302698.0\t영천시장\n",
      "전통시장\t3.0\t0.0\t152254444.0\t증산종합시장\n",
      "전통시장\t8.0\t0.0\t125365625.0\t대림골목시장\n",
      "전통시장\t2.0\t0.0\t205500000.0\t신응암시장\n",
      "전통시장\t15.0\t0.0\t139965870.0\t대조시장\n",
      "전통시장\t1.0\t0.0\t93568992.0\t갈현시장\n",
      "전통시장\t1.0\t0.0\t359086957.0\t연서시장\n",
      "전통시장\t22.0\t0.0\t149590589.0\t상계중앙시장\n",
      "전통시장\t27.0\t0.0\t153652075.0\t공릉동도깨비시장\n",
      "전통시장\t12.0\t0.0\t100400495.0\t방학동도깨비시장\n"
     ]
    }
   ],
   "source": [
    "#문제1-3의 답\n",
    "import os\n",
    "import urllib\n",
    "import requests\n",
    "import src.mylib\n",
    "import json\n",
    "\n",
    "KEY = \"634b534863736b653633756f5a6650\"\n",
    "TYPE = 'json'\n",
    "SERVICE = \"InfoTrdarAptQq\"\n",
    "START_INDEX = str(1)\n",
    "END_INDEX = str(100)\n",
    "\n",
    "_url = \"http://openapi.seoul.go.kr:8088\" \n",
    "params = \"/\".join([KEY, TYPE, SERVICE, START_INDEX, END_INDEX])\n",
    "url = \"/\".join([_url,params])\n",
    "\n",
    "r = requests.get(url)\n",
    "newdata = r.json()\n",
    "\n",
    "for i in newdata[\"InfoTrdarAptQq\"][\"row\"]:\n",
    "    print(u\"{}\\t{}\\t{}\\t{}\\t{}\".format(i['TRDAR_SE_CD_NM'],i['APT_HSMP_CO'],i['PC_6_HDMIL_ABOVE_HSHLD_CO'],i['AVRG_MKTC'],i['TRDAR_CD_NM']))"
   ]
  },
  {
   "cell_type": "markdown",
   "id": "3de013ba",
   "metadata": {},
   "source": [
    "## 문제 2: RDD를 사용해서 단어빈도 계산"
   ]
  },
  {
   "cell_type": "code",
   "execution_count": 228,
   "id": "6126bced",
   "metadata": {},
   "outputs": [],
   "source": [
    "yesterday=[[\"Yesterday 어제는\"],\n",
    "           [\"All my troubles seemed to far away 내 모든 문제들이 참 멀리 있는 것 같았는데\"],\n",
    "           [\"Now it looks as though they're here to stay 이제는 그 모든 문제들이 여기에 있는 것처럼 보여\"],\n",
    "           [\"Oh, I believe in yesterday 오, 어제가 좋았는데\"],\n",
    "           [\"Suddenly 갑자기 그-림-자-가 2021 그-림-자-가 2021\"],\n",
    "           [\"I'm not half the man I used to be 난 예전 내 모습의 반도 못한 사람이 되어버렸어\"],\n",
    "           [\"There's a shadow hanging over me 내 위에 그림자가 드리워져 있네\"],\n",
    "           [\"Oh!, yesterday came suddenly 오!, 이제는 너무 갑자기 와버렸어..\"]]\n",
    "\n"
   ]
  },
  {
   "cell_type": "code",
   "execution_count": 229,
   "id": "afd3adfa",
   "metadata": {},
   "outputs": [],
   "source": [
    "import pyspark\n",
    "import sys\n",
    "import os\n",
    "\n",
    "os.environ[\"PYSPARK_PYTHON\"]=sys.executable\n",
    "os.environ[\"PYSPARK_DRIVER_PYTHON\"]=sys.executable\n",
    "\n",
    "myConf=pyspark.SparkConf()\n",
    "spark = pyspark.sql.SparkSession.builder\\\n",
    "        .master(\"local\")\\\n",
    "        .appName(\"myApp\")\\\n",
    "        .config(conf=myConf)\\\n",
    "        .getOrCreate()"
   ]
  },
  {
   "cell_type": "markdown",
   "id": "7ffc32ed",
   "metadata": {},
   "source": [
    "1) 단어빈도를 계산해서 출력"
   ]
  },
  {
   "cell_type": "code",
   "execution_count": 230,
   "id": "aa8e2156",
   "metadata": {},
   "outputs": [
    {
     "data": {
      "text/plain": [
       "[('Yesterday', 1),\n",
       " ('어제는', 1),\n",
       " ('All', 1),\n",
       " ('my', 1),\n",
       " ('troubles', 1),\n",
       " ('seemed', 1),\n",
       " ('to', 1),\n",
       " ('far', 1),\n",
       " ('away', 1),\n",
       " ('내', 1),\n",
       " ('모든', 1),\n",
       " ('문제들이', 1),\n",
       " ('참', 1),\n",
       " ('멀리', 1),\n",
       " ('있는', 1),\n",
       " ('것', 1),\n",
       " ('같았는데', 1),\n",
       " ('Now', 1),\n",
       " ('it', 1),\n",
       " ('looks', 1),\n",
       " ('as', 1),\n",
       " ('though', 1),\n",
       " (\"they're\", 1),\n",
       " ('here', 1),\n",
       " ('to', 1),\n",
       " ('stay', 1),\n",
       " ('이제는', 1),\n",
       " ('그', 1),\n",
       " ('모든', 1),\n",
       " ('문제들이', 1),\n",
       " ('여기에', 1),\n",
       " ('있는', 1),\n",
       " ('것처럼', 1),\n",
       " ('보여', 1),\n",
       " ('Oh,', 1),\n",
       " ('I', 1),\n",
       " ('believe', 1),\n",
       " ('in', 1),\n",
       " ('yesterday', 1),\n",
       " ('오,', 1),\n",
       " ('어제가', 1),\n",
       " ('좋았는데', 1),\n",
       " ('Suddenly', 1),\n",
       " ('갑자기', 1),\n",
       " ('그-림-자-가', 1),\n",
       " ('2021', 1),\n",
       " ('그-림-자-가', 1),\n",
       " ('2021', 1),\n",
       " (\"I'm\", 1),\n",
       " ('not', 1),\n",
       " ('half', 1),\n",
       " ('the', 1),\n",
       " ('man', 1),\n",
       " ('I', 1),\n",
       " ('used', 1),\n",
       " ('to', 1),\n",
       " ('be', 1),\n",
       " ('난', 1),\n",
       " ('예전', 1),\n",
       " ('내', 1),\n",
       " ('모습의', 1),\n",
       " ('반도', 1),\n",
       " ('못한', 1),\n",
       " ('사람이', 1),\n",
       " ('되어버렸어', 1),\n",
       " (\"There's\", 1),\n",
       " ('a', 1),\n",
       " ('shadow', 1),\n",
       " ('hanging', 1),\n",
       " ('over', 1),\n",
       " ('me', 1),\n",
       " ('내', 1),\n",
       " ('위에', 1),\n",
       " ('그림자가', 1),\n",
       " ('드리워져', 1),\n",
       " ('있네', 1),\n",
       " ('Oh!,', 1),\n",
       " ('yesterday', 1),\n",
       " ('came', 1),\n",
       " ('suddenly', 1),\n",
       " ('오!,', 1),\n",
       " ('이제는', 1),\n",
       " ('너무', 1),\n",
       " ('갑자기', 1),\n",
       " ('와버렸어..', 1)]"
      ]
     },
     "execution_count": 230,
     "metadata": {},
     "output_type": "execute_result"
    }
   ],
   "source": [
    "#문제2-1의답\n",
    "rdd = spark.sparkContext.parallelize(yesterday)\n",
    "rdd.flatMap(lambda x : x)\\\n",
    "    .map(lambda x : x.split())\\\n",
    "    .flatMap(lambda x : x)\\\n",
    "    .map(lambda x : (x,1))\\\n",
    "    .collect()"
   ]
  },
  {
   "cell_type": "markdown",
   "id": "847e02b1",
   "metadata": {},
   "source": [
    "2) 빈도순으로 출력, 빈도 1이하는 제외."
   ]
  },
  {
   "cell_type": "code",
   "execution_count": 231,
   "id": "4fc566e0",
   "metadata": {},
   "outputs": [
    {
     "name": "stdout",
     "output_type": "stream",
     "text": [
      "to 3\n",
      "내 3\n",
      "모든 2\n",
      "문제들이 2\n",
      "있는 2\n",
      "이제는 2\n",
      "I 2\n",
      "yesterday 2\n",
      "갑자기 2\n",
      "그-림-자-가 2\n",
      "2021 2\n"
     ]
    }
   ],
   "source": [
    "#문제2-2의답\n",
    "newlist = rdd.flatMap(lambda x : x)\\\n",
    "    .map(lambda x : x.split())\\\n",
    "    .flatMap(lambda x : x)\\\n",
    "    .map(lambda x : (x,1))\\\n",
    "    .reduceByKey(lambda x,y: x+y)\\\n",
    "    .collect()\n",
    "for k,v in newlist:\n",
    "    if(v <= 1):\n",
    "        continue\n",
    "    print(k, v)"
   ]
  },
  {
   "cell_type": "markdown",
   "id": "1ecd7a41",
   "metadata": {},
   "source": [
    "3) 소문자, 하이픈, 느낌표, 숫자를 제외하고 단어빈도 계산해서 출력 (빈도 1이하는 제외)"
   ]
  },
  {
   "cell_type": "code",
   "execution_count": 232,
   "id": "47d2850b",
   "metadata": {},
   "outputs": [
    {
     "name": "stdout",
     "output_type": "stream",
     "text": [
      "내 3\n",
      "모든 2\n",
      "문제들이 2\n",
      "있는 2\n",
      "이제는 2\n",
      "I 2\n",
      "갑자기 2\n"
     ]
    }
   ],
   "source": [
    "#문제2-3의답\n",
    "newlist = rdd.flatMap(lambda x : x)\\\n",
    "    .map(lambda x : x.split())\\\n",
    "    .flatMap(lambda x : x)\\\n",
    "    .map(lambda x : (x,1))\\\n",
    "    .reduceByKey(lambda x,y: x+y)\\\n",
    "    .collect()\n",
    "for k,v in newlist:\n",
    "    if(v <= 1):\n",
    "        continue\n",
    "    if(k.islower()):\n",
    "        continue\n",
    "    if(k.isalpha() == False):\n",
    "        continue\n",
    "    if(k.isdecimal()):\n",
    "        continue\n",
    "    print(k, v)"
   ]
  },
  {
   "cell_type": "markdown",
   "id": "16b80d8d",
   "metadata": {},
   "source": [
    "4) 1글자 단어 (예를 들어 'i', '내') 제외하고 단어빈도 계산 (빈도 1이하는 제외)"
   ]
  },
  {
   "cell_type": "code",
   "execution_count": 233,
   "id": "55270bf2",
   "metadata": {},
   "outputs": [
    {
     "name": "stdout",
     "output_type": "stream",
     "text": [
      "to 3\n",
      "모든 2\n",
      "문제들이 2\n",
      "있는 2\n",
      "이제는 2\n",
      "yesterday 2\n",
      "갑자기 2\n",
      "그-림-자-가 2\n",
      "2021 2\n"
     ]
    }
   ],
   "source": [
    "#문제2-4의답\n",
    "newlist = rdd.flatMap(lambda x : x)\\\n",
    "    .map(lambda x : x.split())\\\n",
    "    .flatMap(lambda x : x)\\\n",
    "    .map(lambda x : (x,1))\\\n",
    "    .reduceByKey(lambda x,y: x+y)\\\n",
    "    .collect()\n",
    "for k,v in newlist:\n",
    "    if(v <= 1):\n",
    "        continue\n",
    "    if(len(k) <= 1):\n",
    "        continue\n",
    "    print(k, v)"
   ]
  },
  {
   "cell_type": "markdown",
   "id": "e4c0c7f4",
   "metadata": {},
   "source": [
    "## 문제 3: DataFrame을 사용해서 코로나 발생동향 분석\n",
    "\n",
    "서울시 열린데이터에서 검색을 하면 '서울특별시 코로나19 자치구별 확진자 발생동향'이 있다.\n",
    "\n",
    "https://data.seoul.go.kr/dataList/OA-20470/S/1/datasetView.do\n",
    "\n",
    "데이터를 '내려받기'해서 '서울특별시\\ 코로나19\\ 자치구별\\ 확진자\\ 발생동향.json' 파일을 분석하세요.\n",
    "\n"
   ]
  },
  {
   "cell_type": "markdown",
   "id": "7e6737d5",
   "metadata": {},
   "source": [
    "1) 전체 건수 출력. null 값을 제외한 null 건수 출력 (null이 남아있는지 확인하기 위해)"
   ]
  },
  {
   "cell_type": "code",
   "execution_count": 234,
   "id": "e5f88107",
   "metadata": {},
   "outputs": [
    {
     "name": "stdout",
     "output_type": "stream",
     "text": [
      "+---------------+---+------+------+---------+-------+----------+---+-----+---+------+-------+----------+--------+-----------+-------+----------+-------+----------+---------+------------+----+-------+------+---------+--------+-----------+------+------+---------+------+---------+--------+-----------+----+-------+-----+--------+---+------+------+---------+--------+-----------+---------+------------+------+---------+---------+---------+------------+---+------+-------+----------+\n",
      "|_corrupt_record|ddm|ddmadd|dobong|dobongadd|dongjak|dongjakadd| ep|epadd|etc|etcadd|gangbuk|gangbukadd|gangdong|gangdongadd|gangnam|gangnamadd|gangseo|gangseoadd|geumcheon|geumcheonadd|guro|guroadd|gwanak|gwanakadd|gwangjin|gwangjinadd|jcg_dt|jongno|jongnoadd|junggu|jungguadd|jungnang|jungnangadd|mapo|mapoadd|nowon|nowonadd|sdm|sdmadd|seocho|seochoadd|seongbuk|seongbukadd|seongdong|seongdongadd|songpa|songpaadd|work_dttm|yangcheon|yangcheonadd|ydp|ydpadd|yongsan|yongsanadd|\n",
      "+---------------+---+------+------+---------+-------+----------+---+-----+---+------+-------+----------+--------+-----------+-------+----------+-------+----------+---------+------------+----+-------+------+---------+--------+-----------+------+------+---------+------+---------+--------+-----------+----+-------+-----+--------+---+------+------+---------+--------+-----------+---------+------------+------+---------+---------+---------+------------+---+------+-------+----------+\n",
      "|            628| 28|    28|    28|       28|     28|        28| 28|   28| 28|    28|     28|        28|      28|         28|     28|        28|     28|        28|       28|          28|  28|     28|    28|       28|      28|         28|     5|    28|       28|    28|       28|      28|         28|  28|     28|   28|      28| 28|    28|    28|       28|      28|         28|       28|          28|    28|       28|      461|       28|          28| 28|    28|     28|        28|\n",
      "+---------------+---+------+------+---------+-------+----------+---+-----+---+------+-------+----------+--------+-----------+-------+----------+-------+----------+---------+------------+----+-------+------+---------+--------+-----------+------+------+---------+------+---------+--------+-----------+----+-------+-----+--------+---+------+------+---------+--------+-----------+---------+------------+------+---------+---------+---------+------------+---+------+-------+----------+\n",
      "\n"
     ]
    }
   ],
   "source": [
    "#문제3-1의답\n",
    "jfile= os.path.join('data','서울특별시 코로나19 자치구별 확진자 발생동향.json')\n",
    "covidDf= spark.read.json(jfile)\n",
    "cols = covidDf.columns\n",
    "from pyspark.sql.functions import isnan, when, count, col\n",
    "covidDf.select([count(when(isnan(c) | col(c).isNull(), c))\\\n",
    "             .alias(c) for c in cols])\\\n",
    "              .show()\n"
   ]
  },
  {
   "cell_type": "markdown",
   "id": "9688ffb7",
   "metadata": {},
   "source": [
    "2) (null제거하고) 종로, 마포, 용산, 합계 (종로, 마포, 용산) 10건 출력."
   ]
  },
  {
   "cell_type": "code",
   "execution_count": 235,
   "id": "412de281",
   "metadata": {},
   "outputs": [
    {
     "name": "stdout",
     "output_type": "stream",
     "text": [
      "+------+----+-------+\n",
      "|jongno|mapo|yongsan|\n",
      "+------+----+-------+\n",
      "|  null|null|   null|\n",
      "|  null|null|   null|\n",
      "|  null|null|   null|\n",
      "|  2036|4191|   3076|\n",
      "|  2023|4176|   3064|\n",
      "|  2008|4164|   3055|\n",
      "|  1989|4157|   3049|\n",
      "|  1977|4134|   3041|\n",
      "|  1968|4127|   3031|\n",
      "|  1958|4121|   3023|\n",
      "+------+----+-------+\n",
      "only showing top 10 rows\n",
      "\n"
     ]
    }
   ],
   "source": [
    "#문제3-2의답\n",
    "from pyspark.sql.functions import udf, array\n",
    "from pyspark.sql.types import IntegerType\n",
    "\n",
    "jmydf = covidDf.select('jongno', 'mapo', 'yongsan').show(10)"
   ]
  },
  {
   "cell_type": "markdown",
   "id": "4eeaa9af",
   "metadata": {},
   "source": [
    "3) (null제거하고) 종로구의 2020년 3월 데이터 출력."
   ]
  },
  {
   "cell_type": "code",
   "execution_count": 236,
   "id": "b8e987d6",
   "metadata": {
    "scrolled": true
   },
   "outputs": [
    {
     "name": "stdout",
     "output_type": "stream",
     "text": [
      "+-------------+------+\n",
      "|       jcg_dt|jongno|\n",
      "+-------------+------+\n",
      "|2020.03.31.10|    13|\n",
      "|2020.03.30.10|    13|\n",
      "|2020.03.29.10|    13|\n",
      "|2020.03.28.10|    13|\n",
      "|2020.03.27.00|    13|\n",
      "|2020.03.26.00|    13|\n",
      "|2020.03.25.00|    13|\n",
      "|2020.03.24.00|    12|\n",
      "|2020.03.23.00|    11|\n",
      "|2020.03.22.00|    11|\n",
      "|2020.03.21.00|    11|\n",
      "|2020.03.20.00|    11|\n",
      "|2020.03.19.00|    11|\n",
      "|2020.03.18.00|    11|\n",
      "|2020.03.17.10|    11|\n",
      "|2020.03.16.10|    11|\n",
      "|2020.03.15.10|    11|\n",
      "|2020.03.14.10|    11|\n",
      "|2020.03.13.10|    11|\n",
      "|2020.03.12.10|    11|\n",
      "+-------------+------+\n",
      "only showing top 20 rows\n",
      "\n"
     ]
    }
   ],
   "source": [
    "#문제3-3의답\n",
    "covidDf.where(covidDf['jcg_dt'].substr(0,7) =='2020.03').select(covidDf['jcg_dt'],covidDf['jongno']).show()"
   ]
  },
  {
   "cell_type": "markdown",
   "id": "e1b65e4e",
   "metadata": {},
   "source": [
    "4) (null제거하고) 년 x 월별 합계 10건 출력."
   ]
  },
  {
   "cell_type": "code",
   "execution_count": 237,
   "id": "b7db2c70",
   "metadata": {},
   "outputs": [
    {
     "name": "stdout",
     "output_type": "stream",
     "text": [
      "+-----+----+--------------+\n",
      "|month|2020|          2021|\n",
      "+-----+----+--------------+\n",
      "|   07|null|50419339301000|\n",
      "|   11|null|          null|\n",
      "|   01|null|          null|\n",
      "| null|null|          null|\n",
      "|   09|null|48952317052000|\n",
      "|   05|null|43776562485000|\n",
      "|   08|null|50502369731000|\n",
      "|   03|null|          null|\n",
      "|   02|null|          null|\n",
      "|   06|null|48713853000000|\n",
      "+-----+----+--------------+\n",
      "only showing top 10 rows\n",
      "\n"
     ]
    }
   ],
   "source": [
    "#문제3-4의답\n",
    "from pyspark.sql import functions as F\n",
    "\n",
    "covidDf =covidDf.withColumn('year', covidDf['jcg_dt'].substr(0,4)).withColumn('month',covidDf['jcg_dt'].substr(6,2))\n",
    "mydf= covidDf.groupBy('month').pivot('year').sum()\n",
    "mydf.drop('null','20').show(10)"
   ]
  },
  {
   "cell_type": "code",
   "execution_count": null,
   "id": "6cb99df9",
   "metadata": {},
   "outputs": [],
   "source": []
  }
 ],
 "metadata": {
  "kernelspec": {
   "display_name": "Python 3",
   "language": "python",
   "name": "python3"
  },
  "language_info": {
   "codemirror_mode": {
    "name": "ipython",
    "version": 3
   },
   "file_extension": ".py",
   "mimetype": "text/x-python",
   "name": "python",
   "nbconvert_exporter": "python",
   "pygments_lexer": "ipython3",
   "version": "3.8.8"
  }
 },
 "nbformat": 4,
 "nbformat_minor": 5
}
